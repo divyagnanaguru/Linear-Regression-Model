{
  "nbformat": 4,
  "nbformat_minor": 0,
  "metadata": {
    "colab": {
      "provenance": []
    },
    "kernelspec": {
      "name": "python3",
      "display_name": "Python 3"
    },
    "language_info": {
      "name": "python"
    }
  },
  "cells": [
    {
      "cell_type": "markdown",
      "source": [
        "# Car Price Prediction\n",
        "Data about the retail price of 2005 General Motors cars can be found in car_data.csv.\n",
        "\n",
        "The columns are:\n",
        "\n",
        "**Price:** suggested retail price of the used 2005 GM car in excellent condition.\n",
        "\n",
        "**Mileage:** number of miles the car has been driven.\n",
        "\n",
        "**Make:** manufacturer of the car such as Saturn, Pontiac, and Chevrolet.\n",
        "\n",
        "**Model:** specific models for each car manufacturer such as Ion, Vibe, Cavalier.\n",
        "\n",
        "**Trim (of car):** specific type of car model such as SE Sedan 4D, Quad Coupe 2D.\n",
        "\n",
        "**Type:** body type such as sedan, coupe, etc.\n",
        "\n",
        "**Cylinder:** number of cylinders in the engine.\n",
        "\n",
        "**Liter:** a more specific measure of engine size.\n",
        "\n",
        "**Doors:** number of doors.\n",
        "\n",
        "**Cruise:** indicator variable representing whether the car has cruise control (1 = cruise).\n",
        "\n",
        "**Sound:** indicator variable representing whether the car has upgraded speakers (1 = upgraded).\n",
        "\n",
        "**Leather:** indicator variable representing whether the car has leather seats (1 = leather).\n",
        "\n",
        "# Tasks, Part 1\n",
        "1. Find the linear regression equation for mileage vs price.\n",
        "2. Chart the original data and the equation on the chart.\n",
        "3. Find the equation's  R2  score (use the .score method) to determine whether the equation is a good fit for this data. (0.8 and greater is considered a strong correlation.)\n",
        "\n",
        "# Tasks, Part 2\n",
        "1. Use mileage, cylinders, liters, doors, cruise, sound, and leather to find the linear regression equation.\n",
        "2. Find the equation's  R2  score (use the .score method) to determine whether the equation is a good fit for this data. (0.8 and greater is considered a strong correlation.)\n",
        "3. Find the combination of the factors that is the best predictor for price.\n",
        "\n",
        "# Tasks, Hard Mode\n",
        "1. Research dummy variables in scikit-learn to see how to use the make, model, and body type.\n",
        "2. Find the best combination of factors to predict price."
      ],
      "metadata": {
        "id": "gJC6qDS6wBEs"
      }
    },
    {
      "cell_type": "markdown",
      "source": [
        "# Importing important libraries"
      ],
      "metadata": {
        "id": "NXhibj6dxLXm"
      }
    },
    {
      "cell_type": "code",
      "execution_count": 1,
      "metadata": {
        "id": "DJJHbsCLaDKA"
      },
      "outputs": [],
      "source": [
        "import pandas as pd\n",
        "import numpy as np\n",
        "import matplotlib.pyplot as plt\n",
        "import seaborn as sns"
      ]
    },
    {
      "cell_type": "markdown",
      "source": [
        "# Loading the dataset"
      ],
      "metadata": {
        "id": "G1njYcTcxO4z"
      }
    },
    {
      "cell_type": "code",
      "source": [
        "df = pd.read_csv('car_data.csv')"
      ],
      "metadata": {
        "id": "FJEbFQ7Yaccw"
      },
      "execution_count": 2,
      "outputs": []
    },
    {
      "cell_type": "markdown",
      "source": [
        "# Data cleaning"
      ],
      "metadata": {
        "id": "ojJ_sRBMxShz"
      }
    },
    {
      "cell_type": "code",
      "source": [
        "df.shape"
      ],
      "metadata": {
        "colab": {
          "base_uri": "https://localhost:8080/"
        },
        "id": "F50_YQuFacff",
        "outputId": "d22dfd48-b346-459a-b17d-b1edd7fbd934"
      },
      "execution_count": 3,
      "outputs": [
        {
          "output_type": "execute_result",
          "data": {
            "text/plain": [
              "(804, 12)"
            ]
          },
          "metadata": {},
          "execution_count": 3
        }
      ]
    },
    {
      "cell_type": "code",
      "source": [
        "df.head()"
      ],
      "metadata": {
        "colab": {
          "base_uri": "https://localhost:8080/",
          "height": 206
        },
        "id": "zYXiJm7MasEA",
        "outputId": "41d88c15-a7d8-44ba-a0eb-be559cc70940"
      },
      "execution_count": 4,
      "outputs": [
        {
          "output_type": "execute_result",
          "data": {
            "text/plain": [
              "          Price  Mileage   Make    Model      Trim   Type  Cylinder  Liter  \\\n",
              "0  17314.103129     8221  Buick  Century  Sedan 4D  Sedan         6    3.1   \n",
              "1  17542.036083     9135  Buick  Century  Sedan 4D  Sedan         6    3.1   \n",
              "2  16218.847862    13196  Buick  Century  Sedan 4D  Sedan         6    3.1   \n",
              "3  16336.913140    16342  Buick  Century  Sedan 4D  Sedan         6    3.1   \n",
              "4  16339.170324    19832  Buick  Century  Sedan 4D  Sedan         6    3.1   \n",
              "\n",
              "   Doors  Cruise  Sound  Leather  \n",
              "0      4       1      1        1  \n",
              "1      4       1      1        0  \n",
              "2      4       1      1        0  \n",
              "3      4       1      0        0  \n",
              "4      4       1      0        1  "
            ],
            "text/html": [
              "\n",
              "  <div id=\"df-a03738ce-1cca-42c7-880d-02e79b890bef\">\n",
              "    <div class=\"colab-df-container\">\n",
              "      <div>\n",
              "<style scoped>\n",
              "    .dataframe tbody tr th:only-of-type {\n",
              "        vertical-align: middle;\n",
              "    }\n",
              "\n",
              "    .dataframe tbody tr th {\n",
              "        vertical-align: top;\n",
              "    }\n",
              "\n",
              "    .dataframe thead th {\n",
              "        text-align: right;\n",
              "    }\n",
              "</style>\n",
              "<table border=\"1\" class=\"dataframe\">\n",
              "  <thead>\n",
              "    <tr style=\"text-align: right;\">\n",
              "      <th></th>\n",
              "      <th>Price</th>\n",
              "      <th>Mileage</th>\n",
              "      <th>Make</th>\n",
              "      <th>Model</th>\n",
              "      <th>Trim</th>\n",
              "      <th>Type</th>\n",
              "      <th>Cylinder</th>\n",
              "      <th>Liter</th>\n",
              "      <th>Doors</th>\n",
              "      <th>Cruise</th>\n",
              "      <th>Sound</th>\n",
              "      <th>Leather</th>\n",
              "    </tr>\n",
              "  </thead>\n",
              "  <tbody>\n",
              "    <tr>\n",
              "      <th>0</th>\n",
              "      <td>17314.103129</td>\n",
              "      <td>8221</td>\n",
              "      <td>Buick</td>\n",
              "      <td>Century</td>\n",
              "      <td>Sedan 4D</td>\n",
              "      <td>Sedan</td>\n",
              "      <td>6</td>\n",
              "      <td>3.1</td>\n",
              "      <td>4</td>\n",
              "      <td>1</td>\n",
              "      <td>1</td>\n",
              "      <td>1</td>\n",
              "    </tr>\n",
              "    <tr>\n",
              "      <th>1</th>\n",
              "      <td>17542.036083</td>\n",
              "      <td>9135</td>\n",
              "      <td>Buick</td>\n",
              "      <td>Century</td>\n",
              "      <td>Sedan 4D</td>\n",
              "      <td>Sedan</td>\n",
              "      <td>6</td>\n",
              "      <td>3.1</td>\n",
              "      <td>4</td>\n",
              "      <td>1</td>\n",
              "      <td>1</td>\n",
              "      <td>0</td>\n",
              "    </tr>\n",
              "    <tr>\n",
              "      <th>2</th>\n",
              "      <td>16218.847862</td>\n",
              "      <td>13196</td>\n",
              "      <td>Buick</td>\n",
              "      <td>Century</td>\n",
              "      <td>Sedan 4D</td>\n",
              "      <td>Sedan</td>\n",
              "      <td>6</td>\n",
              "      <td>3.1</td>\n",
              "      <td>4</td>\n",
              "      <td>1</td>\n",
              "      <td>1</td>\n",
              "      <td>0</td>\n",
              "    </tr>\n",
              "    <tr>\n",
              "      <th>3</th>\n",
              "      <td>16336.913140</td>\n",
              "      <td>16342</td>\n",
              "      <td>Buick</td>\n",
              "      <td>Century</td>\n",
              "      <td>Sedan 4D</td>\n",
              "      <td>Sedan</td>\n",
              "      <td>6</td>\n",
              "      <td>3.1</td>\n",
              "      <td>4</td>\n",
              "      <td>1</td>\n",
              "      <td>0</td>\n",
              "      <td>0</td>\n",
              "    </tr>\n",
              "    <tr>\n",
              "      <th>4</th>\n",
              "      <td>16339.170324</td>\n",
              "      <td>19832</td>\n",
              "      <td>Buick</td>\n",
              "      <td>Century</td>\n",
              "      <td>Sedan 4D</td>\n",
              "      <td>Sedan</td>\n",
              "      <td>6</td>\n",
              "      <td>3.1</td>\n",
              "      <td>4</td>\n",
              "      <td>1</td>\n",
              "      <td>0</td>\n",
              "      <td>1</td>\n",
              "    </tr>\n",
              "  </tbody>\n",
              "</table>\n",
              "</div>\n",
              "      <button class=\"colab-df-convert\" onclick=\"convertToInteractive('df-a03738ce-1cca-42c7-880d-02e79b890bef')\"\n",
              "              title=\"Convert this dataframe to an interactive table.\"\n",
              "              style=\"display:none;\">\n",
              "        \n",
              "  <svg xmlns=\"http://www.w3.org/2000/svg\" height=\"24px\"viewBox=\"0 0 24 24\"\n",
              "       width=\"24px\">\n",
              "    <path d=\"M0 0h24v24H0V0z\" fill=\"none\"/>\n",
              "    <path d=\"M18.56 5.44l.94 2.06.94-2.06 2.06-.94-2.06-.94-.94-2.06-.94 2.06-2.06.94zm-11 1L8.5 8.5l.94-2.06 2.06-.94-2.06-.94L8.5 2.5l-.94 2.06-2.06.94zm10 10l.94 2.06.94-2.06 2.06-.94-2.06-.94-.94-2.06-.94 2.06-2.06.94z\"/><path d=\"M17.41 7.96l-1.37-1.37c-.4-.4-.92-.59-1.43-.59-.52 0-1.04.2-1.43.59L10.3 9.45l-7.72 7.72c-.78.78-.78 2.05 0 2.83L4 21.41c.39.39.9.59 1.41.59.51 0 1.02-.2 1.41-.59l7.78-7.78 2.81-2.81c.8-.78.8-2.07 0-2.86zM5.41 20L4 18.59l7.72-7.72 1.47 1.35L5.41 20z\"/>\n",
              "  </svg>\n",
              "      </button>\n",
              "      \n",
              "  <style>\n",
              "    .colab-df-container {\n",
              "      display:flex;\n",
              "      flex-wrap:wrap;\n",
              "      gap: 12px;\n",
              "    }\n",
              "\n",
              "    .colab-df-convert {\n",
              "      background-color: #E8F0FE;\n",
              "      border: none;\n",
              "      border-radius: 50%;\n",
              "      cursor: pointer;\n",
              "      display: none;\n",
              "      fill: #1967D2;\n",
              "      height: 32px;\n",
              "      padding: 0 0 0 0;\n",
              "      width: 32px;\n",
              "    }\n",
              "\n",
              "    .colab-df-convert:hover {\n",
              "      background-color: #E2EBFA;\n",
              "      box-shadow: 0px 1px 2px rgba(60, 64, 67, 0.3), 0px 1px 3px 1px rgba(60, 64, 67, 0.15);\n",
              "      fill: #174EA6;\n",
              "    }\n",
              "\n",
              "    [theme=dark] .colab-df-convert {\n",
              "      background-color: #3B4455;\n",
              "      fill: #D2E3FC;\n",
              "    }\n",
              "\n",
              "    [theme=dark] .colab-df-convert:hover {\n",
              "      background-color: #434B5C;\n",
              "      box-shadow: 0px 1px 3px 1px rgba(0, 0, 0, 0.15);\n",
              "      filter: drop-shadow(0px 1px 2px rgba(0, 0, 0, 0.3));\n",
              "      fill: #FFFFFF;\n",
              "    }\n",
              "  </style>\n",
              "\n",
              "      <script>\n",
              "        const buttonEl =\n",
              "          document.querySelector('#df-a03738ce-1cca-42c7-880d-02e79b890bef button.colab-df-convert');\n",
              "        buttonEl.style.display =\n",
              "          google.colab.kernel.accessAllowed ? 'block' : 'none';\n",
              "\n",
              "        async function convertToInteractive(key) {\n",
              "          const element = document.querySelector('#df-a03738ce-1cca-42c7-880d-02e79b890bef');\n",
              "          const dataTable =\n",
              "            await google.colab.kernel.invokeFunction('convertToInteractive',\n",
              "                                                     [key], {});\n",
              "          if (!dataTable) return;\n",
              "\n",
              "          const docLinkHtml = 'Like what you see? Visit the ' +\n",
              "            '<a target=\"_blank\" href=https://colab.research.google.com/notebooks/data_table.ipynb>data table notebook</a>'\n",
              "            + ' to learn more about interactive tables.';\n",
              "          element.innerHTML = '';\n",
              "          dataTable['output_type'] = 'display_data';\n",
              "          await google.colab.output.renderOutput(dataTable, element);\n",
              "          const docLink = document.createElement('div');\n",
              "          docLink.innerHTML = docLinkHtml;\n",
              "          element.appendChild(docLink);\n",
              "        }\n",
              "      </script>\n",
              "    </div>\n",
              "  </div>\n",
              "  "
            ]
          },
          "metadata": {},
          "execution_count": 4
        }
      ]
    },
    {
      "cell_type": "code",
      "source": [
        "df.dtypes"
      ],
      "metadata": {
        "colab": {
          "base_uri": "https://localhost:8080/"
        },
        "id": "tmJM7i1qach-",
        "outputId": "e3bf1e30-ffea-42fc-db90-5f19e04591ee"
      },
      "execution_count": 5,
      "outputs": [
        {
          "output_type": "execute_result",
          "data": {
            "text/plain": [
              "Price       float64\n",
              "Mileage       int64\n",
              "Make         object\n",
              "Model        object\n",
              "Trim         object\n",
              "Type         object\n",
              "Cylinder      int64\n",
              "Liter       float64\n",
              "Doors         int64\n",
              "Cruise        int64\n",
              "Sound         int64\n",
              "Leather       int64\n",
              "dtype: object"
            ]
          },
          "metadata": {},
          "execution_count": 5
        }
      ]
    },
    {
      "cell_type": "code",
      "source": [
        "df.isnull().sum()"
      ],
      "metadata": {
        "colab": {
          "base_uri": "https://localhost:8080/"
        },
        "id": "SBZORUVvacmj",
        "outputId": "6cd959d7-5f52-4a38-8403-be8839b3f510"
      },
      "execution_count": 6,
      "outputs": [
        {
          "output_type": "execute_result",
          "data": {
            "text/plain": [
              "Price       0\n",
              "Mileage     0\n",
              "Make        0\n",
              "Model       0\n",
              "Trim        0\n",
              "Type        0\n",
              "Cylinder    0\n",
              "Liter       0\n",
              "Doors       0\n",
              "Cruise      0\n",
              "Sound       0\n",
              "Leather     0\n",
              "dtype: int64"
            ]
          },
          "metadata": {},
          "execution_count": 6
        }
      ]
    },
    {
      "cell_type": "code",
      "source": [
        "df = df.drop_duplicates()\n",
        "df.shape"
      ],
      "metadata": {
        "colab": {
          "base_uri": "https://localhost:8080/"
        },
        "id": "UI6k_qgpacoj",
        "outputId": "c2185e56-43a5-44b5-822b-cd03e7f7002d"
      },
      "execution_count": 7,
      "outputs": [
        {
          "output_type": "execute_result",
          "data": {
            "text/plain": [
              "(804, 12)"
            ]
          },
          "metadata": {},
          "execution_count": 7
        }
      ]
    },
    {
      "cell_type": "code",
      "source": [
        "df.describe()"
      ],
      "metadata": {
        "colab": {
          "base_uri": "https://localhost:8080/",
          "height": 300
        },
        "id": "gNfwiKaLackU",
        "outputId": "0712eaf3-ef20-44ce-d884-3a4efd76e2f5"
      },
      "execution_count": 8,
      "outputs": [
        {
          "output_type": "execute_result",
          "data": {
            "text/plain": [
              "              Price       Mileage    Cylinder       Liter       Doors  \\\n",
              "count    804.000000    804.000000  804.000000  804.000000  804.000000   \n",
              "mean   21343.143767  19831.934080    5.268657    3.037313    3.527363   \n",
              "std     9884.852801   8196.319707    1.387531    1.105562    0.850169   \n",
              "min     8638.930895    266.000000    4.000000    1.600000    2.000000   \n",
              "25%    14273.073870  14623.500000    4.000000    2.200000    4.000000   \n",
              "50%    18024.995019  20913.500000    6.000000    2.800000    4.000000   \n",
              "75%    26717.316636  25213.000000    6.000000    3.800000    4.000000   \n",
              "max    70755.466717  50387.000000    8.000000    6.000000    4.000000   \n",
              "\n",
              "           Cruise       Sound     Leather  \n",
              "count  804.000000  804.000000  804.000000  \n",
              "mean     0.752488    0.679104    0.723881  \n",
              "std      0.431836    0.467111    0.447355  \n",
              "min      0.000000    0.000000    0.000000  \n",
              "25%      1.000000    0.000000    0.000000  \n",
              "50%      1.000000    1.000000    1.000000  \n",
              "75%      1.000000    1.000000    1.000000  \n",
              "max      1.000000    1.000000    1.000000  "
            ],
            "text/html": [
              "\n",
              "  <div id=\"df-f4f335ac-aa40-4be6-b9e6-e39ecc918d57\">\n",
              "    <div class=\"colab-df-container\">\n",
              "      <div>\n",
              "<style scoped>\n",
              "    .dataframe tbody tr th:only-of-type {\n",
              "        vertical-align: middle;\n",
              "    }\n",
              "\n",
              "    .dataframe tbody tr th {\n",
              "        vertical-align: top;\n",
              "    }\n",
              "\n",
              "    .dataframe thead th {\n",
              "        text-align: right;\n",
              "    }\n",
              "</style>\n",
              "<table border=\"1\" class=\"dataframe\">\n",
              "  <thead>\n",
              "    <tr style=\"text-align: right;\">\n",
              "      <th></th>\n",
              "      <th>Price</th>\n",
              "      <th>Mileage</th>\n",
              "      <th>Cylinder</th>\n",
              "      <th>Liter</th>\n",
              "      <th>Doors</th>\n",
              "      <th>Cruise</th>\n",
              "      <th>Sound</th>\n",
              "      <th>Leather</th>\n",
              "    </tr>\n",
              "  </thead>\n",
              "  <tbody>\n",
              "    <tr>\n",
              "      <th>count</th>\n",
              "      <td>804.000000</td>\n",
              "      <td>804.000000</td>\n",
              "      <td>804.000000</td>\n",
              "      <td>804.000000</td>\n",
              "      <td>804.000000</td>\n",
              "      <td>804.000000</td>\n",
              "      <td>804.000000</td>\n",
              "      <td>804.000000</td>\n",
              "    </tr>\n",
              "    <tr>\n",
              "      <th>mean</th>\n",
              "      <td>21343.143767</td>\n",
              "      <td>19831.934080</td>\n",
              "      <td>5.268657</td>\n",
              "      <td>3.037313</td>\n",
              "      <td>3.527363</td>\n",
              "      <td>0.752488</td>\n",
              "      <td>0.679104</td>\n",
              "      <td>0.723881</td>\n",
              "    </tr>\n",
              "    <tr>\n",
              "      <th>std</th>\n",
              "      <td>9884.852801</td>\n",
              "      <td>8196.319707</td>\n",
              "      <td>1.387531</td>\n",
              "      <td>1.105562</td>\n",
              "      <td>0.850169</td>\n",
              "      <td>0.431836</td>\n",
              "      <td>0.467111</td>\n",
              "      <td>0.447355</td>\n",
              "    </tr>\n",
              "    <tr>\n",
              "      <th>min</th>\n",
              "      <td>8638.930895</td>\n",
              "      <td>266.000000</td>\n",
              "      <td>4.000000</td>\n",
              "      <td>1.600000</td>\n",
              "      <td>2.000000</td>\n",
              "      <td>0.000000</td>\n",
              "      <td>0.000000</td>\n",
              "      <td>0.000000</td>\n",
              "    </tr>\n",
              "    <tr>\n",
              "      <th>25%</th>\n",
              "      <td>14273.073870</td>\n",
              "      <td>14623.500000</td>\n",
              "      <td>4.000000</td>\n",
              "      <td>2.200000</td>\n",
              "      <td>4.000000</td>\n",
              "      <td>1.000000</td>\n",
              "      <td>0.000000</td>\n",
              "      <td>0.000000</td>\n",
              "    </tr>\n",
              "    <tr>\n",
              "      <th>50%</th>\n",
              "      <td>18024.995019</td>\n",
              "      <td>20913.500000</td>\n",
              "      <td>6.000000</td>\n",
              "      <td>2.800000</td>\n",
              "      <td>4.000000</td>\n",
              "      <td>1.000000</td>\n",
              "      <td>1.000000</td>\n",
              "      <td>1.000000</td>\n",
              "    </tr>\n",
              "    <tr>\n",
              "      <th>75%</th>\n",
              "      <td>26717.316636</td>\n",
              "      <td>25213.000000</td>\n",
              "      <td>6.000000</td>\n",
              "      <td>3.800000</td>\n",
              "      <td>4.000000</td>\n",
              "      <td>1.000000</td>\n",
              "      <td>1.000000</td>\n",
              "      <td>1.000000</td>\n",
              "    </tr>\n",
              "    <tr>\n",
              "      <th>max</th>\n",
              "      <td>70755.466717</td>\n",
              "      <td>50387.000000</td>\n",
              "      <td>8.000000</td>\n",
              "      <td>6.000000</td>\n",
              "      <td>4.000000</td>\n",
              "      <td>1.000000</td>\n",
              "      <td>1.000000</td>\n",
              "      <td>1.000000</td>\n",
              "    </tr>\n",
              "  </tbody>\n",
              "</table>\n",
              "</div>\n",
              "      <button class=\"colab-df-convert\" onclick=\"convertToInteractive('df-f4f335ac-aa40-4be6-b9e6-e39ecc918d57')\"\n",
              "              title=\"Convert this dataframe to an interactive table.\"\n",
              "              style=\"display:none;\">\n",
              "        \n",
              "  <svg xmlns=\"http://www.w3.org/2000/svg\" height=\"24px\"viewBox=\"0 0 24 24\"\n",
              "       width=\"24px\">\n",
              "    <path d=\"M0 0h24v24H0V0z\" fill=\"none\"/>\n",
              "    <path d=\"M18.56 5.44l.94 2.06.94-2.06 2.06-.94-2.06-.94-.94-2.06-.94 2.06-2.06.94zm-11 1L8.5 8.5l.94-2.06 2.06-.94-2.06-.94L8.5 2.5l-.94 2.06-2.06.94zm10 10l.94 2.06.94-2.06 2.06-.94-2.06-.94-.94-2.06-.94 2.06-2.06.94z\"/><path d=\"M17.41 7.96l-1.37-1.37c-.4-.4-.92-.59-1.43-.59-.52 0-1.04.2-1.43.59L10.3 9.45l-7.72 7.72c-.78.78-.78 2.05 0 2.83L4 21.41c.39.39.9.59 1.41.59.51 0 1.02-.2 1.41-.59l7.78-7.78 2.81-2.81c.8-.78.8-2.07 0-2.86zM5.41 20L4 18.59l7.72-7.72 1.47 1.35L5.41 20z\"/>\n",
              "  </svg>\n",
              "      </button>\n",
              "      \n",
              "  <style>\n",
              "    .colab-df-container {\n",
              "      display:flex;\n",
              "      flex-wrap:wrap;\n",
              "      gap: 12px;\n",
              "    }\n",
              "\n",
              "    .colab-df-convert {\n",
              "      background-color: #E8F0FE;\n",
              "      border: none;\n",
              "      border-radius: 50%;\n",
              "      cursor: pointer;\n",
              "      display: none;\n",
              "      fill: #1967D2;\n",
              "      height: 32px;\n",
              "      padding: 0 0 0 0;\n",
              "      width: 32px;\n",
              "    }\n",
              "\n",
              "    .colab-df-convert:hover {\n",
              "      background-color: #E2EBFA;\n",
              "      box-shadow: 0px 1px 2px rgba(60, 64, 67, 0.3), 0px 1px 3px 1px rgba(60, 64, 67, 0.15);\n",
              "      fill: #174EA6;\n",
              "    }\n",
              "\n",
              "    [theme=dark] .colab-df-convert {\n",
              "      background-color: #3B4455;\n",
              "      fill: #D2E3FC;\n",
              "    }\n",
              "\n",
              "    [theme=dark] .colab-df-convert:hover {\n",
              "      background-color: #434B5C;\n",
              "      box-shadow: 0px 1px 3px 1px rgba(0, 0, 0, 0.15);\n",
              "      filter: drop-shadow(0px 1px 2px rgba(0, 0, 0, 0.3));\n",
              "      fill: #FFFFFF;\n",
              "    }\n",
              "  </style>\n",
              "\n",
              "      <script>\n",
              "        const buttonEl =\n",
              "          document.querySelector('#df-f4f335ac-aa40-4be6-b9e6-e39ecc918d57 button.colab-df-convert');\n",
              "        buttonEl.style.display =\n",
              "          google.colab.kernel.accessAllowed ? 'block' : 'none';\n",
              "\n",
              "        async function convertToInteractive(key) {\n",
              "          const element = document.querySelector('#df-f4f335ac-aa40-4be6-b9e6-e39ecc918d57');\n",
              "          const dataTable =\n",
              "            await google.colab.kernel.invokeFunction('convertToInteractive',\n",
              "                                                     [key], {});\n",
              "          if (!dataTable) return;\n",
              "\n",
              "          const docLinkHtml = 'Like what you see? Visit the ' +\n",
              "            '<a target=\"_blank\" href=https://colab.research.google.com/notebooks/data_table.ipynb>data table notebook</a>'\n",
              "            + ' to learn more about interactive tables.';\n",
              "          element.innerHTML = '';\n",
              "          dataTable['output_type'] = 'display_data';\n",
              "          await google.colab.output.renderOutput(dataTable, element);\n",
              "          const docLink = document.createElement('div');\n",
              "          docLink.innerHTML = docLinkHtml;\n",
              "          element.appendChild(docLink);\n",
              "        }\n",
              "      </script>\n",
              "    </div>\n",
              "  </div>\n",
              "  "
            ]
          },
          "metadata": {},
          "execution_count": 8
        }
      ]
    },
    {
      "cell_type": "code",
      "source": [
        "# Mileage\n",
        "iqr = df['Mileage'].quantile(0.75) - df['Mileage'].quantile(0.25)\n",
        "print('IQR :',iqr)\n",
        "upper_threshold = df['Mileage'].quantile(0.75) + (1.5 * iqr)\n",
        "print('Upper Threshold :',upper_threshold)\n",
        "lower_threshold = df['Mileage'].quantile(0.25) - (1.5 * iqr)\n",
        "print('Lower Threshold :',lower_threshold)"
      ],
      "metadata": {
        "colab": {
          "base_uri": "https://localhost:8080/"
        },
        "id": "kcFV2P5WpXfu",
        "outputId": "494203c1-2acd-4ee2-bd0d-d088efe9dbe6"
      },
      "execution_count": 9,
      "outputs": [
        {
          "output_type": "stream",
          "name": "stdout",
          "text": [
            "IQR : 10589.5\n",
            "Upper Threshold : 41097.25\n",
            "Lower Threshold : -1260.75\n"
          ]
        }
      ]
    },
    {
      "cell_type": "code",
      "source": [
        "df['Mileage'] = df['Mileage'].clip(-1260.75, 41097.25)"
      ],
      "metadata": {
        "id": "LqivruoTpXcS"
      },
      "execution_count": 10,
      "outputs": []
    },
    {
      "cell_type": "code",
      "source": [
        "# Liter\n",
        "iqr = df['Liter'].quantile(0.75) - df['Liter'].quantile(0.25)\n",
        "print('IQR :',iqr)\n",
        "upper_threshold = df['Liter'].quantile(0.75) + (1.5 * iqr)\n",
        "print('Upper Threshold :',upper_threshold)\n",
        "lower_threshold = df['Liter'].quantile(0.25) - (1.5 * iqr)\n",
        "print('Lower Threshold :',lower_threshold)"
      ],
      "metadata": {
        "colab": {
          "base_uri": "https://localhost:8080/"
        },
        "id": "wDTltvjWpXZ0",
        "outputId": "3551bd7a-0e17-442c-c684-84e8c23f2fd5"
      },
      "execution_count": 11,
      "outputs": [
        {
          "output_type": "stream",
          "name": "stdout",
          "text": [
            "IQR : 1.5999999999999996\n",
            "Upper Threshold : 6.199999999999999\n",
            "Lower Threshold : -0.1999999999999993\n"
          ]
        }
      ]
    },
    {
      "cell_type": "markdown",
      "source": [
        "# EDA"
      ],
      "metadata": {
        "id": "SzXp4vf6xq1d"
      }
    },
    {
      "cell_type": "code",
      "source": [
        "# Mileage\n",
        "plt.hist(df['Mileage'], bins = 10)\n",
        "plt.title('Distribution of Mileage')\n",
        "plt.xlabel('Mileage')\n",
        "plt.ylabel('Frequency')\n",
        "plt.show()"
      ],
      "metadata": {
        "colab": {
          "base_uri": "https://localhost:8080/",
          "height": 295
        },
        "id": "GF6salx7kqXn",
        "outputId": "e579ffa3-49a7-4b4a-b69f-6dbd10fa1d9e"
      },
      "execution_count": 12,
      "outputs": [
        {
          "output_type": "display_data",
          "data": {
            "text/plain": [
              "<Figure size 432x288 with 1 Axes>"
            ],
            "image/png": "[encoded data removed]"
          },
          "metadata": {
            "needs_background": "light"
          }
        }
      ]
    },
    {
      "cell_type": "code",
      "source": [
        "# Make\n",
        "df['Make'].value_counts().plot(kind = 'bar')\n",
        "plt.title('Distribution of Make')\n",
        "plt.xlabel('Make')\n",
        "plt.ylabel('Count')\n",
        "plt.show()"
      ],
      "metadata": {
        "colab": {
          "base_uri": "https://localhost:8080/",
          "height": 333
        },
        "id": "gSnrQafSlTUu",
        "outputId": "1866d54c-a20f-48e6-9e21-3849cbf7f96b"
      },
      "execution_count": 13,
      "outputs": [
        {
          "output_type": "display_data",
          "data": {
            "text/plain": [
              "<Figure size 432x288 with 1 Axes>"
            ],
            "image/png": "[encoded data removed]"
          },
          "metadata": {
            "needs_background": "light"
          }
        }
      ]
    },
    {
      "cell_type": "code",
      "source": [
        "# Model\n",
        "df['Model'].value_counts().plot(kind = 'bar')\n",
        "plt.title('Distribution of Model')\n",
        "plt.xlabel('Model')\n",
        "plt.ylabel('Count')\n",
        "plt.show()"
      ],
      "metadata": {
        "colab": {
          "base_uri": "https://localhost:8080/",
          "height": 347
        },
        "id": "_XM2WvkimBuJ",
        "outputId": "6692b88d-ce33-432d-9fc2-ffc1e95d1306"
      },
      "execution_count": 14,
      "outputs": [
        {
          "output_type": "display_data",
          "data": {
            "text/plain": [
              "<Figure size 432x288 with 1 Axes>"
            ],
            "image/png": "[encoded data removed]"
          },
          "metadata": {
            "needs_background": "light"
          }
        }
      ]
    },
    {
      "cell_type": "code",
      "source": [
        "# Trim\n",
        "df['Trim'].value_counts().plot(kind = 'bar')\n",
        "plt.title('Distribution of Trim')\n",
        "plt.xlabel('Trim')\n",
        "plt.ylabel('Count')\n",
        "plt.show()"
      ],
      "metadata": {
        "colab": {
          "base_uri": "https://localhost:8080/",
          "height": 389
        },
        "id": "6VJMd0dXmJNH",
        "outputId": "2346859d-c30f-4ff2-f3df-b1c714045cf9"
      },
      "execution_count": 15,
      "outputs": [
        {
          "output_type": "display_data",
          "data": {
            "text/plain": [
              "<Figure size 432x288 with 1 Axes>"
            ],
            "image/png": "[encoded data removed]"
          },
          "metadata": {
            "needs_background": "light"
          }
        }
      ]
    },
    {
      "cell_type": "code",
      "source": [
        "# Type\n",
        "df['Type'].value_counts().plot(kind = 'bar')\n",
        "plt.title('Distribution of Type')\n",
        "plt.xlabel('Type')\n",
        "plt.ylabel('Count')\n",
        "plt.show()"
      ],
      "metadata": {
        "colab": {
          "base_uri": "https://localhost:8080/",
          "height": 343
        },
        "id": "bwjw5yi3mJJx",
        "outputId": "69d05e3a-2fe0-47c0-b8d9-e2b4214951d9"
      },
      "execution_count": 16,
      "outputs": [
        {
          "output_type": "display_data",
          "data": {
            "text/plain": [
              "<Figure size 432x288 with 1 Axes>"
            ],
            "image/png": "[encoded data removed]"
          },
          "metadata": {
            "needs_background": "light"
          }
        }
      ]
    },
    {
      "cell_type": "code",
      "source": [
        "# Cylinder\n",
        "df['Cylinder'].value_counts().plot(kind = 'bar')\n",
        "plt.title('Distribution of Cylinder')\n",
        "plt.xlabel('Cylinder')\n",
        "plt.ylabel('Frequency')\n",
        "plt.show()"
      ],
      "metadata": {
        "colab": {
          "base_uri": "https://localhost:8080/",
          "height": 292
        },
        "id": "HS16PqCxmJHS",
        "outputId": "eddcd51a-1d5e-4afc-c983-27246650d149"
      },
      "execution_count": 17,
      "outputs": [
        {
          "output_type": "display_data",
          "data": {
            "text/plain": [
              "<Figure size 432x288 with 1 Axes>"
            ],
            "image/png": "[encoded data removed]"
          },
          "metadata": {
            "needs_background": "light"
          }
        }
      ]
    },
    {
      "cell_type": "code",
      "source": [
        "# Liter\n",
        "plt.hist(df['Liter'], bins = 10)\n",
        "plt.title('Distribution of Liter')\n",
        "plt.xlabel('Liter')\n",
        "plt.ylabel('Frequency')\n",
        "plt.show()"
      ],
      "metadata": {
        "colab": {
          "base_uri": "https://localhost:8080/",
          "height": 295
        },
        "id": "tNSp6TIEmJFL",
        "outputId": "a48c935a-9b51-48e5-f38e-4e2f5088267b"
      },
      "execution_count": 18,
      "outputs": [
        {
          "output_type": "display_data",
          "data": {
            "text/plain": [
              "<Figure size 432x288 with 1 Axes>"
            ],
            "image/png": "[encoded data removed]"
          },
          "metadata": {
            "needs_background": "light"
          }
        }
      ]
    },
    {
      "cell_type": "code",
      "source": [
        "# Doors\n",
        "df['Doors'].value_counts().plot(kind = 'bar')\n",
        "plt.title('Distribution of Doors')\n",
        "plt.xlabel('Doors')\n",
        "plt.ylabel('Frequency')\n",
        "plt.show()"
      ],
      "metadata": {
        "colab": {
          "base_uri": "https://localhost:8080/",
          "height": 292
        },
        "id": "RRj8SIm9mJDQ",
        "outputId": "bdbda5ff-6dd5-4b9c-ad00-7d6f486fa7c5"
      },
      "execution_count": 19,
      "outputs": [
        {
          "output_type": "display_data",
          "data": {
            "text/plain": [
              "<Figure size 432x288 with 1 Axes>"
            ],
            "image/png": "[encoded data removed]"
          },
          "metadata": {
            "needs_background": "light"
          }
        }
      ]
    },
    {
      "cell_type": "code",
      "source": [
        "# Cruise\n",
        "df['Cruise'].value_counts().plot(kind = 'bar')\n",
        "plt.title('Distribution of Cruise')\n",
        "plt.xlabel('Cruise')\n",
        "plt.ylabel('Frequency')\n",
        "plt.show()"
      ],
      "metadata": {
        "colab": {
          "base_uri": "https://localhost:8080/",
          "height": 292
        },
        "id": "927fqDxmmJAr",
        "outputId": "0debe825-012a-4488-f40b-4d194c75184b"
      },
      "execution_count": 20,
      "outputs": [
        {
          "output_type": "display_data",
          "data": {
            "text/plain": [
              "<Figure size 432x288 with 1 Axes>"
            ],
            "image/png": "[encoded data removed]"
          },
          "metadata": {
            "needs_background": "light"
          }
        }
      ]
    },
    {
      "cell_type": "code",
      "source": [
        "# Sound\n",
        "df['Sound'].value_counts().plot(kind = 'bar')\n",
        "plt.title('Distribution of Sound')\n",
        "plt.xlabel('Sound')\n",
        "plt.ylabel('Frequency')\n",
        "plt.show()"
      ],
      "metadata": {
        "colab": {
          "base_uri": "https://localhost:8080/",
          "height": 292
        },
        "id": "3uQjM9iYmI-O",
        "outputId": "effc9c8b-6876-4802-e6cd-496c31d8c8f1"
      },
      "execution_count": 21,
      "outputs": [
        {
          "output_type": "display_data",
          "data": {
            "text/plain": [
              "<Figure size 432x288 with 1 Axes>"
            ],
            "image/png": "[encoded data removed]"
          },
          "metadata": {
            "needs_background": "light"
          }
        }
      ]
    },
    {
      "cell_type": "code",
      "source": [
        "# Leather\n",
        "df['Leather'].value_counts().plot(kind = 'bar')\n",
        "plt.title('Distribution of Leather')\n",
        "plt.xlabel('Leather')\n",
        "plt.ylabel('Frequency')\n",
        "plt.show()"
      ],
      "metadata": {
        "colab": {
          "base_uri": "https://localhost:8080/",
          "height": 292
        },
        "id": "zvmSa7Q7mI7H",
        "outputId": "1d73261f-c68a-4072-d781-140a87206a25"
      },
      "execution_count": 22,
      "outputs": [
        {
          "output_type": "display_data",
          "data": {
            "text/plain": [
              "<Figure size 432x288 with 1 Axes>"
            ],
            "image/png": "[encoded data removed]"
          },
          "metadata": {
            "needs_background": "light"
          }
        }
      ]
    },
    {
      "cell_type": "code",
      "source": [
        "# Mileage vs Price\n",
        "df.plot(x = 'Mileage', y = 'Price', style = 'o')\n",
        "plt.title('Mileage vs Price')\n",
        "plt.xlabel('Milage')\n",
        "plt.ylabel('Price')\n",
        "plt.show()"
      ],
      "metadata": {
        "colab": {
          "base_uri": "https://localhost:8080/",
          "height": 295
        },
        "id": "cnw7AOIFmI4n",
        "outputId": "13932abe-e835-41ed-b1d6-1ab5ddeae3e1"
      },
      "execution_count": 23,
      "outputs": [
        {
          "output_type": "display_data",
          "data": {
            "text/plain": [
              "<Figure size 432x288 with 1 Axes>"
            ],
            "image/png": "[encoded data removed]"
          },
          "metadata": {
            "needs_background": "light"
          }
        }
      ]
    },
    {
      "cell_type": "code",
      "source": [
        "df[['Mileage', 'Price']].corr()"
      ],
      "metadata": {
        "colab": {
          "base_uri": "https://localhost:8080/",
          "height": 112
        },
        "id": "2EKg4dekmI2B",
        "outputId": "f5ceb562-b336-4826-cc8c-f04136b410b2"
      },
      "execution_count": 24,
      "outputs": [
        {
          "output_type": "execute_result",
          "data": {
            "text/plain": [
              "          Mileage     Price\n",
              "Mileage  1.000000 -0.146283\n",
              "Price   -0.146283  1.000000"
            ],
            "text/html": [
              "\n",
              "  <div id=\"df-8b6e8f94-d102-4039-bd31-cd1523eba1b3\">\n",
              "    <div class=\"colab-df-container\">\n",
              "      <div>\n",
              "<style scoped>\n",
              "    .dataframe tbody tr th:only-of-type {\n",
              "        vertical-align: middle;\n",
              "    }\n",
              "\n",
              "    .dataframe tbody tr th {\n",
              "        vertical-align: top;\n",
              "    }\n",
              "\n",
              "    .dataframe thead th {\n",
              "        text-align: right;\n",
              "    }\n",
              "</style>\n",
              "<table border=\"1\" class=\"dataframe\">\n",
              "  <thead>\n",
              "    <tr style=\"text-align: right;\">\n",
              "      <th></th>\n",
              "      <th>Mileage</th>\n",
              "      <th>Price</th>\n",
              "    </tr>\n",
              "  </thead>\n",
              "  <tbody>\n",
              "    <tr>\n",
              "      <th>Mileage</th>\n",
              "      <td>1.000000</td>\n",
              "      <td>-0.146283</td>\n",
              "    </tr>\n",
              "    <tr>\n",
              "      <th>Price</th>\n",
              "      <td>-0.146283</td>\n",
              "      <td>1.000000</td>\n",
              "    </tr>\n",
              "  </tbody>\n",
              "</table>\n",
              "</div>\n",
              "      <button class=\"colab-df-convert\" onclick=\"convertToInteractive('df-8b6e8f94-d102-4039-bd31-cd1523eba1b3')\"\n",
              "              title=\"Convert this dataframe to an interactive table.\"\n",
              "              style=\"display:none;\">\n",
              "        \n",
              "  <svg xmlns=\"http://www.w3.org/2000/svg\" height=\"24px\"viewBox=\"0 0 24 24\"\n",
              "       width=\"24px\">\n",
              "    <path d=\"M0 0h24v24H0V0z\" fill=\"none\"/>\n",
              "    <path d=\"M18.56 5.44l.94 2.06.94-2.06 2.06-.94-2.06-.94-.94-2.06-.94 2.06-2.06.94zm-11 1L8.5 8.5l.94-2.06 2.06-.94-2.06-.94L8.5 2.5l-.94 2.06-2.06.94zm10 10l.94 2.06.94-2.06 2.06-.94-2.06-.94-.94-2.06-.94 2.06-2.06.94z\"/><path d=\"M17.41 7.96l-1.37-1.37c-.4-.4-.92-.59-1.43-.59-.52 0-1.04.2-1.43.59L10.3 9.45l-7.72 7.72c-.78.78-.78 2.05 0 2.83L4 21.41c.39.39.9.59 1.41.59.51 0 1.02-.2 1.41-.59l7.78-7.78 2.81-2.81c.8-.78.8-2.07 0-2.86zM5.41 20L4 18.59l7.72-7.72 1.47 1.35L5.41 20z\"/>\n",
              "  </svg>\n",
              "      </button>\n",
              "      \n",
              "  <style>\n",
              "    .colab-df-container {\n",
              "      display:flex;\n",
              "      flex-wrap:wrap;\n",
              "      gap: 12px;\n",
              "    }\n",
              "\n",
              "    .colab-df-convert {\n",
              "      background-color: #E8F0FE;\n",
              "      border: none;\n",
              "      border-radius: 50%;\n",
              "      cursor: pointer;\n",
              "      display: none;\n",
              "      fill: #1967D2;\n",
              "      height: 32px;\n",
              "      padding: 0 0 0 0;\n",
              "      width: 32px;\n",
              "    }\n",
              "\n",
              "    .colab-df-convert:hover {\n",
              "      background-color: #E2EBFA;\n",
              "      box-shadow: 0px 1px 2px rgba(60, 64, 67, 0.3), 0px 1px 3px 1px rgba(60, 64, 67, 0.15);\n",
              "      fill: #174EA6;\n",
              "    }\n",
              "\n",
              "    [theme=dark] .colab-df-convert {\n",
              "      background-color: #3B4455;\n",
              "      fill: #D2E3FC;\n",
              "    }\n",
              "\n",
              "    [theme=dark] .colab-df-convert:hover {\n",
              "      background-color: #434B5C;\n",
              "      box-shadow: 0px 1px 3px 1px rgba(0, 0, 0, 0.15);\n",
              "      filter: drop-shadow(0px 1px 2px rgba(0, 0, 0, 0.3));\n",
              "      fill: #FFFFFF;\n",
              "    }\n",
              "  </style>\n",
              "\n",
              "      <script>\n",
              "        const buttonEl =\n",
              "          document.querySelector('#df-8b6e8f94-d102-4039-bd31-cd1523eba1b3 button.colab-df-convert');\n",
              "        buttonEl.style.display =\n",
              "          google.colab.kernel.accessAllowed ? 'block' : 'none';\n",
              "\n",
              "        async function convertToInteractive(key) {\n",
              "          const element = document.querySelector('#df-8b6e8f94-d102-4039-bd31-cd1523eba1b3');\n",
              "          const dataTable =\n",
              "            await google.colab.kernel.invokeFunction('convertToInteractive',\n",
              "                                                     [key], {});\n",
              "          if (!dataTable) return;\n",
              "\n",
              "          const docLinkHtml = 'Like what you see? Visit the ' +\n",
              "            '<a target=\"_blank\" href=https://colab.research.google.com/notebooks/data_table.ipynb>data table notebook</a>'\n",
              "            + ' to learn more about interactive tables.';\n",
              "          element.innerHTML = '';\n",
              "          dataTable['output_type'] = 'display_data';\n",
              "          await google.colab.output.renderOutput(dataTable, element);\n",
              "          const docLink = document.createElement('div');\n",
              "          docLink.innerHTML = docLinkHtml;\n",
              "          element.appendChild(docLink);\n",
              "        }\n",
              "      </script>\n",
              "    </div>\n",
              "  </div>\n",
              "  "
            ]
          },
          "metadata": {},
          "execution_count": 24
        }
      ]
    },
    {
      "cell_type": "code",
      "source": [
        "# Make vs Price\n",
        "df.groupby('Make')['Price'].mean().plot()\n",
        "plt.title('Make vs Price')\n",
        "plt.xlabel('Make')\n",
        "plt.ylabel('Price')\n",
        "plt.show()"
      ],
      "metadata": {
        "colab": {
          "base_uri": "https://localhost:8080/",
          "height": 295
        },
        "id": "Th5UuhhQmIz0",
        "outputId": "b82faf97-784c-4fc6-ad40-3d51fd9e559d"
      },
      "execution_count": 25,
      "outputs": [
        {
          "output_type": "display_data",
          "data": {
            "text/plain": [
              "<Figure size 432x288 with 1 Axes>"
            ],
            "image/png": "[encoded data removed]"
          },
          "metadata": {
            "needs_background": "light"
          }
        }
      ]
    },
    {
      "cell_type": "code",
      "source": [
        "# Model vs Price\n",
        "df.groupby('Model')['Price'].mean().plot()\n",
        "plt.title('Model vs Price')\n",
        "plt.xlabel('Model')\n",
        "plt.ylabel('Price')\n",
        "plt.show()"
      ],
      "metadata": {
        "colab": {
          "base_uri": "https://localhost:8080/",
          "height": 295
        },
        "id": "AA0V42sJmIxR",
        "outputId": "1d485793-15b6-4837-90a8-405764362083"
      },
      "execution_count": 26,
      "outputs": [
        {
          "output_type": "display_data",
          "data": {
            "text/plain": [
              "<Figure size 432x288 with 1 Axes>"
            ],
            "image/png": "[encoded data removed]"
          },
          "metadata": {
            "needs_background": "light"
          }
        }
      ]
    },
    {
      "cell_type": "code",
      "source": [
        "# Trim vs Price\n",
        "df.groupby('Trim')['Price'].mean().plot()\n",
        "plt.title('Trim vs Price')\n",
        "plt.xlabel('Trim')\n",
        "plt.ylabel('Price')\n",
        "plt.show()"
      ],
      "metadata": {
        "colab": {
          "base_uri": "https://localhost:8080/",
          "height": 295
        },
        "id": "EK0jwEvQmIu7",
        "outputId": "9194af17-ed97-4d67-b383-b61406f48e93"
      },
      "execution_count": 27,
      "outputs": [
        {
          "output_type": "display_data",
          "data": {
            "text/plain": [
              "<Figure size 432x288 with 1 Axes>"
            ],
            "image/png": "[encoded data removed]"
          },
          "metadata": {
            "needs_background": "light"
          }
        }
      ]
    },
    {
      "cell_type": "code",
      "source": [
        "# Type vs Price\n",
        "df.groupby('Type')['Price'].mean().plot()\n",
        "plt.title('Type vs Price')\n",
        "plt.xlabel('Type')\n",
        "plt.ylabel('Price')\n",
        "plt.show()"
      ],
      "metadata": {
        "colab": {
          "base_uri": "https://localhost:8080/",
          "height": 295
        },
        "id": "UE2zf4pvacrC",
        "outputId": "234f26b7-8f5d-4ef0-d494-8935777ac1cc"
      },
      "execution_count": 28,
      "outputs": [
        {
          "output_type": "display_data",
          "data": {
            "text/plain": [
              "<Figure size 432x288 with 1 Axes>"
            ],
            "image/png": "[encoded data removed]"
          },
          "metadata": {
            "needs_background": "light"
          }
        }
      ]
    },
    {
      "cell_type": "code",
      "source": [
        "# Cylinder vs Price\n",
        "df.groupby('Cylinder')['Price'].mean().plot()\n",
        "plt.title('Cylinder vs Price')\n",
        "plt.xlabel('Cylinder')\n",
        "plt.ylabel('Price')\n",
        "plt.show()"
      ],
      "metadata": {
        "colab": {
          "base_uri": "https://localhost:8080/",
          "height": 295
        },
        "id": "Pm0gOqAItLnK",
        "outputId": "8aa4db93-fe5b-42df-9c44-c0d38408f7c4"
      },
      "execution_count": 29,
      "outputs": [
        {
          "output_type": "display_data",
          "data": {
            "text/plain": [
              "<Figure size 432x288 with 1 Axes>"
            ],
            "image/png": "[encoded data removed]"
          },
          "metadata": {
            "needs_background": "light"
          }
        }
      ]
    },
    {
      "cell_type": "code",
      "source": [
        "df[['Cylinder', 'Price']].corr()"
      ],
      "metadata": {
        "colab": {
          "base_uri": "https://localhost:8080/",
          "height": 112
        },
        "id": "us5fdHrhuB1Y",
        "outputId": "e1f9481b-e08f-4d2f-bca5-e3ff8e8a0cf5"
      },
      "execution_count": 30,
      "outputs": [
        {
          "output_type": "execute_result",
          "data": {
            "text/plain": [
              "          Cylinder     Price\n",
              "Cylinder  1.000000  0.569086\n",
              "Price     0.569086  1.000000"
            ],
            "text/html": [
              "\n",
              "  <div id=\"df-8b2bf5ce-1b90-4ab4-888a-10d681b2b465\">\n",
              "    <div class=\"colab-df-container\">\n",
              "      <div>\n",
              "<style scoped>\n",
              "    .dataframe tbody tr th:only-of-type {\n",
              "        vertical-align: middle;\n",
              "    }\n",
              "\n",
              "    .dataframe tbody tr th {\n",
              "        vertical-align: top;\n",
              "    }\n",
              "\n",
              "    .dataframe thead th {\n",
              "        text-align: right;\n",
              "    }\n",
              "</style>\n",
              "<table border=\"1\" class=\"dataframe\">\n",
              "  <thead>\n",
              "    <tr style=\"text-align: right;\">\n",
              "      <th></th>\n",
              "      <th>Cylinder</th>\n",
              "      <th>Price</th>\n",
              "    </tr>\n",
              "  </thead>\n",
              "  <tbody>\n",
              "    <tr>\n",
              "      <th>Cylinder</th>\n",
              "      <td>1.000000</td>\n",
              "      <td>0.569086</td>\n",
              "    </tr>\n",
              "    <tr>\n",
              "      <th>Price</th>\n",
              "      <td>0.569086</td>\n",
              "      <td>1.000000</td>\n",
              "    </tr>\n",
              "  </tbody>\n",
              "</table>\n",
              "</div>\n",
              "      <button class=\"colab-df-convert\" onclick=\"convertToInteractive('df-8b2bf5ce-1b90-4ab4-888a-10d681b2b465')\"\n",
              "              title=\"Convert this dataframe to an interactive table.\"\n",
              "              style=\"display:none;\">\n",
              "        \n",
              "  <svg xmlns=\"http://www.w3.org/2000/svg\" height=\"24px\"viewBox=\"0 0 24 24\"\n",
              "       width=\"24px\">\n",
              "    <path d=\"M0 0h24v24H0V0z\" fill=\"none\"/>\n",
              "    <path d=\"M18.56 5.44l.94 2.06.94-2.06 2.06-.94-2.06-.94-.94-2.06-.94 2.06-2.06.94zm-11 1L8.5 8.5l.94-2.06 2.06-.94-2.06-.94L8.5 2.5l-.94 2.06-2.06.94zm10 10l.94 2.06.94-2.06 2.06-.94-2.06-.94-.94-2.06-.94 2.06-2.06.94z\"/><path d=\"M17.41 7.96l-1.37-1.37c-.4-.4-.92-.59-1.43-.59-.52 0-1.04.2-1.43.59L10.3 9.45l-7.72 7.72c-.78.78-.78 2.05 0 2.83L4 21.41c.39.39.9.59 1.41.59.51 0 1.02-.2 1.41-.59l7.78-7.78 2.81-2.81c.8-.78.8-2.07 0-2.86zM5.41 20L4 18.59l7.72-7.72 1.47 1.35L5.41 20z\"/>\n",
              "  </svg>\n",
              "      </button>\n",
              "      \n",
              "  <style>\n",
              "    .colab-df-container {\n",
              "      display:flex;\n",
              "      flex-wrap:wrap;\n",
              "      gap: 12px;\n",
              "    }\n",
              "\n",
              "    .colab-df-convert {\n",
              "      background-color: #E8F0FE;\n",
              "      border: none;\n",
              "      border-radius: 50%;\n",
              "      cursor: pointer;\n",
              "      display: none;\n",
              "      fill: #1967D2;\n",
              "      height: 32px;\n",
              "      padding: 0 0 0 0;\n",
              "      width: 32px;\n",
              "    }\n",
              "\n",
              "    .colab-df-convert:hover {\n",
              "      background-color: #E2EBFA;\n",
              "      box-shadow: 0px 1px 2px rgba(60, 64, 67, 0.3), 0px 1px 3px 1px rgba(60, 64, 67, 0.15);\n",
              "      fill: #174EA6;\n",
              "    }\n",
              "\n",
              "    [theme=dark] .colab-df-convert {\n",
              "      background-color: #3B4455;\n",
              "      fill: #D2E3FC;\n",
              "    }\n",
              "\n",
              "    [theme=dark] .colab-df-convert:hover {\n",
              "      background-color: #434B5C;\n",
              "      box-shadow: 0px 1px 3px 1px rgba(0, 0, 0, 0.15);\n",
              "      filter: drop-shadow(0px 1px 2px rgba(0, 0, 0, 0.3));\n",
              "      fill: #FFFFFF;\n",
              "    }\n",
              "  </style>\n",
              "\n",
              "      <script>\n",
              "        const buttonEl =\n",
              "          document.querySelector('#df-8b2bf5ce-1b90-4ab4-888a-10d681b2b465 button.colab-df-convert');\n",
              "        buttonEl.style.display =\n",
              "          google.colab.kernel.accessAllowed ? 'block' : 'none';\n",
              "\n",
              "        async function convertToInteractive(key) {\n",
              "          const element = document.querySelector('#df-8b2bf5ce-1b90-4ab4-888a-10d681b2b465');\n",
              "          const dataTable =\n",
              "            await google.colab.kernel.invokeFunction('convertToInteractive',\n",
              "                                                     [key], {});\n",
              "          if (!dataTable) return;\n",
              "\n",
              "          const docLinkHtml = 'Like what you see? Visit the ' +\n",
              "            '<a target=\"_blank\" href=https://colab.research.google.com/notebooks/data_table.ipynb>data table notebook</a>'\n",
              "            + ' to learn more about interactive tables.';\n",
              "          element.innerHTML = '';\n",
              "          dataTable['output_type'] = 'display_data';\n",
              "          await google.colab.output.renderOutput(dataTable, element);\n",
              "          const docLink = document.createElement('div');\n",
              "          docLink.innerHTML = docLinkHtml;\n",
              "          element.appendChild(docLink);\n",
              "        }\n",
              "      </script>\n",
              "    </div>\n",
              "  </div>\n",
              "  "
            ]
          },
          "metadata": {},
          "execution_count": 30
        }
      ]
    },
    {
      "cell_type": "code",
      "source": [
        "# Liter vs Price\n",
        "df.groupby('Liter')['Price'].mean().plot()\n",
        "plt.title('Liter vs Price')\n",
        "plt.xlabel('Liter')\n",
        "plt.ylabel('Price')\n",
        "plt.show()"
      ],
      "metadata": {
        "colab": {
          "base_uri": "https://localhost:8080/",
          "height": 295
        },
        "id": "aymqaLLEtLjr",
        "outputId": "0d162023-7477-4196-e8bc-36fdbbabdc4a"
      },
      "execution_count": 31,
      "outputs": [
        {
          "output_type": "display_data",
          "data": {
            "text/plain": [
              "<Figure size 432x288 with 1 Axes>"
            ],
            "image/png": "[encoded data removed]"
          },
          "metadata": {
            "needs_background": "light"
          }
        }
      ]
    },
    {
      "cell_type": "code",
      "source": [
        "df[['Liter', 'Price']].corr()"
      ],
      "metadata": {
        "colab": {
          "base_uri": "https://localhost:8080/",
          "height": 112
        },
        "id": "xwn_ZMPnuIo1",
        "outputId": "418ee106-a44c-43fb-c5cd-113cd233f3f8"
      },
      "execution_count": 32,
      "outputs": [
        {
          "output_type": "execute_result",
          "data": {
            "text/plain": [
              "          Liter     Price\n",
              "Liter  1.000000  0.558146\n",
              "Price  0.558146  1.000000"
            ],
            "text/html": [
              "\n",
              "  <div id=\"df-b5caaefc-a3ac-4abd-ad07-d5f79bef7dbb\">\n",
              "    <div class=\"colab-df-container\">\n",
              "      <div>\n",
              "<style scoped>\n",
              "    .dataframe tbody tr th:only-of-type {\n",
              "        vertical-align: middle;\n",
              "    }\n",
              "\n",
              "    .dataframe tbody tr th {\n",
              "        vertical-align: top;\n",
              "    }\n",
              "\n",
              "    .dataframe thead th {\n",
              "        text-align: right;\n",
              "    }\n",
              "</style>\n",
              "<table border=\"1\" class=\"dataframe\">\n",
              "  <thead>\n",
              "    <tr style=\"text-align: right;\">\n",
              "      <th></th>\n",
              "      <th>Liter</th>\n",
              "      <th>Price</th>\n",
              "    </tr>\n",
              "  </thead>\n",
              "  <tbody>\n",
              "    <tr>\n",
              "      <th>Liter</th>\n",
              "      <td>1.000000</td>\n",
              "      <td>0.558146</td>\n",
              "    </tr>\n",
              "    <tr>\n",
              "      <th>Price</th>\n",
              "      <td>0.558146</td>\n",
              "      <td>1.000000</td>\n",
              "    </tr>\n",
              "  </tbody>\n",
              "</table>\n",
              "</div>\n",
              "      <button class=\"colab-df-convert\" onclick=\"convertToInteractive('df-b5caaefc-a3ac-4abd-ad07-d5f79bef7dbb')\"\n",
              "              title=\"Convert this dataframe to an interactive table.\"\n",
              "              style=\"display:none;\">\n",
              "        \n",
              "  <svg xmlns=\"http://www.w3.org/2000/svg\" height=\"24px\"viewBox=\"0 0 24 24\"\n",
              "       width=\"24px\">\n",
              "    <path d=\"M0 0h24v24H0V0z\" fill=\"none\"/>\n",
              "    <path d=\"M18.56 5.44l.94 2.06.94-2.06 2.06-.94-2.06-.94-.94-2.06-.94 2.06-2.06.94zm-11 1L8.5 8.5l.94-2.06 2.06-.94-2.06-.94L8.5 2.5l-.94 2.06-2.06.94zm10 10l.94 2.06.94-2.06 2.06-.94-2.06-.94-.94-2.06-.94 2.06-2.06.94z\"/><path d=\"M17.41 7.96l-1.37-1.37c-.4-.4-.92-.59-1.43-.59-.52 0-1.04.2-1.43.59L10.3 9.45l-7.72 7.72c-.78.78-.78 2.05 0 2.83L4 21.41c.39.39.9.59 1.41.59.51 0 1.02-.2 1.41-.59l7.78-7.78 2.81-2.81c.8-.78.8-2.07 0-2.86zM5.41 20L4 18.59l7.72-7.72 1.47 1.35L5.41 20z\"/>\n",
              "  </svg>\n",
              "      </button>\n",
              "      \n",
              "  <style>\n",
              "    .colab-df-container {\n",
              "      display:flex;\n",
              "      flex-wrap:wrap;\n",
              "      gap: 12px;\n",
              "    }\n",
              "\n",
              "    .colab-df-convert {\n",
              "      background-color: #E8F0FE;\n",
              "      border: none;\n",
              "      border-radius: 50%;\n",
              "      cursor: pointer;\n",
              "      display: none;\n",
              "      fill: #1967D2;\n",
              "      height: 32px;\n",
              "      padding: 0 0 0 0;\n",
              "      width: 32px;\n",
              "    }\n",
              "\n",
              "    .colab-df-convert:hover {\n",
              "      background-color: #E2EBFA;\n",
              "      box-shadow: 0px 1px 2px rgba(60, 64, 67, 0.3), 0px 1px 3px 1px rgba(60, 64, 67, 0.15);\n",
              "      fill: #174EA6;\n",
              "    }\n",
              "\n",
              "    [theme=dark] .colab-df-convert {\n",
              "      background-color: #3B4455;\n",
              "      fill: #D2E3FC;\n",
              "    }\n",
              "\n",
              "    [theme=dark] .colab-df-convert:hover {\n",
              "      background-color: #434B5C;\n",
              "      box-shadow: 0px 1px 3px 1px rgba(0, 0, 0, 0.15);\n",
              "      filter: drop-shadow(0px 1px 2px rgba(0, 0, 0, 0.3));\n",
              "      fill: #FFFFFF;\n",
              "    }\n",
              "  </style>\n",
              "\n",
              "      <script>\n",
              "        const buttonEl =\n",
              "          document.querySelector('#df-b5caaefc-a3ac-4abd-ad07-d5f79bef7dbb button.colab-df-convert');\n",
              "        buttonEl.style.display =\n",
              "          google.colab.kernel.accessAllowed ? 'block' : 'none';\n",
              "\n",
              "        async function convertToInteractive(key) {\n",
              "          const element = document.querySelector('#df-b5caaefc-a3ac-4abd-ad07-d5f79bef7dbb');\n",
              "          const dataTable =\n",
              "            await google.colab.kernel.invokeFunction('convertToInteractive',\n",
              "                                                     [key], {});\n",
              "          if (!dataTable) return;\n",
              "\n",
              "          const docLinkHtml = 'Like what you see? Visit the ' +\n",
              "            '<a target=\"_blank\" href=https://colab.research.google.com/notebooks/data_table.ipynb>data table notebook</a>'\n",
              "            + ' to learn more about interactive tables.';\n",
              "          element.innerHTML = '';\n",
              "          dataTable['output_type'] = 'display_data';\n",
              "          await google.colab.output.renderOutput(dataTable, element);\n",
              "          const docLink = document.createElement('div');\n",
              "          docLink.innerHTML = docLinkHtml;\n",
              "          element.appendChild(docLink);\n",
              "        }\n",
              "      </script>\n",
              "    </div>\n",
              "  </div>\n",
              "  "
            ]
          },
          "metadata": {},
          "execution_count": 32
        }
      ]
    },
    {
      "cell_type": "code",
      "source": [
        "# Doors vs Price\n",
        "df.groupby('Doors')['Price'].mean().plot()\n",
        "plt.title('Doors vs Price')\n",
        "plt.xlabel('Doors')\n",
        "plt.ylabel('Price')\n",
        "plt.show()"
      ],
      "metadata": {
        "colab": {
          "base_uri": "https://localhost:8080/",
          "height": 295
        },
        "id": "YDAC9pNAtLh8",
        "outputId": "a6f96e12-f695-4824-fba8-42a326393727"
      },
      "execution_count": 33,
      "outputs": [
        {
          "output_type": "display_data",
          "data": {
            "text/plain": [
              "<Figure size 432x288 with 1 Axes>"
            ],
            "image/png": "[encoded data removed]"
          },
          "metadata": {
            "needs_background": "light"
          }
        }
      ]
    },
    {
      "cell_type": "code",
      "source": [
        "df[['Doors', 'Price']].corr()"
      ],
      "metadata": {
        "colab": {
          "base_uri": "https://localhost:8080/",
          "height": 112
        },
        "id": "KPSWdGkjuLi_",
        "outputId": "9ce7b28c-5b87-433e-ccb3-98ac2920201e"
      },
      "execution_count": 34,
      "outputs": [
        {
          "output_type": "execute_result",
          "data": {
            "text/plain": [
              "         Doors    Price\n",
              "Doors  1.00000 -0.13875\n",
              "Price -0.13875  1.00000"
            ],
            "text/html": [
              "\n",
              "  <div id=\"df-e599e87d-314e-4415-8d77-028e9d01e925\">\n",
              "    <div class=\"colab-df-container\">\n",
              "      <div>\n",
              "<style scoped>\n",
              "    .dataframe tbody tr th:only-of-type {\n",
              "        vertical-align: middle;\n",
              "    }\n",
              "\n",
              "    .dataframe tbody tr th {\n",
              "        vertical-align: top;\n",
              "    }\n",
              "\n",
              "    .dataframe thead th {\n",
              "        text-align: right;\n",
              "    }\n",
              "</style>\n",
              "<table border=\"1\" class=\"dataframe\">\n",
              "  <thead>\n",
              "    <tr style=\"text-align: right;\">\n",
              "      <th></th>\n",
              "      <th>Doors</th>\n",
              "      <th>Price</th>\n",
              "    </tr>\n",
              "  </thead>\n",
              "  <tbody>\n",
              "    <tr>\n",
              "      <th>Doors</th>\n",
              "      <td>1.00000</td>\n",
              "      <td>-0.13875</td>\n",
              "    </tr>\n",
              "    <tr>\n",
              "      <th>Price</th>\n",
              "      <td>-0.13875</td>\n",
              "      <td>1.00000</td>\n",
              "    </tr>\n",
              "  </tbody>\n",
              "</table>\n",
              "</div>\n",
              "      <button class=\"colab-df-convert\" onclick=\"convertToInteractive('df-e599e87d-314e-4415-8d77-028e9d01e925')\"\n",
              "              title=\"Convert this dataframe to an interactive table.\"\n",
              "              style=\"display:none;\">\n",
              "        \n",
              "  <svg xmlns=\"http://www.w3.org/2000/svg\" height=\"24px\"viewBox=\"0 0 24 24\"\n",
              "       width=\"24px\">\n",
              "    <path d=\"M0 0h24v24H0V0z\" fill=\"none\"/>\n",
              "    <path d=\"M18.56 5.44l.94 2.06.94-2.06 2.06-.94-2.06-.94-.94-2.06-.94 2.06-2.06.94zm-11 1L8.5 8.5l.94-2.06 2.06-.94-2.06-.94L8.5 2.5l-.94 2.06-2.06.94zm10 10l.94 2.06.94-2.06 2.06-.94-2.06-.94-.94-2.06-.94 2.06-2.06.94z\"/><path d=\"M17.41 7.96l-1.37-1.37c-.4-.4-.92-.59-1.43-.59-.52 0-1.04.2-1.43.59L10.3 9.45l-7.72 7.72c-.78.78-.78 2.05 0 2.83L4 21.41c.39.39.9.59 1.41.59.51 0 1.02-.2 1.41-.59l7.78-7.78 2.81-2.81c.8-.78.8-2.07 0-2.86zM5.41 20L4 18.59l7.72-7.72 1.47 1.35L5.41 20z\"/>\n",
              "  </svg>\n",
              "      </button>\n",
              "      \n",
              "  <style>\n",
              "    .colab-df-container {\n",
              "      display:flex;\n",
              "      flex-wrap:wrap;\n",
              "      gap: 12px;\n",
              "    }\n",
              "\n",
              "    .colab-df-convert {\n",
              "      background-color: #E8F0FE;\n",
              "      border: none;\n",
              "      border-radius: 50%;\n",
              "      cursor: pointer;\n",
              "      display: none;\n",
              "      fill: #1967D2;\n",
              "      height: 32px;\n",
              "      padding: 0 0 0 0;\n",
              "      width: 32px;\n",
              "    }\n",
              "\n",
              "    .colab-df-convert:hover {\n",
              "      background-color: #E2EBFA;\n",
              "      box-shadow: 0px 1px 2px rgba(60, 64, 67, 0.3), 0px 1px 3px 1px rgba(60, 64, 67, 0.15);\n",
              "      fill: #174EA6;\n",
              "    }\n",
              "\n",
              "    [theme=dark] .colab-df-convert {\n",
              "      background-color: #3B4455;\n",
              "      fill: #D2E3FC;\n",
              "    }\n",
              "\n",
              "    [theme=dark] .colab-df-convert:hover {\n",
              "      background-color: #434B5C;\n",
              "      box-shadow: 0px 1px 3px 1px rgba(0, 0, 0, 0.15);\n",
              "      filter: drop-shadow(0px 1px 2px rgba(0, 0, 0, 0.3));\n",
              "      fill: #FFFFFF;\n",
              "    }\n",
              "  </style>\n",
              "\n",
              "      <script>\n",
              "        const buttonEl =\n",
              "          document.querySelector('#df-e599e87d-314e-4415-8d77-028e9d01e925 button.colab-df-convert');\n",
              "        buttonEl.style.display =\n",
              "          google.colab.kernel.accessAllowed ? 'block' : 'none';\n",
              "\n",
              "        async function convertToInteractive(key) {\n",
              "          const element = document.querySelector('#df-e599e87d-314e-4415-8d77-028e9d01e925');\n",
              "          const dataTable =\n",
              "            await google.colab.kernel.invokeFunction('convertToInteractive',\n",
              "                                                     [key], {});\n",
              "          if (!dataTable) return;\n",
              "\n",
              "          const docLinkHtml = 'Like what you see? Visit the ' +\n",
              "            '<a target=\"_blank\" href=https://colab.research.google.com/notebooks/data_table.ipynb>data table notebook</a>'\n",
              "            + ' to learn more about interactive tables.';\n",
              "          element.innerHTML = '';\n",
              "          dataTable['output_type'] = 'display_data';\n",
              "          await google.colab.output.renderOutput(dataTable, element);\n",
              "          const docLink = document.createElement('div');\n",
              "          docLink.innerHTML = docLinkHtml;\n",
              "          element.appendChild(docLink);\n",
              "        }\n",
              "      </script>\n",
              "    </div>\n",
              "  </div>\n",
              "  "
            ]
          },
          "metadata": {},
          "execution_count": 34
        }
      ]
    },
    {
      "cell_type": "code",
      "source": [
        "# Cruise vs Price\n",
        "df.groupby('Cruise')['Price'].mean().plot()\n",
        "plt.title('Cruise vs Price')\n",
        "plt.xlabel('Cruise')\n",
        "plt.ylabel('Price')\n",
        "plt.show()"
      ],
      "metadata": {
        "colab": {
          "base_uri": "https://localhost:8080/",
          "height": 295
        },
        "id": "_c-hJgUttLfO",
        "outputId": "2e1640de-1559-46cc-9687-eafe52a03561"
      },
      "execution_count": 35,
      "outputs": [
        {
          "output_type": "display_data",
          "data": {
            "text/plain": [
              "<Figure size 432x288 with 1 Axes>"
            ],
            "image/png": "[encoded data removed]"
          },
          "metadata": {
            "needs_background": "light"
          }
        }
      ]
    },
    {
      "cell_type": "code",
      "source": [
        "df[['Cruise', 'Price']].corr()"
      ],
      "metadata": {
        "colab": {
          "base_uri": "https://localhost:8080/",
          "height": 112
        },
        "id": "Dbq3bFgIuPHv",
        "outputId": "0f8105f4-6f06-4818-ff95-76bc47090956"
      },
      "execution_count": 36,
      "outputs": [
        {
          "output_type": "execute_result",
          "data": {
            "text/plain": [
              "          Cruise     Price\n",
              "Cruise  1.000000  0.430851\n",
              "Price   0.430851  1.000000"
            ],
            "text/html": [
              "\n",
              "  <div id=\"df-9696a416-4567-47f7-b0eb-5613b0a4964b\">\n",
              "    <div class=\"colab-df-container\">\n",
              "      <div>\n",
              "<style scoped>\n",
              "    .dataframe tbody tr th:only-of-type {\n",
              "        vertical-align: middle;\n",
              "    }\n",
              "\n",
              "    .dataframe tbody tr th {\n",
              "        vertical-align: top;\n",
              "    }\n",
              "\n",
              "    .dataframe thead th {\n",
              "        text-align: right;\n",
              "    }\n",
              "</style>\n",
              "<table border=\"1\" class=\"dataframe\">\n",
              "  <thead>\n",
              "    <tr style=\"text-align: right;\">\n",
              "      <th></th>\n",
              "      <th>Cruise</th>\n",
              "      <th>Price</th>\n",
              "    </tr>\n",
              "  </thead>\n",
              "  <tbody>\n",
              "    <tr>\n",
              "      <th>Cruise</th>\n",
              "      <td>1.000000</td>\n",
              "      <td>0.430851</td>\n",
              "    </tr>\n",
              "    <tr>\n",
              "      <th>Price</th>\n",
              "      <td>0.430851</td>\n",
              "      <td>1.000000</td>\n",
              "    </tr>\n",
              "  </tbody>\n",
              "</table>\n",
              "</div>\n",
              "      <button class=\"colab-df-convert\" onclick=\"convertToInteractive('df-9696a416-4567-47f7-b0eb-5613b0a4964b')\"\n",
              "              title=\"Convert this dataframe to an interactive table.\"\n",
              "              style=\"display:none;\">\n",
              "        \n",
              "  <svg xmlns=\"http://www.w3.org/2000/svg\" height=\"24px\"viewBox=\"0 0 24 24\"\n",
              "       width=\"24px\">\n",
              "    <path d=\"M0 0h24v24H0V0z\" fill=\"none\"/>\n",
              "    <path d=\"M18.56 5.44l.94 2.06.94-2.06 2.06-.94-2.06-.94-.94-2.06-.94 2.06-2.06.94zm-11 1L8.5 8.5l.94-2.06 2.06-.94-2.06-.94L8.5 2.5l-.94 2.06-2.06.94zm10 10l.94 2.06.94-2.06 2.06-.94-2.06-.94-.94-2.06-.94 2.06-2.06.94z\"/><path d=\"M17.41 7.96l-1.37-1.37c-.4-.4-.92-.59-1.43-.59-.52 0-1.04.2-1.43.59L10.3 9.45l-7.72 7.72c-.78.78-.78 2.05 0 2.83L4 21.41c.39.39.9.59 1.41.59.51 0 1.02-.2 1.41-.59l7.78-7.78 2.81-2.81c.8-.78.8-2.07 0-2.86zM5.41 20L4 18.59l7.72-7.72 1.47 1.35L5.41 20z\"/>\n",
              "  </svg>\n",
              "      </button>\n",
              "      \n",
              "  <style>\n",
              "    .colab-df-container {\n",
              "      display:flex;\n",
              "      flex-wrap:wrap;\n",
              "      gap: 12px;\n",
              "    }\n",
              "\n",
              "    .colab-df-convert {\n",
              "      background-color: #E8F0FE;\n",
              "      border: none;\n",
              "      border-radius: 50%;\n",
              "      cursor: pointer;\n",
              "      display: none;\n",
              "      fill: #1967D2;\n",
              "      height: 32px;\n",
              "      padding: 0 0 0 0;\n",
              "      width: 32px;\n",
              "    }\n",
              "\n",
              "    .colab-df-convert:hover {\n",
              "      background-color: #E2EBFA;\n",
              "      box-shadow: 0px 1px 2px rgba(60, 64, 67, 0.3), 0px 1px 3px 1px rgba(60, 64, 67, 0.15);\n",
              "      fill: #174EA6;\n",
              "    }\n",
              "\n",
              "    [theme=dark] .colab-df-convert {\n",
              "      background-color: #3B4455;\n",
              "      fill: #D2E3FC;\n",
              "    }\n",
              "\n",
              "    [theme=dark] .colab-df-convert:hover {\n",
              "      background-color: #434B5C;\n",
              "      box-shadow: 0px 1px 3px 1px rgba(0, 0, 0, 0.15);\n",
              "      filter: drop-shadow(0px 1px 2px rgba(0, 0, 0, 0.3));\n",
              "      fill: #FFFFFF;\n",
              "    }\n",
              "  </style>\n",
              "\n",
              "      <script>\n",
              "        const buttonEl =\n",
              "          document.querySelector('#df-9696a416-4567-47f7-b0eb-5613b0a4964b button.colab-df-convert');\n",
              "        buttonEl.style.display =\n",
              "          google.colab.kernel.accessAllowed ? 'block' : 'none';\n",
              "\n",
              "        async function convertToInteractive(key) {\n",
              "          const element = document.querySelector('#df-9696a416-4567-47f7-b0eb-5613b0a4964b');\n",
              "          const dataTable =\n",
              "            await google.colab.kernel.invokeFunction('convertToInteractive',\n",
              "                                                     [key], {});\n",
              "          if (!dataTable) return;\n",
              "\n",
              "          const docLinkHtml = 'Like what you see? Visit the ' +\n",
              "            '<a target=\"_blank\" href=https://colab.research.google.com/notebooks/data_table.ipynb>data table notebook</a>'\n",
              "            + ' to learn more about interactive tables.';\n",
              "          element.innerHTML = '';\n",
              "          dataTable['output_type'] = 'display_data';\n",
              "          await google.colab.output.renderOutput(dataTable, element);\n",
              "          const docLink = document.createElement('div');\n",
              "          docLink.innerHTML = docLinkHtml;\n",
              "          element.appendChild(docLink);\n",
              "        }\n",
              "      </script>\n",
              "    </div>\n",
              "  </div>\n",
              "  "
            ]
          },
          "metadata": {},
          "execution_count": 36
        }
      ]
    },
    {
      "cell_type": "code",
      "source": [
        "# Sound vs Price\n",
        "df.groupby('Sound')['Price'].mean().plot()\n",
        "plt.title('Sound vs Price')\n",
        "plt.xlabel('Sound')\n",
        "plt.ylabel('Price')\n",
        "plt.show()"
      ],
      "metadata": {
        "colab": {
          "base_uri": "https://localhost:8080/",
          "height": 295
        },
        "id": "0vu5blXYt0UU",
        "outputId": "e8d6f34b-4849-4ce2-e7d7-f325e7716ba2"
      },
      "execution_count": 37,
      "outputs": [
        {
          "output_type": "display_data",
          "data": {
            "text/plain": [
              "<Figure size 432x288 with 1 Axes>"
            ],
            "image/png": "[encoded data removed]"
          },
          "metadata": {
            "needs_background": "light"
          }
        }
      ]
    },
    {
      "cell_type": "code",
      "source": [
        "df[['Sound', 'Price']].corr()"
      ],
      "metadata": {
        "colab": {
          "base_uri": "https://localhost:8080/",
          "height": 112
        },
        "id": "80Vpwa7ouUwI",
        "outputId": "c0409d15-b47a-42ed-d121-987b9e57a159"
      },
      "execution_count": 38,
      "outputs": [
        {
          "output_type": "execute_result",
          "data": {
            "text/plain": [
              "          Sound     Price\n",
              "Sound  1.000000 -0.124348\n",
              "Price -0.124348  1.000000"
            ],
            "text/html": [
              "\n",
              "  <div id=\"df-78044cd2-12d7-49dc-9e5c-89ccb188dded\">\n",
              "    <div class=\"colab-df-container\">\n",
              "      <div>\n",
              "<style scoped>\n",
              "    .dataframe tbody tr th:only-of-type {\n",
              "        vertical-align: middle;\n",
              "    }\n",
              "\n",
              "    .dataframe tbody tr th {\n",
              "        vertical-align: top;\n",
              "    }\n",
              "\n",
              "    .dataframe thead th {\n",
              "        text-align: right;\n",
              "    }\n",
              "</style>\n",
              "<table border=\"1\" class=\"dataframe\">\n",
              "  <thead>\n",
              "    <tr style=\"text-align: right;\">\n",
              "      <th></th>\n",
              "      <th>Sound</th>\n",
              "      <th>Price</th>\n",
              "    </tr>\n",
              "  </thead>\n",
              "  <tbody>\n",
              "    <tr>\n",
              "      <th>Sound</th>\n",
              "      <td>1.000000</td>\n",
              "      <td>-0.124348</td>\n",
              "    </tr>\n",
              "    <tr>\n",
              "      <th>Price</th>\n",
              "      <td>-0.124348</td>\n",
              "      <td>1.000000</td>\n",
              "    </tr>\n",
              "  </tbody>\n",
              "</table>\n",
              "</div>\n",
              "      <button class=\"colab-df-convert\" onclick=\"convertToInteractive('df-78044cd2-12d7-49dc-9e5c-89ccb188dded')\"\n",
              "              title=\"Convert this dataframe to an interactive table.\"\n",
              "              style=\"display:none;\">\n",
              "        \n",
              "  <svg xmlns=\"http://www.w3.org/2000/svg\" height=\"24px\"viewBox=\"0 0 24 24\"\n",
              "       width=\"24px\">\n",
              "    <path d=\"M0 0h24v24H0V0z\" fill=\"none\"/>\n",
              "    <path d=\"M18.56 5.44l.94 2.06.94-2.06 2.06-.94-2.06-.94-.94-2.06-.94 2.06-2.06.94zm-11 1L8.5 8.5l.94-2.06 2.06-.94-2.06-.94L8.5 2.5l-.94 2.06-2.06.94zm10 10l.94 2.06.94-2.06 2.06-.94-2.06-.94-.94-2.06-.94 2.06-2.06.94z\"/><path d=\"M17.41 7.96l-1.37-1.37c-.4-.4-.92-.59-1.43-.59-.52 0-1.04.2-1.43.59L10.3 9.45l-7.72 7.72c-.78.78-.78 2.05 0 2.83L4 21.41c.39.39.9.59 1.41.59.51 0 1.02-.2 1.41-.59l7.78-7.78 2.81-2.81c.8-.78.8-2.07 0-2.86zM5.41 20L4 18.59l7.72-7.72 1.47 1.35L5.41 20z\"/>\n",
              "  </svg>\n",
              "      </button>\n",
              "      \n",
              "  <style>\n",
              "    .colab-df-container {\n",
              "      display:flex;\n",
              "      flex-wrap:wrap;\n",
              "      gap: 12px;\n",
              "    }\n",
              "\n",
              "    .colab-df-convert {\n",
              "      background-color: #E8F0FE;\n",
              "      border: none;\n",
              "      border-radius: 50%;\n",
              "      cursor: pointer;\n",
              "      display: none;\n",
              "      fill: #1967D2;\n",
              "      height: 32px;\n",
              "      padding: 0 0 0 0;\n",
              "      width: 32px;\n",
              "    }\n",
              "\n",
              "    .colab-df-convert:hover {\n",
              "      background-color: #E2EBFA;\n",
              "      box-shadow: 0px 1px 2px rgba(60, 64, 67, 0.3), 0px 1px 3px 1px rgba(60, 64, 67, 0.15);\n",
              "      fill: #174EA6;\n",
              "    }\n",
              "\n",
              "    [theme=dark] .colab-df-convert {\n",
              "      background-color: #3B4455;\n",
              "      fill: #D2E3FC;\n",
              "    }\n",
              "\n",
              "    [theme=dark] .colab-df-convert:hover {\n",
              "      background-color: #434B5C;\n",
              "      box-shadow: 0px 1px 3px 1px rgba(0, 0, 0, 0.15);\n",
              "      filter: drop-shadow(0px 1px 2px rgba(0, 0, 0, 0.3));\n",
              "      fill: #FFFFFF;\n",
              "    }\n",
              "  </style>\n",
              "\n",
              "      <script>\n",
              "        const buttonEl =\n",
              "          document.querySelector('#df-78044cd2-12d7-49dc-9e5c-89ccb188dded button.colab-df-convert');\n",
              "        buttonEl.style.display =\n",
              "          google.colab.kernel.accessAllowed ? 'block' : 'none';\n",
              "\n",
              "        async function convertToInteractive(key) {\n",
              "          const element = document.querySelector('#df-78044cd2-12d7-49dc-9e5c-89ccb188dded');\n",
              "          const dataTable =\n",
              "            await google.colab.kernel.invokeFunction('convertToInteractive',\n",
              "                                                     [key], {});\n",
              "          if (!dataTable) return;\n",
              "\n",
              "          const docLinkHtml = 'Like what you see? Visit the ' +\n",
              "            '<a target=\"_blank\" href=https://colab.research.google.com/notebooks/data_table.ipynb>data table notebook</a>'\n",
              "            + ' to learn more about interactive tables.';\n",
              "          element.innerHTML = '';\n",
              "          dataTable['output_type'] = 'display_data';\n",
              "          await google.colab.output.renderOutput(dataTable, element);\n",
              "          const docLink = document.createElement('div');\n",
              "          docLink.innerHTML = docLinkHtml;\n",
              "          element.appendChild(docLink);\n",
              "        }\n",
              "      </script>\n",
              "    </div>\n",
              "  </div>\n",
              "  "
            ]
          },
          "metadata": {},
          "execution_count": 38
        }
      ]
    },
    {
      "cell_type": "code",
      "source": [
        "# Leather vs Price\n",
        "df.groupby('Leather')['Price'].mean().plot()\n",
        "plt.title('Leather vs Price')\n",
        "plt.xlabel('Leather')\n",
        "plt.ylabel('Price')\n",
        "plt.show()"
      ],
      "metadata": {
        "colab": {
          "base_uri": "https://localhost:8080/",
          "height": 295
        },
        "id": "S54PQ_Skt0Qu",
        "outputId": "fb674886-d93d-45fd-ef76-4de722567163"
      },
      "execution_count": 39,
      "outputs": [
        {
          "output_type": "display_data",
          "data": {
            "text/plain": [
              "<Figure size 432x288 with 1 Axes>"
            ],
            "image/png": "[encoded data removed]"
          },
          "metadata": {
            "needs_background": "light"
          }
        }
      ]
    },
    {
      "cell_type": "code",
      "source": [
        "df[['Leather', 'Price']].corr()"
      ],
      "metadata": {
        "colab": {
          "base_uri": "https://localhost:8080/",
          "height": 112
        },
        "id": "ZSovPUBVuY4A",
        "outputId": "a4d12afd-965a-4dc2-ef3f-f9e9ade67097"
      },
      "execution_count": 40,
      "outputs": [
        {
          "output_type": "execute_result",
          "data": {
            "text/plain": [
              "          Leather     Price\n",
              "Leather  1.000000  0.157197\n",
              "Price    0.157197  1.000000"
            ],
            "text/html": [
              "\n",
              "  <div id=\"df-5cd06880-4499-43a1-8af7-e8c800d77a7a\">\n",
              "    <div class=\"colab-df-container\">\n",
              "      <div>\n",
              "<style scoped>\n",
              "    .dataframe tbody tr th:only-of-type {\n",
              "        vertical-align: middle;\n",
              "    }\n",
              "\n",
              "    .dataframe tbody tr th {\n",
              "        vertical-align: top;\n",
              "    }\n",
              "\n",
              "    .dataframe thead th {\n",
              "        text-align: right;\n",
              "    }\n",
              "</style>\n",
              "<table border=\"1\" class=\"dataframe\">\n",
              "  <thead>\n",
              "    <tr style=\"text-align: right;\">\n",
              "      <th></th>\n",
              "      <th>Leather</th>\n",
              "      <th>Price</th>\n",
              "    </tr>\n",
              "  </thead>\n",
              "  <tbody>\n",
              "    <tr>\n",
              "      <th>Leather</th>\n",
              "      <td>1.000000</td>\n",
              "      <td>0.157197</td>\n",
              "    </tr>\n",
              "    <tr>\n",
              "      <th>Price</th>\n",
              "      <td>0.157197</td>\n",
              "      <td>1.000000</td>\n",
              "    </tr>\n",
              "  </tbody>\n",
              "</table>\n",
              "</div>\n",
              "      <button class=\"colab-df-convert\" onclick=\"convertToInteractive('df-5cd06880-4499-43a1-8af7-e8c800d77a7a')\"\n",
              "              title=\"Convert this dataframe to an interactive table.\"\n",
              "              style=\"display:none;\">\n",
              "        \n",
              "  <svg xmlns=\"http://www.w3.org/2000/svg\" height=\"24px\"viewBox=\"0 0 24 24\"\n",
              "       width=\"24px\">\n",
              "    <path d=\"M0 0h24v24H0V0z\" fill=\"none\"/>\n",
              "    <path d=\"M18.56 5.44l.94 2.06.94-2.06 2.06-.94-2.06-.94-.94-2.06-.94 2.06-2.06.94zm-11 1L8.5 8.5l.94-2.06 2.06-.94-2.06-.94L8.5 2.5l-.94 2.06-2.06.94zm10 10l.94 2.06.94-2.06 2.06-.94-2.06-.94-.94-2.06-.94 2.06-2.06.94z\"/><path d=\"M17.41 7.96l-1.37-1.37c-.4-.4-.92-.59-1.43-.59-.52 0-1.04.2-1.43.59L10.3 9.45l-7.72 7.72c-.78.78-.78 2.05 0 2.83L4 21.41c.39.39.9.59 1.41.59.51 0 1.02-.2 1.41-.59l7.78-7.78 2.81-2.81c.8-.78.8-2.07 0-2.86zM5.41 20L4 18.59l7.72-7.72 1.47 1.35L5.41 20z\"/>\n",
              "  </svg>\n",
              "      </button>\n",
              "      \n",
              "  <style>\n",
              "    .colab-df-container {\n",
              "      display:flex;\n",
              "      flex-wrap:wrap;\n",
              "      gap: 12px;\n",
              "    }\n",
              "\n",
              "    .colab-df-convert {\n",
              "      background-color: #E8F0FE;\n",
              "      border: none;\n",
              "      border-radius: 50%;\n",
              "      cursor: pointer;\n",
              "      display: none;\n",
              "      fill: #1967D2;\n",
              "      height: 32px;\n",
              "      padding: 0 0 0 0;\n",
              "      width: 32px;\n",
              "    }\n",
              "\n",
              "    .colab-df-convert:hover {\n",
              "      background-color: #E2EBFA;\n",
              "      box-shadow: 0px 1px 2px rgba(60, 64, 67, 0.3), 0px 1px 3px 1px rgba(60, 64, 67, 0.15);\n",
              "      fill: #174EA6;\n",
              "    }\n",
              "\n",
              "    [theme=dark] .colab-df-convert {\n",
              "      background-color: #3B4455;\n",
              "      fill: #D2E3FC;\n",
              "    }\n",
              "\n",
              "    [theme=dark] .colab-df-convert:hover {\n",
              "      background-color: #434B5C;\n",
              "      box-shadow: 0px 1px 3px 1px rgba(0, 0, 0, 0.15);\n",
              "      filter: drop-shadow(0px 1px 2px rgba(0, 0, 0, 0.3));\n",
              "      fill: #FFFFFF;\n",
              "    }\n",
              "  </style>\n",
              "\n",
              "      <script>\n",
              "        const buttonEl =\n",
              "          document.querySelector('#df-5cd06880-4499-43a1-8af7-e8c800d77a7a button.colab-df-convert');\n",
              "        buttonEl.style.display =\n",
              "          google.colab.kernel.accessAllowed ? 'block' : 'none';\n",
              "\n",
              "        async function convertToInteractive(key) {\n",
              "          const element = document.querySelector('#df-5cd06880-4499-43a1-8af7-e8c800d77a7a');\n",
              "          const dataTable =\n",
              "            await google.colab.kernel.invokeFunction('convertToInteractive',\n",
              "                                                     [key], {});\n",
              "          if (!dataTable) return;\n",
              "\n",
              "          const docLinkHtml = 'Like what you see? Visit the ' +\n",
              "            '<a target=\"_blank\" href=https://colab.research.google.com/notebooks/data_table.ipynb>data table notebook</a>'\n",
              "            + ' to learn more about interactive tables.';\n",
              "          element.innerHTML = '';\n",
              "          dataTable['output_type'] = 'display_data';\n",
              "          await google.colab.output.renderOutput(dataTable, element);\n",
              "          const docLink = document.createElement('div');\n",
              "          docLink.innerHTML = docLinkHtml;\n",
              "          element.appendChild(docLink);\n",
              "        }\n",
              "      </script>\n",
              "    </div>\n",
              "  </div>\n",
              "  "
            ]
          },
          "metadata": {},
          "execution_count": 40
        }
      ]
    },
    {
      "cell_type": "code",
      "source": [
        "df.corr()"
      ],
      "metadata": {
        "colab": {
          "base_uri": "https://localhost:8080/",
          "height": 300
        },
        "id": "-Zg8jYxtacug",
        "outputId": "95c30e58-0f53-4436-b606-550815b76e5b"
      },
      "execution_count": 41,
      "outputs": [
        {
          "output_type": "execute_result",
          "data": {
            "text/plain": [
              "             Price   Mileage  Cylinder     Liter     Doors    Cruise  \\\n",
              "Price     1.000000 -0.146283  0.569086  0.558146 -0.138750  0.430851   \n",
              "Mileage  -0.146283  1.000000 -0.028069 -0.016878 -0.015384  0.023516   \n",
              "Cylinder  0.569086 -0.028069  1.000000  0.957897  0.002206  0.354285   \n",
              "Liter     0.558146 -0.016878  0.957897  1.000000 -0.079259  0.377509   \n",
              "Doors    -0.138750 -0.015384  0.002206 -0.079259  1.000000 -0.047674   \n",
              "Cruise    0.430851  0.023516  0.354285  0.377509 -0.047674  1.000000   \n",
              "Sound    -0.124348 -0.025447 -0.089704 -0.065527 -0.062530 -0.091730   \n",
              "Leather   0.157197 -0.000876  0.075520  0.087332 -0.061969 -0.070573   \n",
              "\n",
              "             Sound   Leather  \n",
              "Price    -0.124348  0.157197  \n",
              "Mileage  -0.025447 -0.000876  \n",
              "Cylinder -0.089704  0.075520  \n",
              "Liter    -0.065527  0.087332  \n",
              "Doors    -0.062530 -0.061969  \n",
              "Cruise   -0.091730 -0.070573  \n",
              "Sound     1.000000  0.165444  \n",
              "Leather   0.165444  1.000000  "
            ],
            "text/html": [
              "\n",
              "  <div id=\"df-0cc93259-8ba5-4d26-9181-cf4abf141b04\">\n",
              "    <div class=\"colab-df-container\">\n",
              "      <div>\n",
              "<style scoped>\n",
              "    .dataframe tbody tr th:only-of-type {\n",
              "        vertical-align: middle;\n",
              "    }\n",
              "\n",
              "    .dataframe tbody tr th {\n",
              "        vertical-align: top;\n",
              "    }\n",
              "\n",
              "    .dataframe thead th {\n",
              "        text-align: right;\n",
              "    }\n",
              "</style>\n",
              "<table border=\"1\" class=\"dataframe\">\n",
              "  <thead>\n",
              "    <tr style=\"text-align: right;\">\n",
              "      <th></th>\n",
              "      <th>Price</th>\n",
              "      <th>Mileage</th>\n",
              "      <th>Cylinder</th>\n",
              "      <th>Liter</th>\n",
              "      <th>Doors</th>\n",
              "      <th>Cruise</th>\n",
              "      <th>Sound</th>\n",
              "      <th>Leather</th>\n",
              "    </tr>\n",
              "  </thead>\n",
              "  <tbody>\n",
              "    <tr>\n",
              "      <th>Price</th>\n",
              "      <td>1.000000</td>\n",
              "      <td>-0.146283</td>\n",
              "      <td>0.569086</td>\n",
              "      <td>0.558146</td>\n",
              "      <td>-0.138750</td>\n",
              "      <td>0.430851</td>\n",
              "      <td>-0.124348</td>\n",
              "      <td>0.157197</td>\n",
              "    </tr>\n",
              "    <tr>\n",
              "      <th>Mileage</th>\n",
              "      <td>-0.146283</td>\n",
              "      <td>1.000000</td>\n",
              "      <td>-0.028069</td>\n",
              "      <td>-0.016878</td>\n",
              "      <td>-0.015384</td>\n",
              "      <td>0.023516</td>\n",
              "      <td>-0.025447</td>\n",
              "      <td>-0.000876</td>\n",
              "    </tr>\n",
              "    <tr>\n",
              "      <th>Cylinder</th>\n",
              "      <td>0.569086</td>\n",
              "      <td>-0.028069</td>\n",
              "      <td>1.000000</td>\n",
              "      <td>0.957897</td>\n",
              "      <td>0.002206</td>\n",
              "      <td>0.354285</td>\n",
              "      <td>-0.089704</td>\n",
              "      <td>0.075520</td>\n",
              "    </tr>\n",
              "    <tr>\n",
              "      <th>Liter</th>\n",
              "      <td>0.558146</td>\n",
              "      <td>-0.016878</td>\n",
              "      <td>0.957897</td>\n",
              "      <td>1.000000</td>\n",
              "      <td>-0.079259</td>\n",
              "      <td>0.377509</td>\n",
              "      <td>-0.065527</td>\n",
              "      <td>0.087332</td>\n",
              "    </tr>\n",
              "    <tr>\n",
              "      <th>Doors</th>\n",
              "      <td>-0.138750</td>\n",
              "      <td>-0.015384</td>\n",
              "      <td>0.002206</td>\n",
              "      <td>-0.079259</td>\n",
              "      <td>1.000000</td>\n",
              "      <td>-0.047674</td>\n",
              "      <td>-0.062530</td>\n",
              "      <td>-0.061969</td>\n",
              "    </tr>\n",
              "    <tr>\n",
              "      <th>Cruise</th>\n",
              "      <td>0.430851</td>\n",
              "      <td>0.023516</td>\n",
              "      <td>0.354285</td>\n",
              "      <td>0.377509</td>\n",
              "      <td>-0.047674</td>\n",
              "      <td>1.000000</td>\n",
              "      <td>-0.091730</td>\n",
              "      <td>-0.070573</td>\n",
              "    </tr>\n",
              "    <tr>\n",
              "      <th>Sound</th>\n",
              "      <td>-0.124348</td>\n",
              "      <td>-0.025447</td>\n",
              "      <td>-0.089704</td>\n",
              "      <td>-0.065527</td>\n",
              "      <td>-0.062530</td>\n",
              "      <td>-0.091730</td>\n",
              "      <td>1.000000</td>\n",
              "      <td>0.165444</td>\n",
              "    </tr>\n",
              "    <tr>\n",
              "      <th>Leather</th>\n",
              "      <td>0.157197</td>\n",
              "      <td>-0.000876</td>\n",
              "      <td>0.075520</td>\n",
              "      <td>0.087332</td>\n",
              "      <td>-0.061969</td>\n",
              "      <td>-0.070573</td>\n",
              "      <td>0.165444</td>\n",
              "      <td>1.000000</td>\n",
              "    </tr>\n",
              "  </tbody>\n",
              "</table>\n",
              "</div>\n",
              "      <button class=\"colab-df-convert\" onclick=\"convertToInteractive('df-0cc93259-8ba5-4d26-9181-cf4abf141b04')\"\n",
              "              title=\"Convert this dataframe to an interactive table.\"\n",
              "              style=\"display:none;\">\n",
              "        \n",
              "  <svg xmlns=\"http://www.w3.org/2000/svg\" height=\"24px\"viewBox=\"0 0 24 24\"\n",
              "       width=\"24px\">\n",
              "    <path d=\"M0 0h24v24H0V0z\" fill=\"none\"/>\n",
              "    <path d=\"M18.56 5.44l.94 2.06.94-2.06 2.06-.94-2.06-.94-.94-2.06-.94 2.06-2.06.94zm-11 1L8.5 8.5l.94-2.06 2.06-.94-2.06-.94L8.5 2.5l-.94 2.06-2.06.94zm10 10l.94 2.06.94-2.06 2.06-.94-2.06-.94-.94-2.06-.94 2.06-2.06.94z\"/><path d=\"M17.41 7.96l-1.37-1.37c-.4-.4-.92-.59-1.43-.59-.52 0-1.04.2-1.43.59L10.3 9.45l-7.72 7.72c-.78.78-.78 2.05 0 2.83L4 21.41c.39.39.9.59 1.41.59.51 0 1.02-.2 1.41-.59l7.78-7.78 2.81-2.81c.8-.78.8-2.07 0-2.86zM5.41 20L4 18.59l7.72-7.72 1.47 1.35L5.41 20z\"/>\n",
              "  </svg>\n",
              "      </button>\n",
              "      \n",
              "  <style>\n",
              "    .colab-df-container {\n",
              "      display:flex;\n",
              "      flex-wrap:wrap;\n",
              "      gap: 12px;\n",
              "    }\n",
              "\n",
              "    .colab-df-convert {\n",
              "      background-color: #E8F0FE;\n",
              "      border: none;\n",
              "      border-radius: 50%;\n",
              "      cursor: pointer;\n",
              "      display: none;\n",
              "      fill: #1967D2;\n",
              "      height: 32px;\n",
              "      padding: 0 0 0 0;\n",
              "      width: 32px;\n",
              "    }\n",
              "\n",
              "    .colab-df-convert:hover {\n",
              "      background-color: #E2EBFA;\n",
              "      box-shadow: 0px 1px 2px rgba(60, 64, 67, 0.3), 0px 1px 3px 1px rgba(60, 64, 67, 0.15);\n",
              "      fill: #174EA6;\n",
              "    }\n",
              "\n",
              "    [theme=dark] .colab-df-convert {\n",
              "      background-color: #3B4455;\n",
              "      fill: #D2E3FC;\n",
              "    }\n",
              "\n",
              "    [theme=dark] .colab-df-convert:hover {\n",
              "      background-color: #434B5C;\n",
              "      box-shadow: 0px 1px 3px 1px rgba(0, 0, 0, 0.15);\n",
              "      filter: drop-shadow(0px 1px 2px rgba(0, 0, 0, 0.3));\n",
              "      fill: #FFFFFF;\n",
              "    }\n",
              "  </style>\n",
              "\n",
              "      <script>\n",
              "        const buttonEl =\n",
              "          document.querySelector('#df-0cc93259-8ba5-4d26-9181-cf4abf141b04 button.colab-df-convert');\n",
              "        buttonEl.style.display =\n",
              "          google.colab.kernel.accessAllowed ? 'block' : 'none';\n",
              "\n",
              "        async function convertToInteractive(key) {\n",
              "          const element = document.querySelector('#df-0cc93259-8ba5-4d26-9181-cf4abf141b04');\n",
              "          const dataTable =\n",
              "            await google.colab.kernel.invokeFunction('convertToInteractive',\n",
              "                                                     [key], {});\n",
              "          if (!dataTable) return;\n",
              "\n",
              "          const docLinkHtml = 'Like what you see? Visit the ' +\n",
              "            '<a target=\"_blank\" href=https://colab.research.google.com/notebooks/data_table.ipynb>data table notebook</a>'\n",
              "            + ' to learn more about interactive tables.';\n",
              "          element.innerHTML = '';\n",
              "          dataTable['output_type'] = 'display_data';\n",
              "          await google.colab.output.renderOutput(dataTable, element);\n",
              "          const docLink = document.createElement('div');\n",
              "          docLink.innerHTML = docLinkHtml;\n",
              "          element.appendChild(docLink);\n",
              "        }\n",
              "      </script>\n",
              "    </div>\n",
              "  </div>\n",
              "  "
            ]
          },
          "metadata": {},
          "execution_count": 41
        }
      ]
    },
    {
      "cell_type": "code",
      "source": [
        "sns.heatmap(df.corr(), annot = True)\n",
        "plt.show()"
      ],
      "metadata": {
        "colab": {
          "base_uri": "https://localhost:8080/",
          "height": 301
        },
        "id": "n44cooxi5VfY",
        "outputId": "86beab77-1b00-425d-f6b5-1407fe30897f"
      },
      "execution_count": 42,
      "outputs": [
        {
          "output_type": "display_data",
          "data": {
            "text/plain": [
              "<Figure size 432x288 with 2 Axes>"
            ],
            "image/png": "[encoded data removed]"
          },
          "metadata": {
            "needs_background": "light"
          }
        }
      ]
    },
    {
      "cell_type": "markdown",
      "source": [
        "As we can see from the correlation table above, only Cylinder, Liter, Cruise have positive correlation and these features can only be used in linear regression model. Since, the problem statement asks specific features to be considered for model training, we'll go with the problem statement."
      ],
      "metadata": {
        "id": "JI22NwTqh-9s"
      }
    },
    {
      "cell_type": "markdown",
      "source": [
        "# Task 1"
      ],
      "metadata": {
        "id": "Gs1b69Pl85Ls"
      }
    },
    {
      "cell_type": "markdown",
      "source": [
        "# Data preprocessing"
      ],
      "metadata": {
        "id": "p8ZrMg_w5nFU"
      }
    },
    {
      "cell_type": "code",
      "source": [
        "X = df[['Mileage']].values\n",
        "y = df['Price'].values"
      ],
      "metadata": {
        "id": "nJ-vdZG4bzsJ"
      },
      "execution_count": 43,
      "outputs": []
    },
    {
      "cell_type": "code",
      "source": [
        "from sklearn.model_selection import train_test_split \n",
        "X_train, X_test, y_train, y_test = train_test_split(X, y, test_size=0.3, random_state = 55)"
      ],
      "metadata": {
        "id": "Amqx6Zxqbzuv"
      },
      "execution_count": 44,
      "outputs": []
    },
    {
      "cell_type": "code",
      "source": [
        "X_train.shape, X_test.shape"
      ],
      "metadata": {
        "colab": {
          "base_uri": "https://localhost:8080/"
        },
        "id": "veLCBkSjbzxG",
        "outputId": "4ce958e9-f794-42b9-d126-2a92cc117a4e"
      },
      "execution_count": 45,
      "outputs": [
        {
          "output_type": "execute_result",
          "data": {
            "text/plain": [
              "((562, 1), (242, 1))"
            ]
          },
          "metadata": {},
          "execution_count": 45
        }
      ]
    },
    {
      "cell_type": "code",
      "source": [
        "from sklearn.preprocessing import StandardScaler\n",
        "scaler = StandardScaler()\n",
        "scaler.fit(X_train)\n",
        "X_train_scaled = scaler.transform(X_train)\n",
        "X_test_scaled = scaler.transform(X_test)"
      ],
      "metadata": {
        "id": "h7ScseQV7URw"
      },
      "execution_count": 46,
      "outputs": []
    },
    {
      "cell_type": "markdown",
      "source": [
        "# Model training"
      ],
      "metadata": {
        "id": "fRzYWNbz8R7Z"
      }
    },
    {
      "cell_type": "code",
      "source": [
        "from sklearn.linear_model import LinearRegression \n",
        "regressor = LinearRegression() \n",
        "regressor.fit(X_train_scaled, y_train)"
      ],
      "metadata": {
        "colab": {
          "base_uri": "https://localhost:8080/"
        },
        "id": "2Tt-FwBjbzzL",
        "outputId": "9f71b5e1-e69d-4b5f-a871-975a8320ef55"
      },
      "execution_count": 47,
      "outputs": [
        {
          "output_type": "execute_result",
          "data": {
            "text/plain": [
              "LinearRegression()"
            ]
          },
          "metadata": {},
          "execution_count": 47
        }
      ]
    },
    {
      "cell_type": "code",
      "source": [
        "print(regressor.intercept_)"
      ],
      "metadata": {
        "colab": {
          "base_uri": "https://localhost:8080/"
        },
        "id": "X1zgx9mxc_5W",
        "outputId": "536d77ab-e78e-4e6b-edeb-c45280aa1a2e"
      },
      "execution_count": 48,
      "outputs": [
        {
          "output_type": "stream",
          "name": "stdout",
          "text": [
            "21364.51518441336\n"
          ]
        }
      ]
    },
    {
      "cell_type": "code",
      "source": [
        "print(regressor.coef_)"
      ],
      "metadata": {
        "colab": {
          "base_uri": "https://localhost:8080/"
        },
        "id": "fS6AHcZ7c_7Z",
        "outputId": "b653ed50-e204-4cd1-afb5-9aacd6b526b5"
      },
      "execution_count": 49,
      "outputs": [
        {
          "output_type": "stream",
          "name": "stdout",
          "text": [
            "[-1088.92366269]\n"
          ]
        }
      ]
    },
    {
      "cell_type": "code",
      "source": [
        "print('Linear Regression Equation: y = {:.4f} * x + {:.4f}'\n",
        "      .format(regressor.coef_[0], regressor.intercept_))"
      ],
      "metadata": {
        "colab": {
          "base_uri": "https://localhost:8080/"
        },
        "id": "CcUqq3Lgc_-2",
        "outputId": "7471a1a9-7ffe-49a8-85e3-d9f0e5ac51cd"
      },
      "execution_count": 50,
      "outputs": [
        {
          "output_type": "stream",
          "name": "stdout",
          "text": [
            "Linear Regression Equation: y = -1088.9237 * x + 21364.5152\n"
          ]
        }
      ]
    },
    {
      "cell_type": "markdown",
      "source": [
        "# Prediction"
      ],
      "metadata": {
        "id": "ke2sU3CZ8aK9"
      }
    },
    {
      "cell_type": "code",
      "source": [
        "y_pred = regressor.predict(X_test_scaled)"
      ],
      "metadata": {
        "id": "QaReRpHKdZx6"
      },
      "execution_count": 51,
      "outputs": []
    },
    {
      "cell_type": "code",
      "source": [
        "df1 = pd.DataFrame({'Actual' : y_test, 'Predicted' : y_pred})\n",
        "df1"
      ],
      "metadata": {
        "colab": {
          "base_uri": "https://localhost:8080/",
          "height": 424
        },
        "id": "6L-iVBvUdZ0C",
        "outputId": "a89110c4-791c-41d6-bc5f-6fbc1af9de4e"
      },
      "execution_count": 52,
      "outputs": [
        {
          "output_type": "execute_result",
          "data": {
            "text/plain": [
              "           Actual     Predicted\n",
              "0    16472.897648  21080.468901\n",
              "1    16927.779761  23563.549342\n",
              "2    26775.032089  21742.597131\n",
              "3    24852.495281  20929.242903\n",
              "4    11873.533995  20187.850475\n",
              "..            ...           ...\n",
              "237  20109.904121  20919.019547\n",
              "238  20512.094091  21749.899528\n",
              "239  23573.822002  22303.155661\n",
              "240  12045.920705  21417.574090\n",
              "241  38600.239561  21682.850249\n",
              "\n",
              "[242 rows x 2 columns]"
            ],
            "text/html": [
              "\n",
              "  <div id=\"df-21b6de3e-f7ac-4d19-908c-bdf74fb66b09\">\n",
              "    <div class=\"colab-df-container\">\n",
              "      <div>\n",
              "<style scoped>\n",
              "    .dataframe tbody tr th:only-of-type {\n",
              "        vertical-align: middle;\n",
              "    }\n",
              "\n",
              "    .dataframe tbody tr th {\n",
              "        vertical-align: top;\n",
              "    }\n",
              "\n",
              "    .dataframe thead th {\n",
              "        text-align: right;\n",
              "    }\n",
              "</style>\n",
              "<table border=\"1\" class=\"dataframe\">\n",
              "  <thead>\n",
              "    <tr style=\"text-align: right;\">\n",
              "      <th></th>\n",
              "      <th>Actual</th>\n",
              "      <th>Predicted</th>\n",
              "    </tr>\n",
              "  </thead>\n",
              "  <tbody>\n",
              "    <tr>\n",
              "      <th>0</th>\n",
              "      <td>16472.897648</td>\n",
              "      <td>21080.468901</td>\n",
              "    </tr>\n",
              "    <tr>\n",
              "      <th>1</th>\n",
              "      <td>16927.779761</td>\n",
              "      <td>23563.549342</td>\n",
              "    </tr>\n",
              "    <tr>\n",
              "      <th>2</th>\n",
              "      <td>26775.032089</td>\n",
              "      <td>21742.597131</td>\n",
              "    </tr>\n",
              "    <tr>\n",
              "      <th>3</th>\n",
              "      <td>24852.495281</td>\n",
              "      <td>20929.242903</td>\n",
              "    </tr>\n",
              "    <tr>\n",
              "      <th>4</th>\n",
              "      <td>11873.533995</td>\n",
              "      <td>20187.850475</td>\n",
              "    </tr>\n",
              "    <tr>\n",
              "      <th>...</th>\n",
              "      <td>...</td>\n",
              "      <td>...</td>\n",
              "    </tr>\n",
              "    <tr>\n",
              "      <th>237</th>\n",
              "      <td>20109.904121</td>\n",
              "      <td>20919.019547</td>\n",
              "    </tr>\n",
              "    <tr>\n",
              "      <th>238</th>\n",
              "      <td>20512.094091</td>\n",
              "      <td>21749.899528</td>\n",
              "    </tr>\n",
              "    <tr>\n",
              "      <th>239</th>\n",
              "      <td>23573.822002</td>\n",
              "      <td>22303.155661</td>\n",
              "    </tr>\n",
              "    <tr>\n",
              "      <th>240</th>\n",
              "      <td>12045.920705</td>\n",
              "      <td>21417.574090</td>\n",
              "    </tr>\n",
              "    <tr>\n",
              "      <th>241</th>\n",
              "      <td>38600.239561</td>\n",
              "      <td>21682.850249</td>\n",
              "    </tr>\n",
              "  </tbody>\n",
              "</table>\n",
              "<p>242 rows × 2 columns</p>\n",
              "</div>\n",
              "      <button class=\"colab-df-convert\" onclick=\"convertToInteractive('df-21b6de3e-f7ac-4d19-908c-bdf74fb66b09')\"\n",
              "              title=\"Convert this dataframe to an interactive table.\"\n",
              "              style=\"display:none;\">\n",
              "        \n",
              "  <svg xmlns=\"http://www.w3.org/2000/svg\" height=\"24px\"viewBox=\"0 0 24 24\"\n",
              "       width=\"24px\">\n",
              "    <path d=\"M0 0h24v24H0V0z\" fill=\"none\"/>\n",
              "    <path d=\"M18.56 5.44l.94 2.06.94-2.06 2.06-.94-2.06-.94-.94-2.06-.94 2.06-2.06.94zm-11 1L8.5 8.5l.94-2.06 2.06-.94-2.06-.94L8.5 2.5l-.94 2.06-2.06.94zm10 10l.94 2.06.94-2.06 2.06-.94-2.06-.94-.94-2.06-.94 2.06-2.06.94z\"/><path d=\"M17.41 7.96l-1.37-1.37c-.4-.4-.92-.59-1.43-.59-.52 0-1.04.2-1.43.59L10.3 9.45l-7.72 7.72c-.78.78-.78 2.05 0 2.83L4 21.41c.39.39.9.59 1.41.59.51 0 1.02-.2 1.41-.59l7.78-7.78 2.81-2.81c.8-.78.8-2.07 0-2.86zM5.41 20L4 18.59l7.72-7.72 1.47 1.35L5.41 20z\"/>\n",
              "  </svg>\n",
              "      </button>\n",
              "      \n",
              "  <style>\n",
              "    .colab-df-container {\n",
              "      display:flex;\n",
              "      flex-wrap:wrap;\n",
              "      gap: 12px;\n",
              "    }\n",
              "\n",
              "    .colab-df-convert {\n",
              "      background-color: #E8F0FE;\n",
              "      border: none;\n",
              "      border-radius: 50%;\n",
              "      cursor: pointer;\n",
              "      display: none;\n",
              "      fill: #1967D2;\n",
              "      height: 32px;\n",
              "      padding: 0 0 0 0;\n",
              "      width: 32px;\n",
              "    }\n",
              "\n",
              "    .colab-df-convert:hover {\n",
              "      background-color: #E2EBFA;\n",
              "      box-shadow: 0px 1px 2px rgba(60, 64, 67, 0.3), 0px 1px 3px 1px rgba(60, 64, 67, 0.15);\n",
              "      fill: #174EA6;\n",
              "    }\n",
              "\n",
              "    [theme=dark] .colab-df-convert {\n",
              "      background-color: #3B4455;\n",
              "      fill: #D2E3FC;\n",
              "    }\n",
              "\n",
              "    [theme=dark] .colab-df-convert:hover {\n",
              "      background-color: #434B5C;\n",
              "      box-shadow: 0px 1px 3px 1px rgba(0, 0, 0, 0.15);\n",
              "      filter: drop-shadow(0px 1px 2px rgba(0, 0, 0, 0.3));\n",
              "      fill: #FFFFFF;\n",
              "    }\n",
              "  </style>\n",
              "\n",
              "      <script>\n",
              "        const buttonEl =\n",
              "          document.querySelector('#df-21b6de3e-f7ac-4d19-908c-bdf74fb66b09 button.colab-df-convert');\n",
              "        buttonEl.style.display =\n",
              "          google.colab.kernel.accessAllowed ? 'block' : 'none';\n",
              "\n",
              "        async function convertToInteractive(key) {\n",
              "          const element = document.querySelector('#df-21b6de3e-f7ac-4d19-908c-bdf74fb66b09');\n",
              "          const dataTable =\n",
              "            await google.colab.kernel.invokeFunction('convertToInteractive',\n",
              "                                                     [key], {});\n",
              "          if (!dataTable) return;\n",
              "\n",
              "          const docLinkHtml = 'Like what you see? Visit the ' +\n",
              "            '<a target=\"_blank\" href=https://colab.research.google.com/notebooks/data_table.ipynb>data table notebook</a>'\n",
              "            + ' to learn more about interactive tables.';\n",
              "          element.innerHTML = '';\n",
              "          dataTable['output_type'] = 'display_data';\n",
              "          await google.colab.output.renderOutput(dataTable, element);\n",
              "          const docLink = document.createElement('div');\n",
              "          docLink.innerHTML = docLinkHtml;\n",
              "          element.appendChild(docLink);\n",
              "        }\n",
              "      </script>\n",
              "    </div>\n",
              "  </div>\n",
              "  "
            ]
          },
          "metadata": {},
          "execution_count": 52
        }
      ]
    },
    {
      "cell_type": "markdown",
      "source": [
        "# Evaluation of model"
      ],
      "metadata": {
        "id": "ckoqG2n38-Hi"
      }
    },
    {
      "cell_type": "code",
      "source": [
        "print('R2 - SCORE : ',regressor.score(X_test_scaled,y_test))"
      ],
      "metadata": {
        "colab": {
          "base_uri": "https://localhost:8080/"
        },
        "id": "JPdB60-QjXqN",
        "outputId": "fec0d1e9-3d61-4426-fd26-0b23ed2c1d1d"
      },
      "execution_count": 53,
      "outputs": [
        {
          "output_type": "stream",
          "name": "stdout",
          "text": [
            "R2 - SCORE :  0.03528379018590211\n"
          ]
        }
      ]
    },
    {
      "cell_type": "markdown",
      "source": [
        "The R2 Score for Mileage vs Price Linear Regression Model is 0.035 which is very low. So, this model is unfit to predict the price of the car."
      ],
      "metadata": {
        "id": "wEBXtZG9i4Ty"
      }
    },
    {
      "cell_type": "markdown",
      "source": [
        "The following is the regression plot between Mileage and Price."
      ],
      "metadata": {
        "id": "XRVfCWQqjQJg"
      }
    },
    {
      "cell_type": "code",
      "source": [
        "sns.scatterplot(x = df['Mileage'], y = df['Price'], data = df, color = 'green')\n",
        "plt.plot(X, regressor.predict(X), color = 'red')\n",
        "plt.title('Mileage vs Price')\n",
        "plt.xlabel('Mileage')\n",
        "plt.ylabel('Price')\n",
        "plt.show()"
      ],
      "metadata": {
        "colab": {
          "base_uri": "https://localhost:8080/",
          "height": 295
        },
        "id": "AVhXrJ5wD7pP",
        "outputId": "d9d5a7b1-eb22-4d4a-ef70-faef358e1095"
      },
      "execution_count": 54,
      "outputs": [
        {
          "output_type": "display_data",
          "data": {
            "text/plain": [
              "<Figure size 432x288 with 1 Axes>"
            ],
            "image/png": "[encoded data removed]"
          },
          "metadata": {
            "needs_background": "light"
          }
        }
      ]
    },
    {
      "cell_type": "markdown",
      "source": [
        "# Task 2"
      ],
      "metadata": {
        "id": "tArudmAh9C6D"
      }
    },
    {
      "cell_type": "markdown",
      "source": [
        "# Data preprocessing"
      ],
      "metadata": {
        "id": "DF7vA1vk9FsG"
      }
    },
    {
      "cell_type": "code",
      "source": [
        "X = df[['Mileage', 'Cylinder', 'Liter', 'Doors', 'Cruise', 'Sound', 'Leather']].values\n",
        "y = df['Price'].values"
      ],
      "metadata": {
        "id": "dHI4GU5cjXs7"
      },
      "execution_count": 55,
      "outputs": []
    },
    {
      "cell_type": "code",
      "source": [
        "from sklearn.model_selection import train_test_split \n",
        "X_train, X_test, y_train, y_test = train_test_split(X, y, test_size=0.3, random_state = 555)"
      ],
      "metadata": {
        "id": "ng9je-gljXvS"
      },
      "execution_count": 56,
      "outputs": []
    },
    {
      "cell_type": "code",
      "source": [
        "X_train.shape, X_test.shape"
      ],
      "metadata": {
        "colab": {
          "base_uri": "https://localhost:8080/"
        },
        "id": "q5o1HMFljXyA",
        "outputId": "86ffa12d-2ac0-41ec-ba43-a30a64d3222a"
      },
      "execution_count": 57,
      "outputs": [
        {
          "output_type": "execute_result",
          "data": {
            "text/plain": [
              "((562, 7), (242, 7))"
            ]
          },
          "metadata": {},
          "execution_count": 57
        }
      ]
    },
    {
      "cell_type": "code",
      "source": [
        "from sklearn.preprocessing import StandardScaler\n",
        "scaler = StandardScaler()\n",
        "scaler.fit(X_train)\n",
        "X_train_scaled = scaler.transform(X_train)\n",
        "X_test_scaled = scaler.transform(X_test)"
      ],
      "metadata": {
        "id": "QSROUd8J9SxL"
      },
      "execution_count": 58,
      "outputs": []
    },
    {
      "cell_type": "markdown",
      "source": [
        "# Model training"
      ],
      "metadata": {
        "id": "oGsDzx7Q9OCZ"
      }
    },
    {
      "cell_type": "code",
      "source": [
        "from sklearn.linear_model import LinearRegression \n",
        "regressor = LinearRegression() \n",
        "regressor.fit(X_train_scaled, y_train)"
      ],
      "metadata": {
        "colab": {
          "base_uri": "https://localhost:8080/"
        },
        "id": "iOTa-AxjjX0f",
        "outputId": "083c3d5d-a001-47f5-ce9b-85cb4ff0889c"
      },
      "execution_count": 59,
      "outputs": [
        {
          "output_type": "execute_result",
          "data": {
            "text/plain": [
              "LinearRegression()"
            ]
          },
          "metadata": {},
          "execution_count": 59
        }
      ]
    },
    {
      "cell_type": "code",
      "source": [
        "print(regressor.intercept_)"
      ],
      "metadata": {
        "colab": {
          "base_uri": "https://localhost:8080/"
        },
        "id": "osQgKnpujX3W",
        "outputId": "d7fe9396-d044-4505-db0b-f35f83fb3b8d"
      },
      "execution_count": 60,
      "outputs": [
        {
          "output_type": "stream",
          "name": "stdout",
          "text": [
            "21073.614522500695\n"
          ]
        }
      ]
    },
    {
      "cell_type": "code",
      "source": [
        "print(regressor.coef_)"
      ],
      "metadata": {
        "colab": {
          "base_uri": "https://localhost:8080/"
        },
        "id": "dwnAzGTcjX59",
        "outputId": "8762602f-5068-43bd-9e3c-da00bbc0fe94"
      },
      "execution_count": 61,
      "outputs": [
        {
          "output_type": "stream",
          "name": "stdout",
          "text": [
            "[-1264.03089609  5002.28183353  -984.60964087 -1288.27067777\n",
            "  2759.50303585  -872.60550238  1296.86368176]\n"
          ]
        }
      ]
    },
    {
      "cell_type": "code",
      "source": [
        "coef = pd.DataFrame(regressor.coef_, ['Mileage', 'Cylinder', 'Liter', 'Doors', 'Cruise', 'Sound', 'Leather'], columns = ['coefficient'])\n",
        "coef"
      ],
      "metadata": {
        "colab": {
          "base_uri": "https://localhost:8080/",
          "height": 269
        },
        "id": "kJgTJssy9eRZ",
        "outputId": "393bd41d-d385-4c6d-ed02-944ccbd46e40"
      },
      "execution_count": 62,
      "outputs": [
        {
          "output_type": "execute_result",
          "data": {
            "text/plain": [
              "          coefficient\n",
              "Mileage  -1264.030896\n",
              "Cylinder  5002.281834\n",
              "Liter     -984.609641\n",
              "Doors    -1288.270678\n",
              "Cruise    2759.503036\n",
              "Sound     -872.605502\n",
              "Leather   1296.863682"
            ],
            "text/html": [
              "\n",
              "  <div id=\"df-f2f03493-6c88-459b-beaa-5237dddb6dd9\">\n",
              "    <div class=\"colab-df-container\">\n",
              "      <div>\n",
              "<style scoped>\n",
              "    .dataframe tbody tr th:only-of-type {\n",
              "        vertical-align: middle;\n",
              "    }\n",
              "\n",
              "    .dataframe tbody tr th {\n",
              "        vertical-align: top;\n",
              "    }\n",
              "\n",
              "    .dataframe thead th {\n",
              "        text-align: right;\n",
              "    }\n",
              "</style>\n",
              "<table border=\"1\" class=\"dataframe\">\n",
              "  <thead>\n",
              "    <tr style=\"text-align: right;\">\n",
              "      <th></th>\n",
              "      <th>coefficient</th>\n",
              "    </tr>\n",
              "  </thead>\n",
              "  <tbody>\n",
              "    <tr>\n",
              "      <th>Mileage</th>\n",
              "      <td>-1264.030896</td>\n",
              "    </tr>\n",
              "    <tr>\n",
              "      <th>Cylinder</th>\n",
              "      <td>5002.281834</td>\n",
              "    </tr>\n",
              "    <tr>\n",
              "      <th>Liter</th>\n",
              "      <td>-984.609641</td>\n",
              "    </tr>\n",
              "    <tr>\n",
              "      <th>Doors</th>\n",
              "      <td>-1288.270678</td>\n",
              "    </tr>\n",
              "    <tr>\n",
              "      <th>Cruise</th>\n",
              "      <td>2759.503036</td>\n",
              "    </tr>\n",
              "    <tr>\n",
              "      <th>Sound</th>\n",
              "      <td>-872.605502</td>\n",
              "    </tr>\n",
              "    <tr>\n",
              "      <th>Leather</th>\n",
              "      <td>1296.863682</td>\n",
              "    </tr>\n",
              "  </tbody>\n",
              "</table>\n",
              "</div>\n",
              "      <button class=\"colab-df-convert\" onclick=\"convertToInteractive('df-f2f03493-6c88-459b-beaa-5237dddb6dd9')\"\n",
              "              title=\"Convert this dataframe to an interactive table.\"\n",
              "              style=\"display:none;\">\n",
              "        \n",
              "  <svg xmlns=\"http://www.w3.org/2000/svg\" height=\"24px\"viewBox=\"0 0 24 24\"\n",
              "       width=\"24px\">\n",
              "    <path d=\"M0 0h24v24H0V0z\" fill=\"none\"/>\n",
              "    <path d=\"M18.56 5.44l.94 2.06.94-2.06 2.06-.94-2.06-.94-.94-2.06-.94 2.06-2.06.94zm-11 1L8.5 8.5l.94-2.06 2.06-.94-2.06-.94L8.5 2.5l-.94 2.06-2.06.94zm10 10l.94 2.06.94-2.06 2.06-.94-2.06-.94-.94-2.06-.94 2.06-2.06.94z\"/><path d=\"M17.41 7.96l-1.37-1.37c-.4-.4-.92-.59-1.43-.59-.52 0-1.04.2-1.43.59L10.3 9.45l-7.72 7.72c-.78.78-.78 2.05 0 2.83L4 21.41c.39.39.9.59 1.41.59.51 0 1.02-.2 1.41-.59l7.78-7.78 2.81-2.81c.8-.78.8-2.07 0-2.86zM5.41 20L4 18.59l7.72-7.72 1.47 1.35L5.41 20z\"/>\n",
              "  </svg>\n",
              "      </button>\n",
              "      \n",
              "  <style>\n",
              "    .colab-df-container {\n",
              "      display:flex;\n",
              "      flex-wrap:wrap;\n",
              "      gap: 12px;\n",
              "    }\n",
              "\n",
              "    .colab-df-convert {\n",
              "      background-color: #E8F0FE;\n",
              "      border: none;\n",
              "      border-radius: 50%;\n",
              "      cursor: pointer;\n",
              "      display: none;\n",
              "      fill: #1967D2;\n",
              "      height: 32px;\n",
              "      padding: 0 0 0 0;\n",
              "      width: 32px;\n",
              "    }\n",
              "\n",
              "    .colab-df-convert:hover {\n",
              "      background-color: #E2EBFA;\n",
              "      box-shadow: 0px 1px 2px rgba(60, 64, 67, 0.3), 0px 1px 3px 1px rgba(60, 64, 67, 0.15);\n",
              "      fill: #174EA6;\n",
              "    }\n",
              "\n",
              "    [theme=dark] .colab-df-convert {\n",
              "      background-color: #3B4455;\n",
              "      fill: #D2E3FC;\n",
              "    }\n",
              "\n",
              "    [theme=dark] .colab-df-convert:hover {\n",
              "      background-color: #434B5C;\n",
              "      box-shadow: 0px 1px 3px 1px rgba(0, 0, 0, 0.15);\n",
              "      filter: drop-shadow(0px 1px 2px rgba(0, 0, 0, 0.3));\n",
              "      fill: #FFFFFF;\n",
              "    }\n",
              "  </style>\n",
              "\n",
              "      <script>\n",
              "        const buttonEl =\n",
              "          document.querySelector('#df-f2f03493-6c88-459b-beaa-5237dddb6dd9 button.colab-df-convert');\n",
              "        buttonEl.style.display =\n",
              "          google.colab.kernel.accessAllowed ? 'block' : 'none';\n",
              "\n",
              "        async function convertToInteractive(key) {\n",
              "          const element = document.querySelector('#df-f2f03493-6c88-459b-beaa-5237dddb6dd9');\n",
              "          const dataTable =\n",
              "            await google.colab.kernel.invokeFunction('convertToInteractive',\n",
              "                                                     [key], {});\n",
              "          if (!dataTable) return;\n",
              "\n",
              "          const docLinkHtml = 'Like what you see? Visit the ' +\n",
              "            '<a target=\"_blank\" href=https://colab.research.google.com/notebooks/data_table.ipynb>data table notebook</a>'\n",
              "            + ' to learn more about interactive tables.';\n",
              "          element.innerHTML = '';\n",
              "          dataTable['output_type'] = 'display_data';\n",
              "          await google.colab.output.renderOutput(dataTable, element);\n",
              "          const docLink = document.createElement('div');\n",
              "          docLink.innerHTML = docLinkHtml;\n",
              "          element.appendChild(docLink);\n",
              "        }\n",
              "      </script>\n",
              "    </div>\n",
              "  </div>\n",
              "  "
            ]
          },
          "metadata": {},
          "execution_count": 62
        }
      ]
    },
    {
      "cell_type": "code",
      "source": [
        "print('Linear Regression Equation: y = {:.4f}*Mileage + {:.4f}*Cylinder + {:.4f}*Liter + {:.4f}*Doors + {:.4f}*Cruise + {:.4f}*Sound + {:.4f}*Leather + {:.4f}'\n",
        "      .format(regressor.coef_[0], regressor.coef_[1], regressor.coef_[2], regressor.coef_[3], regressor.coef_[4], regressor.coef_[5], regressor.coef_[6],regressor.intercept_))"
      ],
      "metadata": {
        "colab": {
          "base_uri": "https://localhost:8080/"
        },
        "id": "u8yRGyKTjX9c",
        "outputId": "f5f9a099-d42d-494f-e90b-e4cd0ac4b2f4"
      },
      "execution_count": 63,
      "outputs": [
        {
          "output_type": "stream",
          "name": "stdout",
          "text": [
            "Linear Regression Equation: y = -1264.0309*Mileage + 5002.2818*Cylinder + -984.6096*Liter + -1288.2707*Doors + 2759.5030*Cruise + -872.6055*Sound + 1296.8637*Leather + 21073.6145\n"
          ]
        }
      ]
    },
    {
      "cell_type": "markdown",
      "source": [
        "# Prediction"
      ],
      "metadata": {
        "id": "sviVN6T09Wsq"
      }
    },
    {
      "cell_type": "code",
      "source": [
        "y_pred = regressor.predict(X_test_scaled)"
      ],
      "metadata": {
        "id": "2IHhTd5VdZ5U"
      },
      "execution_count": 64,
      "outputs": []
    },
    {
      "cell_type": "code",
      "source": [
        "df1 = pd.DataFrame({'Actual': y_test, 'Predicted': y_pred})\n",
        "df1"
      ],
      "metadata": {
        "colab": {
          "base_uri": "https://localhost:8080/",
          "height": 424
        },
        "id": "zTe4oMlvbz20",
        "outputId": "5ed308bb-1d82-436e-f68a-029f12a94d0f"
      },
      "execution_count": 65,
      "outputs": [
        {
          "output_type": "execute_result",
          "data": {
            "text/plain": [
              "           Actual     Predicted\n",
              "0    16472.897648  24111.483649\n",
              "1    22625.073566  25393.776241\n",
              "2    12594.183013  12683.921586\n",
              "3    26789.832608  17033.742025\n",
              "4    42741.523666  28901.587147\n",
              "..            ...           ...\n",
              "237  27256.494512  14494.439781\n",
              "238  41419.037262  33466.017889\n",
              "239  25589.983155  24051.145081\n",
              "240  10971.095614  19815.116523\n",
              "241  15832.518348  22313.219489\n",
              "\n",
              "[242 rows x 2 columns]"
            ],
            "text/html": [
              "\n",
              "  <div id=\"df-90aef45b-c262-4e50-8eae-8092eccc61ee\">\n",
              "    <div class=\"colab-df-container\">\n",
              "      <div>\n",
              "<style scoped>\n",
              "    .dataframe tbody tr th:only-of-type {\n",
              "        vertical-align: middle;\n",
              "    }\n",
              "\n",
              "    .dataframe tbody tr th {\n",
              "        vertical-align: top;\n",
              "    }\n",
              "\n",
              "    .dataframe thead th {\n",
              "        text-align: right;\n",
              "    }\n",
              "</style>\n",
              "<table border=\"1\" class=\"dataframe\">\n",
              "  <thead>\n",
              "    <tr style=\"text-align: right;\">\n",
              "      <th></th>\n",
              "      <th>Actual</th>\n",
              "      <th>Predicted</th>\n",
              "    </tr>\n",
              "  </thead>\n",
              "  <tbody>\n",
              "    <tr>\n",
              "      <th>0</th>\n",
              "      <td>16472.897648</td>\n",
              "      <td>24111.483649</td>\n",
              "    </tr>\n",
              "    <tr>\n",
              "      <th>1</th>\n",
              "      <td>22625.073566</td>\n",
              "      <td>25393.776241</td>\n",
              "    </tr>\n",
              "    <tr>\n",
              "      <th>2</th>\n",
              "      <td>12594.183013</td>\n",
              "      <td>12683.921586</td>\n",
              "    </tr>\n",
              "    <tr>\n",
              "      <th>3</th>\n",
              "      <td>26789.832608</td>\n",
              "      <td>17033.742025</td>\n",
              "    </tr>\n",
              "    <tr>\n",
              "      <th>4</th>\n",
              "      <td>42741.523666</td>\n",
              "      <td>28901.587147</td>\n",
              "    </tr>\n",
              "    <tr>\n",
              "      <th>...</th>\n",
              "      <td>...</td>\n",
              "      <td>...</td>\n",
              "    </tr>\n",
              "    <tr>\n",
              "      <th>237</th>\n",
              "      <td>27256.494512</td>\n",
              "      <td>14494.439781</td>\n",
              "    </tr>\n",
              "    <tr>\n",
              "      <th>238</th>\n",
              "      <td>41419.037262</td>\n",
              "      <td>33466.017889</td>\n",
              "    </tr>\n",
              "    <tr>\n",
              "      <th>239</th>\n",
              "      <td>25589.983155</td>\n",
              "      <td>24051.145081</td>\n",
              "    </tr>\n",
              "    <tr>\n",
              "      <th>240</th>\n",
              "      <td>10971.095614</td>\n",
              "      <td>19815.116523</td>\n",
              "    </tr>\n",
              "    <tr>\n",
              "      <th>241</th>\n",
              "      <td>15832.518348</td>\n",
              "      <td>22313.219489</td>\n",
              "    </tr>\n",
              "  </tbody>\n",
              "</table>\n",
              "<p>242 rows × 2 columns</p>\n",
              "</div>\n",
              "      <button class=\"colab-df-convert\" onclick=\"convertToInteractive('df-90aef45b-c262-4e50-8eae-8092eccc61ee')\"\n",
              "              title=\"Convert this dataframe to an interactive table.\"\n",
              "              style=\"display:none;\">\n",
              "        \n",
              "  <svg xmlns=\"http://www.w3.org/2000/svg\" height=\"24px\"viewBox=\"0 0 24 24\"\n",
              "       width=\"24px\">\n",
              "    <path d=\"M0 0h24v24H0V0z\" fill=\"none\"/>\n",
              "    <path d=\"M18.56 5.44l.94 2.06.94-2.06 2.06-.94-2.06-.94-.94-2.06-.94 2.06-2.06.94zm-11 1L8.5 8.5l.94-2.06 2.06-.94-2.06-.94L8.5 2.5l-.94 2.06-2.06.94zm10 10l.94 2.06.94-2.06 2.06-.94-2.06-.94-.94-2.06-.94 2.06-2.06.94z\"/><path d=\"M17.41 7.96l-1.37-1.37c-.4-.4-.92-.59-1.43-.59-.52 0-1.04.2-1.43.59L10.3 9.45l-7.72 7.72c-.78.78-.78 2.05 0 2.83L4 21.41c.39.39.9.59 1.41.59.51 0 1.02-.2 1.41-.59l7.78-7.78 2.81-2.81c.8-.78.8-2.07 0-2.86zM5.41 20L4 18.59l7.72-7.72 1.47 1.35L5.41 20z\"/>\n",
              "  </svg>\n",
              "      </button>\n",
              "      \n",
              "  <style>\n",
              "    .colab-df-container {\n",
              "      display:flex;\n",
              "      flex-wrap:wrap;\n",
              "      gap: 12px;\n",
              "    }\n",
              "\n",
              "    .colab-df-convert {\n",
              "      background-color: #E8F0FE;\n",
              "      border: none;\n",
              "      border-radius: 50%;\n",
              "      cursor: pointer;\n",
              "      display: none;\n",
              "      fill: #1967D2;\n",
              "      height: 32px;\n",
              "      padding: 0 0 0 0;\n",
              "      width: 32px;\n",
              "    }\n",
              "\n",
              "    .colab-df-convert:hover {\n",
              "      background-color: #E2EBFA;\n",
              "      box-shadow: 0px 1px 2px rgba(60, 64, 67, 0.3), 0px 1px 3px 1px rgba(60, 64, 67, 0.15);\n",
              "      fill: #174EA6;\n",
              "    }\n",
              "\n",
              "    [theme=dark] .colab-df-convert {\n",
              "      background-color: #3B4455;\n",
              "      fill: #D2E3FC;\n",
              "    }\n",
              "\n",
              "    [theme=dark] .colab-df-convert:hover {\n",
              "      background-color: #434B5C;\n",
              "      box-shadow: 0px 1px 3px 1px rgba(0, 0, 0, 0.15);\n",
              "      filter: drop-shadow(0px 1px 2px rgba(0, 0, 0, 0.3));\n",
              "      fill: #FFFFFF;\n",
              "    }\n",
              "  </style>\n",
              "\n",
              "      <script>\n",
              "        const buttonEl =\n",
              "          document.querySelector('#df-90aef45b-c262-4e50-8eae-8092eccc61ee button.colab-df-convert');\n",
              "        buttonEl.style.display =\n",
              "          google.colab.kernel.accessAllowed ? 'block' : 'none';\n",
              "\n",
              "        async function convertToInteractive(key) {\n",
              "          const element = document.querySelector('#df-90aef45b-c262-4e50-8eae-8092eccc61ee');\n",
              "          const dataTable =\n",
              "            await google.colab.kernel.invokeFunction('convertToInteractive',\n",
              "                                                     [key], {});\n",
              "          if (!dataTable) return;\n",
              "\n",
              "          const docLinkHtml = 'Like what you see? Visit the ' +\n",
              "            '<a target=\"_blank\" href=https://colab.research.google.com/notebooks/data_table.ipynb>data table notebook</a>'\n",
              "            + ' to learn more about interactive tables.';\n",
              "          element.innerHTML = '';\n",
              "          dataTable['output_type'] = 'display_data';\n",
              "          await google.colab.output.renderOutput(dataTable, element);\n",
              "          const docLink = document.createElement('div');\n",
              "          docLink.innerHTML = docLinkHtml;\n",
              "          element.appendChild(docLink);\n",
              "        }\n",
              "      </script>\n",
              "    </div>\n",
              "  </div>\n",
              "  "
            ]
          },
          "metadata": {},
          "execution_count": 65
        }
      ]
    },
    {
      "cell_type": "markdown",
      "source": [
        "# Evaluation of model"
      ],
      "metadata": {
        "id": "hUN8gSEN9cJ2"
      }
    },
    {
      "cell_type": "code",
      "source": [
        "print('R2 - SCORE : ', regressor.score(X_test_scaled,y_test))"
      ],
      "metadata": {
        "colab": {
          "base_uri": "https://localhost:8080/"
        },
        "id": "KqrDLqpimU9p",
        "outputId": "5b098aff-08ef-41ba-9817-227468830e06"
      },
      "execution_count": 66,
      "outputs": [
        {
          "output_type": "stream",
          "name": "stdout",
          "text": [
            "R2 - SCORE :  0.49753581768497546\n"
          ]
        }
      ]
    },
    {
      "cell_type": "markdown",
      "source": [
        "The R2 Score of this model is 0.49 which is average. So, this model is not a better model to predict the price of the car."
      ],
      "metadata": {
        "id": "pWrYcwoOkK3G"
      }
    },
    {
      "cell_type": "markdown",
      "source": [
        "# Best combination of factors"
      ],
      "metadata": {
        "id": "4LcjT0gtyrPA"
      }
    },
    {
      "cell_type": "code",
      "source": [
        "from itertools import combinations\n",
        "from sklearn.model_selection import train_test_split \n",
        "from sklearn.preprocessing import StandardScaler\n",
        "from sklearn.linear_model import LinearRegression "
      ],
      "metadata": {
        "id": "y8Wv8PNr83hg"
      },
      "execution_count": 67,
      "outputs": []
    },
    {
      "cell_type": "code",
      "source": [
        "for i in list(combinations(['Mileage', 'Cylinder', 'Liter', 'Doors', 'Cruise', 'Sound', 'Leather'],2)):\n",
        "  # feature and target\n",
        "  X = df[list(i)].values\n",
        "  y = df['Price'].values\n",
        "  # split\n",
        "  X_train, X_test, y_train, y_test = train_test_split(X, y, test_size=0.3, random_state = 55)\n",
        "  # scale\n",
        "  scaler = StandardScaler()\n",
        "  scaler.fit(X_train)\n",
        "  X_train_scaled = scaler.transform(X_train)\n",
        "  X_test_scaled = scaler.transform(X_test)\n",
        "  # model\n",
        "  regressor = LinearRegression() \n",
        "  regressor.fit(X_train_scaled, y_train)\n",
        "  # print('Co-efficient :', regressor.coef_ , 'Intercept :', regressor.intercept_)\n",
        "  # Predict\n",
        "  y_pred = regressor.predict(X_test_scaled)\n",
        "  # Evaluation\n",
        "  print(i, 'R2 - SCORE : ', regressor.score(X_test_scaled,y_test))"
      ],
      "metadata": {
        "colab": {
          "base_uri": "https://localhost:8080/"
        },
        "id": "30Zb16dT9JfT",
        "outputId": "e929b094-e0b3-4c3d-8a4a-eca0bc90e62b"
      },
      "execution_count": 68,
      "outputs": [
        {
          "output_type": "stream",
          "name": "stdout",
          "text": [
            "('Mileage', 'Cylinder') R2 - SCORE :  0.3645253669672359\n",
            "('Mileage', 'Liter') R2 - SCORE :  0.3656170357853201\n",
            "('Mileage', 'Doors') R2 - SCORE :  0.04154835234026888\n",
            "('Mileage', 'Cruise') R2 - SCORE :  0.2335527380276905\n",
            "('Mileage', 'Sound') R2 - SCORE :  0.042918952159853196\n",
            "('Mileage', 'Leather') R2 - SCORE :  0.061271602518597756\n",
            "('Cylinder', 'Liter') R2 - SCORE :  0.3429693856251208\n",
            "('Cylinder', 'Doors') R2 - SCORE :  0.3333994923450937\n",
            "('Cylinder', 'Cruise') R2 - SCORE :  0.38631528669168413\n",
            "('Cylinder', 'Sound') R2 - SCORE :  0.3375381273047545\n",
            "('Cylinder', 'Leather') R2 - SCORE :  0.35928007859599187\n",
            "('Liter', 'Doors') R2 - SCORE :  0.3287927916748804\n",
            "('Liter', 'Cruise') R2 - SCORE :  0.38397129345167935\n",
            "('Liter', 'Sound') R2 - SCORE :  0.3365986174267718\n",
            "('Liter', 'Leather') R2 - SCORE :  0.3577011128277019\n",
            "('Doors', 'Cruise') R2 - SCORE :  0.1997238571898372\n",
            "('Doors', 'Sound') R2 - SCORE :  0.012721895119510385\n",
            "('Doors', 'Leather') R2 - SCORE :  0.03021126850083411\n",
            "('Cruise', 'Sound') R2 - SCORE :  0.19866591497235842\n",
            "('Cruise', 'Leather') R2 - SCORE :  0.22280667901374207\n",
            "('Sound', 'Leather') R2 - SCORE :  0.0413031398902628\n"
          ]
        }
      ]
    },
    {
      "cell_type": "markdown",
      "source": [
        "From the above R2 scores between all combinations of 2 features, Cylinder and Cruise has the highest R2 score of 0.386."
      ],
      "metadata": {
        "id": "yVQxKoL_kuO9"
      }
    },
    {
      "cell_type": "code",
      "source": [
        "for i in list(combinations(['Mileage', 'Cylinder', 'Liter', 'Doors', 'Cruise', 'Sound', 'Leather'],3)):\n",
        "  # feature and target\n",
        "  X = df[list(i)].values\n",
        "  y = df['Price'].values\n",
        "  # split\n",
        "  X_train, X_test, y_train, y_test = train_test_split(X, y, test_size=0.3, random_state = 55)\n",
        "  # scale\n",
        "  scaler = StandardScaler()\n",
        "  scaler.fit(X_train)\n",
        "  X_train_scaled = scaler.transform(X_train)\n",
        "  X_test_scaled = scaler.transform(X_test)\n",
        "  # model\n",
        "  regressor = LinearRegression() \n",
        "  regressor.fit(X_train_scaled, y_train)\n",
        "  # print('Co-efficient :', regressor.coef_ , 'Intercept :', regressor.intercept_)\n",
        "  # Predict\n",
        "  y_pred = regressor.predict(X_test_scaled)\n",
        "  # Evaluation\n",
        "  print(i, 'R2 - SCORE : ', regressor.score(X_test_scaled,y_test))"
      ],
      "metadata": {
        "colab": {
          "base_uri": "https://localhost:8080/"
        },
        "id": "cx7LGHIe_eTV",
        "outputId": "b82c7535-6387-4766-a35e-b294eedec19c"
      },
      "execution_count": 69,
      "outputs": [
        {
          "output_type": "stream",
          "name": "stdout",
          "text": [
            "('Mileage', 'Cylinder', 'Liter') R2 - SCORE :  0.3692359627673292\n",
            "('Mileage', 'Cylinder', 'Doors') R2 - SCORE :  0.35908137724911793\n",
            "('Mileage', 'Cylinder', 'Cruise') R2 - SCORE :  0.41596606561800265\n",
            "('Mileage', 'Cylinder', 'Sound') R2 - SCORE :  0.36364895587308166\n",
            "('Mileage', 'Cylinder', 'Leather') R2 - SCORE :  0.3845879173819905\n",
            "('Mileage', 'Liter', 'Doors') R2 - SCORE :  0.35561727469665216\n",
            "('Mileage', 'Liter', 'Cruise') R2 - SCORE :  0.41489835260238617\n",
            "('Mileage', 'Liter', 'Sound') R2 - SCORE :  0.36399284879242577\n",
            "('Mileage', 'Liter', 'Leather') R2 - SCORE :  0.38423545365739364\n",
            "('Mileage', 'Doors', 'Cruise') R2 - SCORE :  0.2407952729394942\n",
            "('Mileage', 'Doors', 'Sound') R2 - SCORE :  0.05032330516211547\n",
            "('Mileage', 'Doors', 'Leather') R2 - SCORE :  0.06579141953418843\n",
            "('Mileage', 'Cruise', 'Sound') R2 - SCORE :  0.24003796328340543\n",
            "('Mileage', 'Cruise', 'Leather') R2 - SCORE :  0.26271366839039045\n",
            "('Mileage', 'Sound', 'Leather') R2 - SCORE :  0.07782750386892323\n",
            "('Cylinder', 'Liter', 'Doors') R2 - SCORE :  0.32959228261148343\n",
            "('Cylinder', 'Liter', 'Cruise') R2 - SCORE :  0.38415682971803233\n",
            "('Cylinder', 'Liter', 'Sound') R2 - SCORE :  0.3421549205806318\n",
            "('Cylinder', 'Liter', 'Leather') R2 - SCORE :  0.3620385961726855\n",
            "('Cylinder', 'Doors', 'Cruise') R2 - SCORE :  0.38487988082292657\n",
            "('Cylinder', 'Doors', 'Sound') R2 - SCORE :  0.3317673407888341\n",
            "('Cylinder', 'Doors', 'Leather') R2 - SCORE :  0.3517867729994537\n",
            "('Cylinder', 'Cruise', 'Sound') R2 - SCORE :  0.3872832093762669\n",
            "('Cylinder', 'Cruise', 'Leather') R2 - SCORE :  0.41089445889075116\n",
            "('Cylinder', 'Sound', 'Leather') R2 - SCORE :  0.36216682144524814\n",
            "('Liter', 'Doors', 'Cruise') R2 - SCORE :  0.3786924486075476\n",
            "('Liter', 'Doors', 'Sound') R2 - SCORE :  0.32588165757577625\n",
            "('Liter', 'Doors', 'Leather') R2 - SCORE :  0.34649338885614833\n",
            "('Liter', 'Cruise', 'Sound') R2 - SCORE :  0.3846981511903861\n",
            "('Liter', 'Cruise', 'Leather') R2 - SCORE :  0.4072780747430217\n",
            "('Liter', 'Sound', 'Leather') R2 - SCORE :  0.3604731091657697\n",
            "('Doors', 'Cruise', 'Sound') R2 - SCORE :  0.2059597839955989\n",
            "('Doors', 'Cruise', 'Leather') R2 - SCORE :  0.2282022354860349\n",
            "('Doors', 'Sound', 'Leather') R2 - SCORE :  0.046208324839706494\n",
            "('Cruise', 'Sound', 'Leather') R2 - SCORE :  0.23613578932058787\n"
          ]
        }
      ]
    },
    {
      "cell_type": "markdown",
      "source": [
        "From the above R2 scores between all combinations of 3 features, Mileage, Cylinder and Cruise has the highest R2 score of 0.415."
      ],
      "metadata": {
        "id": "zOtkqiveoxIa"
      }
    },
    {
      "cell_type": "code",
      "source": [
        "for i in list(combinations(['Mileage', 'Cylinder', 'Liter', 'Doors', 'Cruise', 'Sound', 'Leather'],4)):\n",
        "  # feature and target\n",
        "  X = df[list(i)].values\n",
        "  y = df['Price'].values\n",
        "  # split\n",
        "  X_train, X_test, y_train, y_test = train_test_split(X, y, test_size=0.3, random_state = 555)\n",
        "  # scale\n",
        "  scaler = StandardScaler()\n",
        "  scaler.fit(X_train)\n",
        "  X_train_scaled = scaler.transform(X_train)\n",
        "  X_test_scaled = scaler.transform(X_test)\n",
        "  # model\n",
        "  regressor = LinearRegression() \n",
        "  regressor.fit(X_train_scaled, y_train)\n",
        "  # print('Co-efficient :', regressor.coef_ , 'Intercept :', regressor.intercept_)\n",
        "  # Predict\n",
        "  y_pred = regressor.predict(X_test_scaled)\n",
        "  # Evaluation\n",
        "  print(i, 'R2 - SCORE : ', regressor.score(X_test_scaled,y_test))"
      ],
      "metadata": {
        "colab": {
          "base_uri": "https://localhost:8080/"
        },
        "id": "UwuxptqwCF0A",
        "outputId": "69b8332b-27e6-4a38-cf37-2768a47bf47a"
      },
      "execution_count": 70,
      "outputs": [
        {
          "output_type": "stream",
          "name": "stdout",
          "text": [
            "('Mileage', 'Cylinder', 'Liter', 'Doors') R2 - SCORE :  0.41772165240641623\n",
            "('Mileage', 'Cylinder', 'Liter', 'Cruise') R2 - SCORE :  0.4477269902821571\n",
            "('Mileage', 'Cylinder', 'Liter', 'Sound') R2 - SCORE :  0.4063689435184856\n",
            "('Mileage', 'Cylinder', 'Liter', 'Leather') R2 - SCORE :  0.4197791749748233\n",
            "('Mileage', 'Cylinder', 'Doors', 'Cruise') R2 - SCORE :  0.4637358032434381\n",
            "('Mileage', 'Cylinder', 'Doors', 'Sound') R2 - SCORE :  0.4255634636004123\n",
            "('Mileage', 'Cylinder', 'Doors', 'Leather') R2 - SCORE :  0.43437944370392\n",
            "('Mileage', 'Cylinder', 'Cruise', 'Sound') R2 - SCORE :  0.45090603168810195\n",
            "('Mileage', 'Cylinder', 'Cruise', 'Leather') R2 - SCORE :  0.4748243034606807\n",
            "('Mileage', 'Cylinder', 'Sound', 'Leather') R2 - SCORE :  0.4278816265414255\n",
            "('Mileage', 'Liter', 'Doors', 'Cruise') R2 - SCORE :  0.4414669175654654\n",
            "('Mileage', 'Liter', 'Doors', 'Sound') R2 - SCORE :  0.4041165421908185\n",
            "('Mileage', 'Liter', 'Doors', 'Leather') R2 - SCORE :  0.40965033063923373\n",
            "('Mileage', 'Liter', 'Cruise', 'Sound') R2 - SCORE :  0.43906741046872244\n",
            "('Mileage', 'Liter', 'Cruise', 'Leather') R2 - SCORE :  0.458786245077774\n",
            "('Mileage', 'Liter', 'Sound', 'Leather') R2 - SCORE :  0.4157951037027571\n",
            "('Mileage', 'Doors', 'Cruise', 'Sound') R2 - SCORE :  0.2561344137289683\n",
            "('Mileage', 'Doors', 'Cruise', 'Leather') R2 - SCORE :  0.2813211071027377\n",
            "('Mileage', 'Doors', 'Sound', 'Leather') R2 - SCORE :  0.10918143191587237\n",
            "('Mileage', 'Cruise', 'Sound', 'Leather') R2 - SCORE :  0.2923557571305707\n",
            "('Cylinder', 'Liter', 'Doors', 'Cruise') R2 - SCORE :  0.4366614020316655\n",
            "('Cylinder', 'Liter', 'Doors', 'Sound') R2 - SCORE :  0.39848371217232204\n",
            "('Cylinder', 'Liter', 'Doors', 'Leather') R2 - SCORE :  0.407492103888877\n",
            "('Cylinder', 'Liter', 'Cruise', 'Sound') R2 - SCORE :  0.42526964200610207\n",
            "('Cylinder', 'Liter', 'Cruise', 'Leather') R2 - SCORE :  0.4485482025442744\n",
            "('Cylinder', 'Liter', 'Sound', 'Leather') R2 - SCORE :  0.40299790049246687\n",
            "('Cylinder', 'Doors', 'Cruise', 'Sound') R2 - SCORE :  0.44228744000039166\n",
            "('Cylinder', 'Doors', 'Cruise', 'Leather') R2 - SCORE :  0.46044518496376374\n",
            "('Cylinder', 'Doors', 'Sound', 'Leather') R2 - SCORE :  0.41966880866732514\n",
            "('Cylinder', 'Cruise', 'Sound', 'Leather') R2 - SCORE :  0.45601133921984904\n",
            "('Liter', 'Doors', 'Cruise', 'Sound') R2 - SCORE :  0.4190393142097174\n",
            "('Liter', 'Doors', 'Cruise', 'Leather') R2 - SCORE :  0.4345778632926146\n",
            "('Liter', 'Doors', 'Sound', 'Leather') R2 - SCORE :  0.3948997880424261\n",
            "('Liter', 'Cruise', 'Sound', 'Leather') R2 - SCORE :  0.4396458004025925\n",
            "('Doors', 'Cruise', 'Sound', 'Leather') R2 - SCORE :  0.2637892859705263\n"
          ]
        }
      ]
    },
    {
      "cell_type": "markdown",
      "source": [
        "From the above R2 scores between all combinations of 4 features, Mileage, Cylinder, Cruise and Leather has the highest R2 score of 0.474."
      ],
      "metadata": {
        "id": "6Kw7k4I_pX5H"
      }
    },
    {
      "cell_type": "code",
      "source": [
        "for i in list(combinations(['Mileage', 'Cylinder', 'Liter', 'Doors', 'Cruise', 'Sound', 'Leather'],5)):\n",
        "  # feature and target\n",
        "  X = df[list(i)].values\n",
        "  y = df['Price'].values\n",
        "  # split\n",
        "  X_train, X_test, y_train, y_test = train_test_split(X, y, test_size=0.3, random_state = 555)\n",
        "  # scale\n",
        "  scaler = StandardScaler()\n",
        "  scaler.fit(X_train)\n",
        "  X_train_scaled = scaler.transform(X_train)\n",
        "  X_test_scaled = scaler.transform(X_test)\n",
        "  # model\n",
        "  regressor = LinearRegression() \n",
        "  regressor.fit(X_train_scaled, y_train)\n",
        "  # print('Co-efficient :', regressor.coef_ , 'Intercept :', regressor.intercept_)\n",
        "  # Predict\n",
        "  y_pred = regressor.predict(X_test_scaled)\n",
        "  # Evaluation\n",
        "  print(i, 'R2 - SCORE : ', regressor.score(X_test_scaled,y_test))"
      ],
      "metadata": {
        "colab": {
          "base_uri": "https://localhost:8080/"
        },
        "id": "seiV7tj9CRcs",
        "outputId": "45c5ec93-34a2-44fa-e250-51bfb0c2dc22"
      },
      "execution_count": 71,
      "outputs": [
        {
          "output_type": "stream",
          "name": "stdout",
          "text": [
            "('Mileage', 'Cylinder', 'Liter', 'Doors', 'Cruise') R2 - SCORE :  0.4633333094172617\n",
            "('Mileage', 'Cylinder', 'Liter', 'Doors', 'Sound') R2 - SCORE :  0.42583413043409934\n",
            "('Mileage', 'Cylinder', 'Liter', 'Doors', 'Leather') R2 - SCORE :  0.4344336490241234\n",
            "('Mileage', 'Cylinder', 'Liter', 'Cruise', 'Sound') R2 - SCORE :  0.45159894279722324\n",
            "('Mileage', 'Cylinder', 'Liter', 'Cruise', 'Leather') R2 - SCORE :  0.4748793412142617\n",
            "('Mileage', 'Cylinder', 'Liter', 'Sound', 'Leather') R2 - SCORE :  0.4299160126721553\n",
            "('Mileage', 'Cylinder', 'Doors', 'Cruise', 'Sound') R2 - SCORE :  0.46947961640629055\n",
            "('Mileage', 'Cylinder', 'Doors', 'Cruise', 'Leather') R2 - SCORE :  0.487602264009799\n",
            "('Mileage', 'Cylinder', 'Doors', 'Sound', 'Leather') R2 - SCORE :  0.44709441987397924\n",
            "('Mileage', 'Cylinder', 'Cruise', 'Sound', 'Leather') R2 - SCORE :  0.48239490745492575\n",
            "('Mileage', 'Liter', 'Doors', 'Cruise', 'Sound') R2 - SCORE :  0.44901854075801206\n",
            "('Mileage', 'Liter', 'Doors', 'Cruise', 'Leather') R2 - SCORE :  0.46446747308210834\n",
            "('Mileage', 'Liter', 'Doors', 'Sound', 'Leather') R2 - SCORE :  0.42502360439310194\n",
            "('Mileage', 'Liter', 'Cruise', 'Sound', 'Leather') R2 - SCORE :  0.46881095459041755\n",
            "('Mileage', 'Doors', 'Cruise', 'Sound', 'Leather') R2 - SCORE :  0.3028372049155782\n",
            "('Cylinder', 'Liter', 'Doors', 'Cruise', 'Sound') R2 - SCORE :  0.4421222855202195\n",
            "('Cylinder', 'Liter', 'Doors', 'Cruise', 'Leather') R2 - SCORE :  0.4607605715121226\n",
            "('Cylinder', 'Liter', 'Doors', 'Sound', 'Leather') R2 - SCORE :  0.41966342913098686\n",
            "('Cylinder', 'Liter', 'Cruise', 'Sound', 'Leather') R2 - SCORE :  0.45611275998259626\n",
            "('Cylinder', 'Doors', 'Cruise', 'Sound', 'Leather') R2 - SCORE :  0.4701711040459634\n",
            "('Liter', 'Doors', 'Cruise', 'Sound', 'Leather') R2 - SCORE :  0.446485052181954\n"
          ]
        }
      ]
    },
    {
      "cell_type": "markdown",
      "source": [
        "From the above R2 scores between all combinations of 5 features, Mileage, Cylinder, Cruise, Doors and Leather has the highest R2 score of 0.487."
      ],
      "metadata": {
        "id": "6FUtsIt5p7zA"
      }
    },
    {
      "cell_type": "code",
      "source": [
        "for i in list(combinations(['Mileage', 'Cylinder', 'Liter', 'Doors', 'Cruise', 'Sound', 'Leather'],6)):\n",
        "  # feature and target\n",
        "  X = df[list(i)].values\n",
        "  y = df['Price'].values\n",
        "  # split\n",
        "  X_train, X_test, y_train, y_test = train_test_split(X, y, test_size=0.3, random_state = 555)\n",
        "  # scale\n",
        "  scaler = StandardScaler()\n",
        "  scaler.fit(X_train)\n",
        "  X_train_scaled = scaler.transform(X_train)\n",
        "  X_test_scaled = scaler.transform(X_test)\n",
        "  # model\n",
        "  regressor = LinearRegression() \n",
        "  regressor.fit(X_train_scaled, y_train)\n",
        "  # print('Co-efficient :', regressor.coef_ , 'Intercept :', regressor.intercept_)\n",
        "  # Predict\n",
        "  y_pred = regressor.predict(X_test_scaled)\n",
        "  # Evaluation\n",
        "  print(i, 'R2 - SCORE : ', regressor.score(X_test_scaled,y_test))"
      ],
      "metadata": {
        "colab": {
          "base_uri": "https://localhost:8080/"
        },
        "id": "9GUp0FXeCX5i",
        "outputId": "a44d8cf9-1722-4c4d-a120-61440296e529"
      },
      "execution_count": 72,
      "outputs": [
        {
          "output_type": "stream",
          "name": "stdout",
          "text": [
            "('Mileage', 'Cylinder', 'Liter', 'Doors', 'Cruise', 'Sound') R2 - SCORE :  0.4691058968535057\n",
            "('Mileage', 'Cylinder', 'Liter', 'Doors', 'Cruise', 'Leather') R2 - SCORE :  0.4875465427836566\n",
            "('Mileage', 'Cylinder', 'Liter', 'Doors', 'Sound', 'Leather') R2 - SCORE :  0.4472023633739146\n",
            "('Mileage', 'Cylinder', 'Liter', 'Cruise', 'Sound', 'Leather') R2 - SCORE :  0.48264619183766544\n",
            "('Mileage', 'Cylinder', 'Doors', 'Cruise', 'Sound', 'Leather') R2 - SCORE :  0.4976141707660032\n",
            "('Mileage', 'Liter', 'Doors', 'Cruise', 'Sound', 'Leather') R2 - SCORE :  0.47664532884272504\n",
            "('Cylinder', 'Liter', 'Doors', 'Cruise', 'Sound', 'Leather') R2 - SCORE :  0.4703781182001826\n"
          ]
        }
      ]
    },
    {
      "cell_type": "markdown",
      "source": [
        "From the above R2 scores between all combinations of 6 features, Mileage, Cylinder, Doors, Cruise, Sound and Leather has the highest R2 score of 0.497."
      ],
      "metadata": {
        "id": "CkZwBBl7qIGo"
      }
    },
    {
      "cell_type": "markdown",
      "source": [
        "As we can see from the R2 scores calculated from all the combinations of the features, when we take more features into consideration for model training, the R2 score gradually increases."
      ],
      "metadata": {
        "id": "JE4axwhlq_Ph"
      }
    },
    {
      "cell_type": "markdown",
      "source": [
        "# Task 3"
      ],
      "metadata": {
        "id": "Yl4LAPFcC573"
      }
    },
    {
      "cell_type": "code",
      "source": [
        "df.head()"
      ],
      "metadata": {
        "colab": {
          "base_uri": "https://localhost:8080/",
          "height": 206
        },
        "id": "73expjMXC-yq",
        "outputId": "c180af41-6b0b-421a-9887-cd98fdd4a4ca"
      },
      "execution_count": 73,
      "outputs": [
        {
          "output_type": "execute_result",
          "data": {
            "text/plain": [
              "          Price  Mileage   Make    Model      Trim   Type  Cylinder  Liter  \\\n",
              "0  17314.103129   8221.0  Buick  Century  Sedan 4D  Sedan         6    3.1   \n",
              "1  17542.036083   9135.0  Buick  Century  Sedan 4D  Sedan         6    3.1   \n",
              "2  16218.847862  13196.0  Buick  Century  Sedan 4D  Sedan         6    3.1   \n",
              "3  16336.913140  16342.0  Buick  Century  Sedan 4D  Sedan         6    3.1   \n",
              "4  16339.170324  19832.0  Buick  Century  Sedan 4D  Sedan         6    3.1   \n",
              "\n",
              "   Doors  Cruise  Sound  Leather  \n",
              "0      4       1      1        1  \n",
              "1      4       1      1        0  \n",
              "2      4       1      1        0  \n",
              "3      4       1      0        0  \n",
              "4      4       1      0        1  "
            ],
            "text/html": [
              "\n",
              "  <div id=\"df-5eb86561-fa8f-4ce7-98b5-314ed44071e1\">\n",
              "    <div class=\"colab-df-container\">\n",
              "      <div>\n",
              "<style scoped>\n",
              "    .dataframe tbody tr th:only-of-type {\n",
              "        vertical-align: middle;\n",
              "    }\n",
              "\n",
              "    .dataframe tbody tr th {\n",
              "        vertical-align: top;\n",
              "    }\n",
              "\n",
              "    .dataframe thead th {\n",
              "        text-align: right;\n",
              "    }\n",
              "</style>\n",
              "<table border=\"1\" class=\"dataframe\">\n",
              "  <thead>\n",
              "    <tr style=\"text-align: right;\">\n",
              "      <th></th>\n",
              "      <th>Price</th>\n",
              "      <th>Mileage</th>\n",
              "      <th>Make</th>\n",
              "      <th>Model</th>\n",
              "      <th>Trim</th>\n",
              "      <th>Type</th>\n",
              "      <th>Cylinder</th>\n",
              "      <th>Liter</th>\n",
              "      <th>Doors</th>\n",
              "      <th>Cruise</th>\n",
              "      <th>Sound</th>\n",
              "      <th>Leather</th>\n",
              "    </tr>\n",
              "  </thead>\n",
              "  <tbody>\n",
              "    <tr>\n",
              "      <th>0</th>\n",
              "      <td>17314.103129</td>\n",
              "      <td>8221.0</td>\n",
              "      <td>Buick</td>\n",
              "      <td>Century</td>\n",
              "      <td>Sedan 4D</td>\n",
              "      <td>Sedan</td>\n",
              "      <td>6</td>\n",
              "      <td>3.1</td>\n",
              "      <td>4</td>\n",
              "      <td>1</td>\n",
              "      <td>1</td>\n",
              "      <td>1</td>\n",
              "    </tr>\n",
              "    <tr>\n",
              "      <th>1</th>\n",
              "      <td>17542.036083</td>\n",
              "      <td>9135.0</td>\n",
              "      <td>Buick</td>\n",
              "      <td>Century</td>\n",
              "      <td>Sedan 4D</td>\n",
              "      <td>Sedan</td>\n",
              "      <td>6</td>\n",
              "      <td>3.1</td>\n",
              "      <td>4</td>\n",
              "      <td>1</td>\n",
              "      <td>1</td>\n",
              "      <td>0</td>\n",
              "    </tr>\n",
              "    <tr>\n",
              "      <th>2</th>\n",
              "      <td>16218.847862</td>\n",
              "      <td>13196.0</td>\n",
              "      <td>Buick</td>\n",
              "      <td>Century</td>\n",
              "      <td>Sedan 4D</td>\n",
              "      <td>Sedan</td>\n",
              "      <td>6</td>\n",
              "      <td>3.1</td>\n",
              "      <td>4</td>\n",
              "      <td>1</td>\n",
              "      <td>1</td>\n",
              "      <td>0</td>\n",
              "    </tr>\n",
              "    <tr>\n",
              "      <th>3</th>\n",
              "      <td>16336.913140</td>\n",
              "      <td>16342.0</td>\n",
              "      <td>Buick</td>\n",
              "      <td>Century</td>\n",
              "      <td>Sedan 4D</td>\n",
              "      <td>Sedan</td>\n",
              "      <td>6</td>\n",
              "      <td>3.1</td>\n",
              "      <td>4</td>\n",
              "      <td>1</td>\n",
              "      <td>0</td>\n",
              "      <td>0</td>\n",
              "    </tr>\n",
              "    <tr>\n",
              "      <th>4</th>\n",
              "      <td>16339.170324</td>\n",
              "      <td>19832.0</td>\n",
              "      <td>Buick</td>\n",
              "      <td>Century</td>\n",
              "      <td>Sedan 4D</td>\n",
              "      <td>Sedan</td>\n",
              "      <td>6</td>\n",
              "      <td>3.1</td>\n",
              "      <td>4</td>\n",
              "      <td>1</td>\n",
              "      <td>0</td>\n",
              "      <td>1</td>\n",
              "    </tr>\n",
              "  </tbody>\n",
              "</table>\n",
              "</div>\n",
              "      <button class=\"colab-df-convert\" onclick=\"convertToInteractive('df-5eb86561-fa8f-4ce7-98b5-314ed44071e1')\"\n",
              "              title=\"Convert this dataframe to an interactive table.\"\n",
              "              style=\"display:none;\">\n",
              "        \n",
              "  <svg xmlns=\"http://www.w3.org/2000/svg\" height=\"24px\"viewBox=\"0 0 24 24\"\n",
              "       width=\"24px\">\n",
              "    <path d=\"M0 0h24v24H0V0z\" fill=\"none\"/>\n",
              "    <path d=\"M18.56 5.44l.94 2.06.94-2.06 2.06-.94-2.06-.94-.94-2.06-.94 2.06-2.06.94zm-11 1L8.5 8.5l.94-2.06 2.06-.94-2.06-.94L8.5 2.5l-.94 2.06-2.06.94zm10 10l.94 2.06.94-2.06 2.06-.94-2.06-.94-.94-2.06-.94 2.06-2.06.94z\"/><path d=\"M17.41 7.96l-1.37-1.37c-.4-.4-.92-.59-1.43-.59-.52 0-1.04.2-1.43.59L10.3 9.45l-7.72 7.72c-.78.78-.78 2.05 0 2.83L4 21.41c.39.39.9.59 1.41.59.51 0 1.02-.2 1.41-.59l7.78-7.78 2.81-2.81c.8-.78.8-2.07 0-2.86zM5.41 20L4 18.59l7.72-7.72 1.47 1.35L5.41 20z\"/>\n",
              "  </svg>\n",
              "      </button>\n",
              "      \n",
              "  <style>\n",
              "    .colab-df-container {\n",
              "      display:flex;\n",
              "      flex-wrap:wrap;\n",
              "      gap: 12px;\n",
              "    }\n",
              "\n",
              "    .colab-df-convert {\n",
              "      background-color: #E8F0FE;\n",
              "      border: none;\n",
              "      border-radius: 50%;\n",
              "      cursor: pointer;\n",
              "      display: none;\n",
              "      fill: #1967D2;\n",
              "      height: 32px;\n",
              "      padding: 0 0 0 0;\n",
              "      width: 32px;\n",
              "    }\n",
              "\n",
              "    .colab-df-convert:hover {\n",
              "      background-color: #E2EBFA;\n",
              "      box-shadow: 0px 1px 2px rgba(60, 64, 67, 0.3), 0px 1px 3px 1px rgba(60, 64, 67, 0.15);\n",
              "      fill: #174EA6;\n",
              "    }\n",
              "\n",
              "    [theme=dark] .colab-df-convert {\n",
              "      background-color: #3B4455;\n",
              "      fill: #D2E3FC;\n",
              "    }\n",
              "\n",
              "    [theme=dark] .colab-df-convert:hover {\n",
              "      background-color: #434B5C;\n",
              "      box-shadow: 0px 1px 3px 1px rgba(0, 0, 0, 0.15);\n",
              "      filter: drop-shadow(0px 1px 2px rgba(0, 0, 0, 0.3));\n",
              "      fill: #FFFFFF;\n",
              "    }\n",
              "  </style>\n",
              "\n",
              "      <script>\n",
              "        const buttonEl =\n",
              "          document.querySelector('#df-5eb86561-fa8f-4ce7-98b5-314ed44071e1 button.colab-df-convert');\n",
              "        buttonEl.style.display =\n",
              "          google.colab.kernel.accessAllowed ? 'block' : 'none';\n",
              "\n",
              "        async function convertToInteractive(key) {\n",
              "          const element = document.querySelector('#df-5eb86561-fa8f-4ce7-98b5-314ed44071e1');\n",
              "          const dataTable =\n",
              "            await google.colab.kernel.invokeFunction('convertToInteractive',\n",
              "                                                     [key], {});\n",
              "          if (!dataTable) return;\n",
              "\n",
              "          const docLinkHtml = 'Like what you see? Visit the ' +\n",
              "            '<a target=\"_blank\" href=https://colab.research.google.com/notebooks/data_table.ipynb>data table notebook</a>'\n",
              "            + ' to learn more about interactive tables.';\n",
              "          element.innerHTML = '';\n",
              "          dataTable['output_type'] = 'display_data';\n",
              "          await google.colab.output.renderOutput(dataTable, element);\n",
              "          const docLink = document.createElement('div');\n",
              "          docLink.innerHTML = docLinkHtml;\n",
              "          element.appendChild(docLink);\n",
              "        }\n",
              "      </script>\n",
              "    </div>\n",
              "  </div>\n",
              "  "
            ]
          },
          "metadata": {},
          "execution_count": 73
        }
      ]
    },
    {
      "cell_type": "markdown",
      "source": [
        "Make"
      ],
      "metadata": {
        "id": "Lr22DHlCNEAr"
      }
    },
    {
      "cell_type": "code",
      "source": [
        "df['Make'].value_counts()"
      ],
      "metadata": {
        "colab": {
          "base_uri": "https://localhost:8080/"
        },
        "id": "NxzBBpYEFoVQ",
        "outputId": "ccf48bb2-a97b-4bd2-977d-9bb6c4f0fbf2"
      },
      "execution_count": 74,
      "outputs": [
        {
          "output_type": "execute_result",
          "data": {
            "text/plain": [
              "Chevrolet    320\n",
              "Pontiac      150\n",
              "SAAB         114\n",
              "Buick         80\n",
              "Cadillac      80\n",
              "Saturn        60\n",
              "Name: Make, dtype: int64"
            ]
          },
          "metadata": {},
          "execution_count": 74
        }
      ]
    },
    {
      "cell_type": "code",
      "source": [
        "df1 = pd.get_dummies(df['Make'])"
      ],
      "metadata": {
        "id": "mpPVXcpcE_s_"
      },
      "execution_count": 75,
      "outputs": []
    },
    {
      "cell_type": "code",
      "source": [
        "df1.head()"
      ],
      "metadata": {
        "colab": {
          "base_uri": "https://localhost:8080/",
          "height": 206
        },
        "id": "-RcE7ci2FEic",
        "outputId": "256c4ad5-69f1-41d9-86b6-a760293c3d08"
      },
      "execution_count": 76,
      "outputs": [
        {
          "output_type": "execute_result",
          "data": {
            "text/plain": [
              "   Buick  Cadillac  Chevrolet  Pontiac  SAAB  Saturn\n",
              "0      1         0          0        0     0       0\n",
              "1      1         0          0        0     0       0\n",
              "2      1         0          0        0     0       0\n",
              "3      1         0          0        0     0       0\n",
              "4      1         0          0        0     0       0"
            ],
            "text/html": [
              "\n",
              "  <div id=\"df-4e71ebc1-5f5c-45e6-84cd-755f66a68f58\">\n",
              "    <div class=\"colab-df-container\">\n",
              "      <div>\n",
              "<style scoped>\n",
              "    .dataframe tbody tr th:only-of-type {\n",
              "        vertical-align: middle;\n",
              "    }\n",
              "\n",
              "    .dataframe tbody tr th {\n",
              "        vertical-align: top;\n",
              "    }\n",
              "\n",
              "    .dataframe thead th {\n",
              "        text-align: right;\n",
              "    }\n",
              "</style>\n",
              "<table border=\"1\" class=\"dataframe\">\n",
              "  <thead>\n",
              "    <tr style=\"text-align: right;\">\n",
              "      <th></th>\n",
              "      <th>Buick</th>\n",
              "      <th>Cadillac</th>\n",
              "      <th>Chevrolet</th>\n",
              "      <th>Pontiac</th>\n",
              "      <th>SAAB</th>\n",
              "      <th>Saturn</th>\n",
              "    </tr>\n",
              "  </thead>\n",
              "  <tbody>\n",
              "    <tr>\n",
              "      <th>0</th>\n",
              "      <td>1</td>\n",
              "      <td>0</td>\n",
              "      <td>0</td>\n",
              "      <td>0</td>\n",
              "      <td>0</td>\n",
              "      <td>0</td>\n",
              "    </tr>\n",
              "    <tr>\n",
              "      <th>1</th>\n",
              "      <td>1</td>\n",
              "      <td>0</td>\n",
              "      <td>0</td>\n",
              "      <td>0</td>\n",
              "      <td>0</td>\n",
              "      <td>0</td>\n",
              "    </tr>\n",
              "    <tr>\n",
              "      <th>2</th>\n",
              "      <td>1</td>\n",
              "      <td>0</td>\n",
              "      <td>0</td>\n",
              "      <td>0</td>\n",
              "      <td>0</td>\n",
              "      <td>0</td>\n",
              "    </tr>\n",
              "    <tr>\n",
              "      <th>3</th>\n",
              "      <td>1</td>\n",
              "      <td>0</td>\n",
              "      <td>0</td>\n",
              "      <td>0</td>\n",
              "      <td>0</td>\n",
              "      <td>0</td>\n",
              "    </tr>\n",
              "    <tr>\n",
              "      <th>4</th>\n",
              "      <td>1</td>\n",
              "      <td>0</td>\n",
              "      <td>0</td>\n",
              "      <td>0</td>\n",
              "      <td>0</td>\n",
              "      <td>0</td>\n",
              "    </tr>\n",
              "  </tbody>\n",
              "</table>\n",
              "</div>\n",
              "      <button class=\"colab-df-convert\" onclick=\"convertToInteractive('df-4e71ebc1-5f5c-45e6-84cd-755f66a68f58')\"\n",
              "              title=\"Convert this dataframe to an interactive table.\"\n",
              "              style=\"display:none;\">\n",
              "        \n",
              "  <svg xmlns=\"http://www.w3.org/2000/svg\" height=\"24px\"viewBox=\"0 0 24 24\"\n",
              "       width=\"24px\">\n",
              "    <path d=\"M0 0h24v24H0V0z\" fill=\"none\"/>\n",
              "    <path d=\"M18.56 5.44l.94 2.06.94-2.06 2.06-.94-2.06-.94-.94-2.06-.94 2.06-2.06.94zm-11 1L8.5 8.5l.94-2.06 2.06-.94-2.06-.94L8.5 2.5l-.94 2.06-2.06.94zm10 10l.94 2.06.94-2.06 2.06-.94-2.06-.94-.94-2.06-.94 2.06-2.06.94z\"/><path d=\"M17.41 7.96l-1.37-1.37c-.4-.4-.92-.59-1.43-.59-.52 0-1.04.2-1.43.59L10.3 9.45l-7.72 7.72c-.78.78-.78 2.05 0 2.83L4 21.41c.39.39.9.59 1.41.59.51 0 1.02-.2 1.41-.59l7.78-7.78 2.81-2.81c.8-.78.8-2.07 0-2.86zM5.41 20L4 18.59l7.72-7.72 1.47 1.35L5.41 20z\"/>\n",
              "  </svg>\n",
              "      </button>\n",
              "      \n",
              "  <style>\n",
              "    .colab-df-container {\n",
              "      display:flex;\n",
              "      flex-wrap:wrap;\n",
              "      gap: 12px;\n",
              "    }\n",
              "\n",
              "    .colab-df-convert {\n",
              "      background-color: #E8F0FE;\n",
              "      border: none;\n",
              "      border-radius: 50%;\n",
              "      cursor: pointer;\n",
              "      display: none;\n",
              "      fill: #1967D2;\n",
              "      height: 32px;\n",
              "      padding: 0 0 0 0;\n",
              "      width: 32px;\n",
              "    }\n",
              "\n",
              "    .colab-df-convert:hover {\n",
              "      background-color: #E2EBFA;\n",
              "      box-shadow: 0px 1px 2px rgba(60, 64, 67, 0.3), 0px 1px 3px 1px rgba(60, 64, 67, 0.15);\n",
              "      fill: #174EA6;\n",
              "    }\n",
              "\n",
              "    [theme=dark] .colab-df-convert {\n",
              "      background-color: #3B4455;\n",
              "      fill: #D2E3FC;\n",
              "    }\n",
              "\n",
              "    [theme=dark] .colab-df-convert:hover {\n",
              "      background-color: #434B5C;\n",
              "      box-shadow: 0px 1px 3px 1px rgba(0, 0, 0, 0.15);\n",
              "      filter: drop-shadow(0px 1px 2px rgba(0, 0, 0, 0.3));\n",
              "      fill: #FFFFFF;\n",
              "    }\n",
              "  </style>\n",
              "\n",
              "      <script>\n",
              "        const buttonEl =\n",
              "          document.querySelector('#df-4e71ebc1-5f5c-45e6-84cd-755f66a68f58 button.colab-df-convert');\n",
              "        buttonEl.style.display =\n",
              "          google.colab.kernel.accessAllowed ? 'block' : 'none';\n",
              "\n",
              "        async function convertToInteractive(key) {\n",
              "          const element = document.querySelector('#df-4e71ebc1-5f5c-45e6-84cd-755f66a68f58');\n",
              "          const dataTable =\n",
              "            await google.colab.kernel.invokeFunction('convertToInteractive',\n",
              "                                                     [key], {});\n",
              "          if (!dataTable) return;\n",
              "\n",
              "          const docLinkHtml = 'Like what you see? Visit the ' +\n",
              "            '<a target=\"_blank\" href=https://colab.research.google.com/notebooks/data_table.ipynb>data table notebook</a>'\n",
              "            + ' to learn more about interactive tables.';\n",
              "          element.innerHTML = '';\n",
              "          dataTable['output_type'] = 'display_data';\n",
              "          await google.colab.output.renderOutput(dataTable, element);\n",
              "          const docLink = document.createElement('div');\n",
              "          docLink.innerHTML = docLinkHtml;\n",
              "          element.appendChild(docLink);\n",
              "        }\n",
              "      </script>\n",
              "    </div>\n",
              "  </div>\n",
              "  "
            ]
          },
          "metadata": {},
          "execution_count": 76
        }
      ]
    },
    {
      "cell_type": "code",
      "source": [
        "#for i in list(combinations(['Make_Chevrolet', 'Make_Pontiac', 'Make_SAAB', 'Make_Buick', 'Make_Cadillac', 'Make_Saturn'],2)):\n",
        "for i in list(combinations(['Chevrolet', 'Pontiac', 'SAAB', 'Buick', 'Cadillac', 'Saturn'],2)):\n",
        "  # feature and target\n",
        "  X = df1[list(i)].values\n",
        "  y = df['Price'].values\n",
        "  # split\n",
        "  X_train, X_test, y_train, y_test = train_test_split(X, y, test_size=0.3, random_state = 555)\n",
        "  # scale\n",
        "  scaler = StandardScaler()\n",
        "  scaler.fit(X_train)\n",
        "  X_train_scaled = scaler.transform(X_train)\n",
        "  X_test_scaled = scaler.transform(X_test)\n",
        "  # model\n",
        "  regressor = LinearRegression() \n",
        "  regressor.fit(X_train_scaled, y_train)\n",
        "  # print('Co-efficient :', regressor.coef_ , 'Intercept :', regressor.intercept_)\n",
        "  # Predict\n",
        "  y_pred = regressor.predict(X_test_scaled)\n",
        "  # Evaluation\n",
        "  print(i, 'R2 - SCORE : ', regressor.score(X_test_scaled,y_test))"
      ],
      "metadata": {
        "colab": {
          "base_uri": "https://localhost:8080/"
        },
        "id": "9DKTwFJSGfAZ",
        "outputId": "7a7d213e-cdb8-4854-dc82-7b3d053d50f4"
      },
      "execution_count": 77,
      "outputs": [
        {
          "output_type": "stream",
          "name": "stdout",
          "text": [
            "('Chevrolet', 'Pontiac') R2 - SCORE :  0.2432465059336273\n",
            "('Chevrolet', 'SAAB') R2 - SCORE :  0.17910836497021454\n",
            "('Chevrolet', 'Buick') R2 - SCORE :  0.16114967411509118\n",
            "('Chevrolet', 'Cadillac') R2 - SCORE :  0.4975638044229199\n",
            "('Chevrolet', 'Saturn') R2 - SCORE :  0.2782893467614246\n",
            "('Pontiac', 'SAAB') R2 - SCORE :  0.08949266286588853\n",
            "('Pontiac', 'Buick') R2 - SCORE :  0.018305412020958256\n",
            "('Pontiac', 'Cadillac') R2 - SCORE :  0.4613472872262009\n",
            "('Pontiac', 'Saturn') R2 - SCORE :  0.09229477855715273\n",
            "('SAAB', 'Buick') R2 - SCORE :  0.08078564531262356\n",
            "('SAAB', 'Cadillac') R2 - SCORE :  0.6246818933510194\n",
            "('SAAB', 'Saturn') R2 - SCORE :  0.12432479154797471\n",
            "('Buick', 'Cadillac') R2 - SCORE :  0.4638852914990269\n",
            "('Buick', 'Saturn') R2 - SCORE :  0.05741169247570266\n",
            "('Cadillac', 'Saturn') R2 - SCORE :  0.4912318626703601\n"
          ]
        }
      ]
    },
    {
      "cell_type": "code",
      "source": [
        "#for i in list(combinations(['Make_Chevrolet', 'Make_Pontiac', 'Make_SAAB', 'Make_Buick', 'Make_Cadillac', 'Make_Saturn'],2)):\n",
        "for i in list(combinations(['Chevrolet', 'Pontiac', 'SAAB', 'Buick', 'Cadillac', 'Saturn'],3)):\n",
        "  # feature and target\n",
        "  X = df1[list(i)].values\n",
        "  y = df['Price'].values\n",
        "  # split\n",
        "  X_train, X_test, y_train, y_test = train_test_split(X, y, test_size=0.3, random_state = 555)\n",
        "  # scale\n",
        "  scaler = StandardScaler()\n",
        "  scaler.fit(X_train)\n",
        "  X_train_scaled = scaler.transform(X_train)\n",
        "  X_test_scaled = scaler.transform(X_test)\n",
        "  # model\n",
        "  regressor = LinearRegression() \n",
        "  regressor.fit(X_train_scaled, y_train)\n",
        "  # print('Co-efficient :', regressor.coef_ , 'Intercept :', regressor.intercept_)\n",
        "  # Predict\n",
        "  y_pred = regressor.predict(X_test_scaled)\n",
        "  # Evaluation\n",
        "  print(i, 'R2 - SCORE : ', regressor.score(X_test_scaled,y_test))"
      ],
      "metadata": {
        "colab": {
          "base_uri": "https://localhost:8080/"
        },
        "id": "0o0j-Vc4Kzx1",
        "outputId": "4302307b-26e9-4d98-cd03-8bbcbdf2e700"
      },
      "execution_count": 78,
      "outputs": [
        {
          "output_type": "stream",
          "name": "stdout",
          "text": [
            "('Chevrolet', 'Pontiac', 'SAAB') R2 - SCORE :  0.2508428148235958\n",
            "('Chevrolet', 'Pontiac', 'Buick') R2 - SCORE :  0.2825253156645219\n",
            "('Chevrolet', 'Pontiac', 'Cadillac') R2 - SCORE :  0.5141297866833663\n",
            "('Chevrolet', 'Pontiac', 'Saturn') R2 - SCORE :  0.4582101549531279\n",
            "('Chevrolet', 'SAAB', 'Buick') R2 - SCORE :  0.18571038331595469\n",
            "('Chevrolet', 'SAAB', 'Cadillac') R2 - SCORE :  0.6253175464246559\n",
            "('Chevrolet', 'SAAB', 'Saturn') R2 - SCORE :  0.28392439215689647\n",
            "('Chevrolet', 'Buick', 'Cadillac') R2 - SCORE :  0.49607630380264267\n",
            "('Chevrolet', 'Buick', 'Saturn') R2 - SCORE :  0.3146998270259811\n",
            "('Chevrolet', 'Cadillac', 'Saturn') R2 - SCORE :  0.561752478134973\n",
            "('Pontiac', 'SAAB', 'Buick') R2 - SCORE :  0.08930730199674553\n",
            "('Pontiac', 'SAAB', 'Cadillac') R2 - SCORE :  0.6266875391498561\n",
            "('Pontiac', 'SAAB', 'Saturn') R2 - SCORE :  0.14182370258790555\n",
            "('Pontiac', 'Buick', 'Cadillac') R2 - SCORE :  0.46469605495318733\n",
            "('Pontiac', 'Buick', 'Saturn') R2 - SCORE :  0.09810077733313749\n",
            "('Pontiac', 'Cadillac', 'Saturn') R2 - SCORE :  0.496026532202299\n",
            "('SAAB', 'Buick', 'Cadillac') R2 - SCORE :  0.6414830330236962\n",
            "('SAAB', 'Buick', 'Saturn') R2 - SCORE :  0.12398431185504288\n",
            "('SAAB', 'Cadillac', 'Saturn') R2 - SCORE :  0.6382124716693325\n",
            "('Buick', 'Cadillac', 'Saturn') R2 - SCORE :  0.49322219608575135\n"
          ]
        }
      ]
    },
    {
      "cell_type": "code",
      "source": [
        "#for i in list(combinations(['Make_Chevrolet', 'Make_Pontiac', 'Make_SAAB', 'Make_Buick', 'Make_Cadillac', 'Make_Saturn'],2)):\n",
        "for i in list(combinations(['Chevrolet', 'Pontiac', 'SAAB', 'Buick', 'Cadillac', 'Saturn'],4)):\n",
        "  # feature and target\n",
        "  X = df1[list(i)].values\n",
        "  y = df['Price'].values\n",
        "  # split\n",
        "  X_train, X_test, y_train, y_test = train_test_split(X, y, test_size=0.3, random_state = 555)\n",
        "  # scale\n",
        "  scaler = StandardScaler()\n",
        "  scaler.fit(X_train)\n",
        "  X_train_scaled = scaler.transform(X_train)\n",
        "  X_test_scaled = scaler.transform(X_test)\n",
        "  # model\n",
        "  regressor = LinearRegression() \n",
        "  regressor.fit(X_train_scaled, y_train)\n",
        "  # print('Co-efficient :', regressor.coef_ , 'Intercept :', regressor.intercept_)\n",
        "  # Predict\n",
        "  y_pred = regressor.predict(X_test_scaled)\n",
        "  # Evaluation\n",
        "  print(i, 'R2 - SCORE : ', regressor.score(X_test_scaled,y_test))"
      ],
      "metadata": {
        "colab": {
          "base_uri": "https://localhost:8080/"
        },
        "id": "1b2I3_R4Kzuc",
        "outputId": "fd091e99-708c-40d4-9aa5-76e84627953d"
      },
      "execution_count": 79,
      "outputs": [
        {
          "output_type": "stream",
          "name": "stdout",
          "text": [
            "('Chevrolet', 'Pontiac', 'SAAB', 'Buick') R2 - SCORE :  0.28182474971023164\n",
            "('Chevrolet', 'Pontiac', 'SAAB', 'Cadillac') R2 - SCORE :  0.6257773366992112\n",
            "('Chevrolet', 'Pontiac', 'SAAB', 'Saturn') R2 - SCORE :  0.46088933300099333\n",
            "('Chevrolet', 'Pontiac', 'Buick', 'Cadillac') R2 - SCORE :  0.5103385395027842\n",
            "('Chevrolet', 'Pontiac', 'Buick', 'Saturn') R2 - SCORE :  0.5777528108279562\n",
            "('Chevrolet', 'Pontiac', 'Cadillac', 'Saturn') R2 - SCORE :  0.6187557957516077\n",
            "('Chevrolet', 'SAAB', 'Buick', 'Cadillac') R2 - SCORE :  0.638867966801195\n",
            "('Chevrolet', 'SAAB', 'Buick', 'Saturn') R2 - SCORE :  0.3114647960302338\n",
            "('Chevrolet', 'SAAB', 'Cadillac', 'Saturn') R2 - SCORE :  0.6485458142637319\n",
            "('Chevrolet', 'Buick', 'Cadillac', 'Saturn') R2 - SCORE :  0.5644474243099219\n",
            "('Pontiac', 'SAAB', 'Buick', 'Cadillac') R2 - SCORE :  0.6471711817891838\n",
            "('Pontiac', 'SAAB', 'Buick', 'Saturn') R2 - SCORE :  0.14210385205826026\n",
            "('Pontiac', 'SAAB', 'Cadillac', 'Saturn') R2 - SCORE :  0.6380246446483007\n",
            "('Pontiac', 'Buick', 'Cadillac', 'Saturn') R2 - SCORE :  0.4970204451451258\n",
            "('SAAB', 'Buick', 'Cadillac', 'Saturn') R2 - SCORE :  0.6512826513946868\n"
          ]
        }
      ]
    },
    {
      "cell_type": "code",
      "source": [
        "#for i in list(combinations(['Make_Chevrolet', 'Make_Pontiac', 'Make_SAAB', 'Make_Buick', 'Make_Cadillac', 'Make_Saturn'],2)):\n",
        "for i in list(combinations(['Chevrolet', 'Pontiac', 'SAAB', 'Buick', 'Cadillac', 'Saturn'],5)):\n",
        "  # feature and target\n",
        "  X = df1[list(i)].values\n",
        "  y = df['Price'].values\n",
        "  # split\n",
        "  X_train, X_test, y_train, y_test = train_test_split(X, y, test_size=0.3, random_state = 555)\n",
        "  # scale\n",
        "  scaler = StandardScaler()\n",
        "  scaler.fit(X_train)\n",
        "  X_train_scaled = scaler.transform(X_train)\n",
        "  X_test_scaled = scaler.transform(X_test)\n",
        "  # model\n",
        "  regressor = LinearRegression() \n",
        "  regressor.fit(X_train_scaled, y_train)\n",
        "  # print('Co-efficient :', regressor.coef_ , 'Intercept :', regressor.intercept_)\n",
        "  # Predict\n",
        "  y_pred = regressor.predict(X_test_scaled)\n",
        "  # Evaluation\n",
        "  print(i, 'R2 - SCORE : ', regressor.score(X_test_scaled,y_test))"
      ],
      "metadata": {
        "colab": {
          "base_uri": "https://localhost:8080/"
        },
        "id": "Hv1aDq5TKzsT",
        "outputId": "ccf89bb8-2c08-4043-ee14-c2c9e3b42a55"
      },
      "execution_count": 80,
      "outputs": [
        {
          "output_type": "stream",
          "name": "stdout",
          "text": [
            "('Chevrolet', 'Pontiac', 'SAAB', 'Buick', 'Cadillac') R2 - SCORE :  0.6534390562958852\n",
            "('Chevrolet', 'Pontiac', 'SAAB', 'Buick', 'Saturn') R2 - SCORE :  0.6534390562958852\n",
            "('Chevrolet', 'Pontiac', 'SAAB', 'Cadillac', 'Saturn') R2 - SCORE :  0.6534390562958852\n",
            "('Chevrolet', 'Pontiac', 'Buick', 'Cadillac', 'Saturn') R2 - SCORE :  0.6534390562958852\n",
            "('Chevrolet', 'SAAB', 'Buick', 'Cadillac', 'Saturn') R2 - SCORE :  0.6534390562958852\n",
            "('Pontiac', 'SAAB', 'Buick', 'Cadillac', 'Saturn') R2 - SCORE :  0.6534390562958852\n"
          ]
        }
      ]
    },
    {
      "cell_type": "markdown",
      "source": [
        "Model"
      ],
      "metadata": {
        "id": "Uo4ERugyNajY"
      }
    },
    {
      "cell_type": "code",
      "source": [
        "df['Model'].value_counts()"
      ],
      "metadata": {
        "colab": {
          "base_uri": "https://localhost:8080/"
        },
        "id": "iTY5kUsQKzpi",
        "outputId": "b00bc0cf-525d-46fb-e042-3d5e7f5727c0"
      },
      "execution_count": 81,
      "outputs": [
        {
          "output_type": "execute_result",
          "data": {
            "text/plain": [
              "Malibu         60\n",
              "AVEO           60\n",
              "Cavalier       60\n",
              "Ion            50\n",
              "Cobalt         50\n",
              "9_3 HO         40\n",
              "Vibe           30\n",
              "Bonneville     30\n",
              "Monte Carlo    30\n",
              "Lacrosse       30\n",
              "Impala         30\n",
              "Grand Prix     30\n",
              "9_5            30\n",
              "Deville        30\n",
              "Lesabre        20\n",
              "Corvette       20\n",
              "9_3            20\n",
              "9_5 HO         20\n",
              "G6             20\n",
              "Grand Am       20\n",
              "Park Avenue    20\n",
              "Sunfire        10\n",
              "Century        10\n",
              "GTO            10\n",
              "Classic        10\n",
              "XLR-V8         10\n",
              "STS-V8         10\n",
              "STS-V6         10\n",
              "CTS            10\n",
              "CST-V          10\n",
              "L Series       10\n",
              "9-2X AWD        4\n",
              "Name: Model, dtype: int64"
            ]
          },
          "metadata": {},
          "execution_count": 81
        }
      ]
    },
    {
      "cell_type": "code",
      "source": [
        "df1 = pd.get_dummies(df['Model'])"
      ],
      "metadata": {
        "id": "P1XuXgEPKznL"
      },
      "execution_count": 82,
      "outputs": []
    },
    {
      "cell_type": "code",
      "source": [
        "df1.head()"
      ],
      "metadata": {
        "colab": {
          "base_uri": "https://localhost:8080/",
          "height": 314
        },
        "id": "dMkNxrkOKzkl",
        "outputId": "d5f63779-3048-41e7-8e02-153b2cd80519"
      },
      "execution_count": 83,
      "outputs": [
        {
          "output_type": "execute_result",
          "data": {
            "text/plain": [
              "   9-2X AWD  9_3  9_3 HO  9_5  9_5 HO  AVEO  Bonneville  CST-V  CTS  Cavalier  \\\n",
              "0         0    0       0    0       0     0           0      0    0         0   \n",
              "1         0    0       0    0       0     0           0      0    0         0   \n",
              "2         0    0       0    0       0     0           0      0    0         0   \n",
              "3         0    0       0    0       0     0           0      0    0         0   \n",
              "4         0    0       0    0       0     0           0      0    0         0   \n",
              "\n",
              "   ...  Lacrosse  Lesabre  Malibu  Monte Carlo  Park Avenue  STS-V6  STS-V8  \\\n",
              "0  ...         0        0       0            0            0       0       0   \n",
              "1  ...         0        0       0            0            0       0       0   \n",
              "2  ...         0        0       0            0            0       0       0   \n",
              "3  ...         0        0       0            0            0       0       0   \n",
              "4  ...         0        0       0            0            0       0       0   \n",
              "\n",
              "   Sunfire  Vibe  XLR-V8  \n",
              "0        0     0       0  \n",
              "1        0     0       0  \n",
              "2        0     0       0  \n",
              "3        0     0       0  \n",
              "4        0     0       0  \n",
              "\n",
              "[5 rows x 32 columns]"
            ],
            "text/html": [
              "\n",
              "  <div id=\"df-d0711668-8916-486b-bfec-7eb6c9d3f217\">\n",
              "    <div class=\"colab-df-container\">\n",
              "      <div>\n",
              "<style scoped>\n",
              "    .dataframe tbody tr th:only-of-type {\n",
              "        vertical-align: middle;\n",
              "    }\n",
              "\n",
              "    .dataframe tbody tr th {\n",
              "        vertical-align: top;\n",
              "    }\n",
              "\n",
              "    .dataframe thead th {\n",
              "        text-align: right;\n",
              "    }\n",
              "</style>\n",
              "<table border=\"1\" class=\"dataframe\">\n",
              "  <thead>\n",
              "    <tr style=\"text-align: right;\">\n",
              "      <th></th>\n",
              "      <th>9-2X AWD</th>\n",
              "      <th>9_3</th>\n",
              "      <th>9_3 HO</th>\n",
              "      <th>9_5</th>\n",
              "      <th>9_5 HO</th>\n",
              "      <th>AVEO</th>\n",
              "      <th>Bonneville</th>\n",
              "      <th>CST-V</th>\n",
              "      <th>CTS</th>\n",
              "      <th>Cavalier</th>\n",
              "      <th>...</th>\n",
              "      <th>Lacrosse</th>\n",
              "      <th>Lesabre</th>\n",
              "      <th>Malibu</th>\n",
              "      <th>Monte Carlo</th>\n",
              "      <th>Park Avenue</th>\n",
              "      <th>STS-V6</th>\n",
              "      <th>STS-V8</th>\n",
              "      <th>Sunfire</th>\n",
              "      <th>Vibe</th>\n",
              "      <th>XLR-V8</th>\n",
              "    </tr>\n",
              "  </thead>\n",
              "  <tbody>\n",
              "    <tr>\n",
              "      <th>0</th>\n",
              "      <td>0</td>\n",
              "      <td>0</td>\n",
              "      <td>0</td>\n",
              "      <td>0</td>\n",
              "      <td>0</td>\n",
              "      <td>0</td>\n",
              "      <td>0</td>\n",
              "      <td>0</td>\n",
              "      <td>0</td>\n",
              "      <td>0</td>\n",
              "      <td>...</td>\n",
              "      <td>0</td>\n",
              "      <td>0</td>\n",
              "      <td>0</td>\n",
              "      <td>0</td>\n",
              "      <td>0</td>\n",
              "      <td>0</td>\n",
              "      <td>0</td>\n",
              "      <td>0</td>\n",
              "      <td>0</td>\n",
              "      <td>0</td>\n",
              "    </tr>\n",
              "    <tr>\n",
              "      <th>1</th>\n",
              "      <td>0</td>\n",
              "      <td>0</td>\n",
              "      <td>0</td>\n",
              "      <td>0</td>\n",
              "      <td>0</td>\n",
              "      <td>0</td>\n",
              "      <td>0</td>\n",
              "      <td>0</td>\n",
              "      <td>0</td>\n",
              "      <td>0</td>\n",
              "      <td>...</td>\n",
              "      <td>0</td>\n",
              "      <td>0</td>\n",
              "      <td>0</td>\n",
              "      <td>0</td>\n",
              "      <td>0</td>\n",
              "      <td>0</td>\n",
              "      <td>0</td>\n",
              "      <td>0</td>\n",
              "      <td>0</td>\n",
              "      <td>0</td>\n",
              "    </tr>\n",
              "    <tr>\n",
              "      <th>2</th>\n",
              "      <td>0</td>\n",
              "      <td>0</td>\n",
              "      <td>0</td>\n",
              "      <td>0</td>\n",
              "      <td>0</td>\n",
              "      <td>0</td>\n",
              "      <td>0</td>\n",
              "      <td>0</td>\n",
              "      <td>0</td>\n",
              "      <td>0</td>\n",
              "      <td>...</td>\n",
              "      <td>0</td>\n",
              "      <td>0</td>\n",
              "      <td>0</td>\n",
              "      <td>0</td>\n",
              "      <td>0</td>\n",
              "      <td>0</td>\n",
              "      <td>0</td>\n",
              "      <td>0</td>\n",
              "      <td>0</td>\n",
              "      <td>0</td>\n",
              "    </tr>\n",
              "    <tr>\n",
              "      <th>3</th>\n",
              "      <td>0</td>\n",
              "      <td>0</td>\n",
              "      <td>0</td>\n",
              "      <td>0</td>\n",
              "      <td>0</td>\n",
              "      <td>0</td>\n",
              "      <td>0</td>\n",
              "      <td>0</td>\n",
              "      <td>0</td>\n",
              "      <td>0</td>\n",
              "      <td>...</td>\n",
              "      <td>0</td>\n",
              "      <td>0</td>\n",
              "      <td>0</td>\n",
              "      <td>0</td>\n",
              "      <td>0</td>\n",
              "      <td>0</td>\n",
              "      <td>0</td>\n",
              "      <td>0</td>\n",
              "      <td>0</td>\n",
              "      <td>0</td>\n",
              "    </tr>\n",
              "    <tr>\n",
              "      <th>4</th>\n",
              "      <td>0</td>\n",
              "      <td>0</td>\n",
              "      <td>0</td>\n",
              "      <td>0</td>\n",
              "      <td>0</td>\n",
              "      <td>0</td>\n",
              "      <td>0</td>\n",
              "      <td>0</td>\n",
              "      <td>0</td>\n",
              "      <td>0</td>\n",
              "      <td>...</td>\n",
              "      <td>0</td>\n",
              "      <td>0</td>\n",
              "      <td>0</td>\n",
              "      <td>0</td>\n",
              "      <td>0</td>\n",
              "      <td>0</td>\n",
              "      <td>0</td>\n",
              "      <td>0</td>\n",
              "      <td>0</td>\n",
              "      <td>0</td>\n",
              "    </tr>\n",
              "  </tbody>\n",
              "</table>\n",
              "<p>5 rows × 32 columns</p>\n",
              "</div>\n",
              "      <button class=\"colab-df-convert\" onclick=\"convertToInteractive('df-d0711668-8916-486b-bfec-7eb6c9d3f217')\"\n",
              "              title=\"Convert this dataframe to an interactive table.\"\n",
              "              style=\"display:none;\">\n",
              "        \n",
              "  <svg xmlns=\"http://www.w3.org/2000/svg\" height=\"24px\"viewBox=\"0 0 24 24\"\n",
              "       width=\"24px\">\n",
              "    <path d=\"M0 0h24v24H0V0z\" fill=\"none\"/>\n",
              "    <path d=\"M18.56 5.44l.94 2.06.94-2.06 2.06-.94-2.06-.94-.94-2.06-.94 2.06-2.06.94zm-11 1L8.5 8.5l.94-2.06 2.06-.94-2.06-.94L8.5 2.5l-.94 2.06-2.06.94zm10 10l.94 2.06.94-2.06 2.06-.94-2.06-.94-.94-2.06-.94 2.06-2.06.94z\"/><path d=\"M17.41 7.96l-1.37-1.37c-.4-.4-.92-.59-1.43-.59-.52 0-1.04.2-1.43.59L10.3 9.45l-7.72 7.72c-.78.78-.78 2.05 0 2.83L4 21.41c.39.39.9.59 1.41.59.51 0 1.02-.2 1.41-.59l7.78-7.78 2.81-2.81c.8-.78.8-2.07 0-2.86zM5.41 20L4 18.59l7.72-7.72 1.47 1.35L5.41 20z\"/>\n",
              "  </svg>\n",
              "      </button>\n",
              "      \n",
              "  <style>\n",
              "    .colab-df-container {\n",
              "      display:flex;\n",
              "      flex-wrap:wrap;\n",
              "      gap: 12px;\n",
              "    }\n",
              "\n",
              "    .colab-df-convert {\n",
              "      background-color: #E8F0FE;\n",
              "      border: none;\n",
              "      border-radius: 50%;\n",
              "      cursor: pointer;\n",
              "      display: none;\n",
              "      fill: #1967D2;\n",
              "      height: 32px;\n",
              "      padding: 0 0 0 0;\n",
              "      width: 32px;\n",
              "    }\n",
              "\n",
              "    .colab-df-convert:hover {\n",
              "      background-color: #E2EBFA;\n",
              "      box-shadow: 0px 1px 2px rgba(60, 64, 67, 0.3), 0px 1px 3px 1px rgba(60, 64, 67, 0.15);\n",
              "      fill: #174EA6;\n",
              "    }\n",
              "\n",
              "    [theme=dark] .colab-df-convert {\n",
              "      background-color: #3B4455;\n",
              "      fill: #D2E3FC;\n",
              "    }\n",
              "\n",
              "    [theme=dark] .colab-df-convert:hover {\n",
              "      background-color: #434B5C;\n",
              "      box-shadow: 0px 1px 3px 1px rgba(0, 0, 0, 0.15);\n",
              "      filter: drop-shadow(0px 1px 2px rgba(0, 0, 0, 0.3));\n",
              "      fill: #FFFFFF;\n",
              "    }\n",
              "  </style>\n",
              "\n",
              "      <script>\n",
              "        const buttonEl =\n",
              "          document.querySelector('#df-d0711668-8916-486b-bfec-7eb6c9d3f217 button.colab-df-convert');\n",
              "        buttonEl.style.display =\n",
              "          google.colab.kernel.accessAllowed ? 'block' : 'none';\n",
              "\n",
              "        async function convertToInteractive(key) {\n",
              "          const element = document.querySelector('#df-d0711668-8916-486b-bfec-7eb6c9d3f217');\n",
              "          const dataTable =\n",
              "            await google.colab.kernel.invokeFunction('convertToInteractive',\n",
              "                                                     [key], {});\n",
              "          if (!dataTable) return;\n",
              "\n",
              "          const docLinkHtml = 'Like what you see? Visit the ' +\n",
              "            '<a target=\"_blank\" href=https://colab.research.google.com/notebooks/data_table.ipynb>data table notebook</a>'\n",
              "            + ' to learn more about interactive tables.';\n",
              "          element.innerHTML = '';\n",
              "          dataTable['output_type'] = 'display_data';\n",
              "          await google.colab.output.renderOutput(dataTable, element);\n",
              "          const docLink = document.createElement('div');\n",
              "          docLink.innerHTML = docLinkHtml;\n",
              "          element.appendChild(docLink);\n",
              "        }\n",
              "      </script>\n",
              "    </div>\n",
              "  </div>\n",
              "  "
            ]
          },
          "metadata": {},
          "execution_count": 83
        }
      ]
    },
    {
      "cell_type": "code",
      "source": [
        "#for i in list(combinations(['Make_Chevrolet', 'Make_Pontiac', 'Make_SAAB', 'Make_Buick', 'Make_Cadillac', 'Make_Saturn'],2)):\n",
        "for i in list(combinations(['Malibu', 'AVEO', 'Cavalier', 'Ion', 'Cobalt', '9_3 HO', 'Vibe', 'Bonneville', 'Monte Carlo', 'Lacrosse', 'Impala', 'Grand Prix', '9_5', 'Deville', 'Lesabre', 'Corvette', '9_3', '9_5 HO', 'G6', 'Grand Am', 'Park Avenue', 'Sunfire', 'Century', 'GTO', 'Classic', 'XLR-V8', 'STS-V8', 'STS-V6', 'CTS', 'CST-V', 'L Series', '9-2X AWD'],2)):\n",
        "  # feature and target\n",
        "  X = df1[list(i)].values\n",
        "  y = df['Price'].values\n",
        "  # split\n",
        "  X_train, X_test, y_train, y_test = train_test_split(X, y, test_size=0.3, random_state = 555)\n",
        "  # scale\n",
        "  scaler = StandardScaler()\n",
        "  scaler.fit(X_train)\n",
        "  X_train_scaled = scaler.transform(X_train)\n",
        "  X_test_scaled = scaler.transform(X_test)\n",
        "  # model\n",
        "  regressor = LinearRegression() \n",
        "  regressor.fit(X_train_scaled, y_train)\n",
        "  # print('Co-efficient :', regressor.coef_ , 'Intercept :', regressor.intercept_)\n",
        "  # Predict\n",
        "  y_pred = regressor.predict(X_test_scaled)\n",
        "  # Evaluation\n",
        "  print(i, 'R2 - SCORE : ', regressor.score(X_test_scaled,y_test))"
      ],
      "metadata": {
        "colab": {
          "base_uri": "https://localhost:8080/"
        },
        "id": "26X_zu-9KziD",
        "outputId": "437bdd08-db32-4513-dc1f-644c383a7ddf"
      },
      "execution_count": 84,
      "outputs": [
        {
          "output_type": "stream",
          "name": "stdout",
          "text": [
            "('Malibu', 'AVEO') R2 - SCORE :  0.09761026100934644\n",
            "('Malibu', 'Cavalier') R2 - SCORE :  0.04754065935829299\n",
            "('Malibu', 'Ion') R2 - SCORE :  0.06924219241467322\n",
            "('Malibu', 'Cobalt') R2 - SCORE :  0.052523989195553455\n",
            "('Malibu', '9_3 HO') R2 - SCORE :  0.03712684996631632\n",
            "('Malibu', 'Vibe') R2 - SCORE :  0.015445203175475375\n",
            "('Malibu', 'Bonneville') R2 - SCORE :  0.003616847550207747\n",
            "('Malibu', 'Monte Carlo') R2 - SCORE :  0.005461458733640234\n",
            "('Malibu', 'Lacrosse') R2 - SCORE :  0.0035629467762869904\n",
            "('Malibu', 'Impala') R2 - SCORE :  0.005474268260299953\n",
            "('Malibu', 'Grand Prix') R2 - SCORE :  0.008417179094322158\n",
            "('Malibu', '9_5') R2 - SCORE :  0.022861375270450845\n",
            "('Malibu', 'Deville') R2 - SCORE :  0.08975847882303822\n",
            "('Malibu', 'Lesabre') R2 - SCORE :  0.005037566844059871\n",
            "('Malibu', 'Corvette') R2 - SCORE :  0.08914449018477477\n",
            "('Malibu', '9_3') R2 - SCORE :  0.017342209174472822\n",
            "('Malibu', '9_5 HO') R2 - SCORE :  0.009852994444014107\n",
            "('Malibu', 'G6') R2 - SCORE :  0.004565713704714036\n",
            "('Malibu', 'Grand Am') R2 - SCORE :  0.009169521222027854\n",
            "('Malibu', 'Park Avenue') R2 - SCORE :  0.0052327812103857285\n",
            "('Malibu', 'Sunfire') R2 - SCORE :  0.018521184611557273\n",
            "('Malibu', 'Century') R2 - SCORE :  0.0063370276100669365\n",
            "('Malibu', 'GTO') R2 - SCORE :  0.0064598071717020256\n",
            "('Malibu', 'Classic') R2 - SCORE :  0.014409209491772268\n",
            "('Malibu', 'XLR-V8') R2 - SCORE :  0.194527083277793\n",
            "('Malibu', 'STS-V8') R2 - SCORE :  0.05217237637847305\n",
            "('Malibu', 'STS-V6') R2 - SCORE :  0.051465750086722384\n",
            "('Malibu', 'CTS') R2 - SCORE :  0.012055651348849672\n",
            "('Malibu', 'CST-V') R2 - SCORE :  0.11590472080185432\n",
            "('Malibu', 'L Series') R2 - SCORE :  0.005825879552638802\n",
            "('Malibu', '9-2X AWD') R2 - SCORE :  0.004096820760626008\n",
            "('AVEO', 'Cavalier') R2 - SCORE :  0.13591945111203674\n",
            "('AVEO', 'Ion') R2 - SCORE :  0.15764892296104316\n",
            "('AVEO', 'Cobalt') R2 - SCORE :  0.1400034592533388\n",
            "('AVEO', '9_3 HO') R2 - SCORE :  0.11098158477877818\n",
            "('AVEO', 'Vibe') R2 - SCORE :  0.09798082277443687\n",
            "('AVEO', 'Bonneville') R2 - SCORE :  0.08370514248146765\n",
            "('AVEO', 'Monte Carlo') R2 - SCORE :  0.08631033992149661\n",
            "('AVEO', 'Lacrosse') R2 - SCORE :  0.08360066378263364\n",
            "('AVEO', 'Impala') R2 - SCORE :  0.0863944197915767\n",
            "('AVEO', 'Grand Prix') R2 - SCORE :  0.09004144977298167\n",
            "('AVEO', '9_5') R2 - SCORE :  0.09877501384372\n",
            "('AVEO', 'Deville') R2 - SCORE :  0.1615926082905057\n",
            "('AVEO', 'Lesabre') R2 - SCORE :  0.08551638410196793\n",
            "('AVEO', 'Corvette') R2 - SCORE :  0.1627213271078526\n",
            "('AVEO', '9_3') R2 - SCORE :  0.0945682907428248\n",
            "('AVEO', '9_5 HO') R2 - SCORE :  0.08764362622404842\n",
            "('AVEO', 'G6') R2 - SCORE :  0.08496224700363442\n",
            "('AVEO', 'Grand Am') R2 - SCORE :  0.09059629765877575\n",
            "('AVEO', 'Park Avenue') R2 - SCORE :  0.08402552407716046\n",
            "('AVEO', 'Sunfire') R2 - SCORE :  0.09998939828818143\n",
            "('AVEO', 'Century') R2 - SCORE :  0.08679046156718984\n",
            "('AVEO', 'GTO') R2 - SCORE :  0.08510270394395214\n",
            "('AVEO', 'Classic') R2 - SCORE :  0.09556081735089716\n",
            "('AVEO', 'XLR-V8') R2 - SCORE :  0.26765129572083135\n",
            "('AVEO', 'STS-V8') R2 - SCORE :  0.12844184173165818\n",
            "('AVEO', 'STS-V6') R2 - SCORE :  0.12785995136182138\n",
            "('AVEO', 'CTS') R2 - SCORE :  0.09027976017799799\n",
            "('AVEO', 'CST-V') R2 - SCORE :  0.19062902774674662\n",
            "('AVEO', 'L Series') R2 - SCORE :  0.08620009722917166\n",
            "('AVEO', '9-2X AWD') R2 - SCORE :  0.08346917818252453\n",
            "('Cavalier', 'Ion') R2 - SCORE :  0.10738486468499997\n",
            "('Cavalier', 'Cobalt') R2 - SCORE :  0.0897481562877166\n",
            "('Cavalier', '9_3 HO') R2 - SCORE :  0.06754654000310167\n",
            "('Cavalier', 'Vibe') R2 - SCORE :  0.04949051544957761\n",
            "('Cavalier', 'Bonneville') R2 - SCORE :  0.0367004970562379\n",
            "('Cavalier', 'Monte Carlo') R2 - SCORE :  0.03912295459099857\n",
            "('Cavalier', 'Lacrosse') R2 - SCORE :  0.036677855449383845\n",
            "('Cavalier', 'Impala') R2 - SCORE :  0.039272049322702896\n",
            "('Cavalier', 'Grand Prix') R2 - SCORE :  0.04219925279063941\n",
            "('Cavalier', '9_5') R2 - SCORE :  0.05450642075860712\n",
            "('Cavalier', 'Deville') R2 - SCORE :  0.11878141302153034\n",
            "('Cavalier', 'Lesabre') R2 - SCORE :  0.03847844086797014\n",
            "('Cavalier', 'Corvette') R2 - SCORE :  0.11916631660858512\n",
            "('Cavalier', '9_3') R2 - SCORE :  0.049247651359392575\n",
            "('Cavalier', '9_5 HO') R2 - SCORE :  0.042247437634742036\n",
            "('Cavalier', 'G6') R2 - SCORE :  0.037907122111201064\n",
            "('Cavalier', 'Grand Am') R2 - SCORE :  0.042614744278496985\n",
            "('Cavalier', 'Park Avenue') R2 - SCORE :  0.037744665819319234\n",
            "('Cavalier', 'Sunfire') R2 - SCORE :  0.052630300725815427\n",
            "('Cavalier', 'Century') R2 - SCORE :  0.039556193700428066\n",
            "('Cavalier', 'GTO') R2 - SCORE :  0.03921019056246422\n",
            "('Cavalier', 'Classic') R2 - SCORE :  0.048232092913352065\n",
            "('Cavalier', 'XLR-V8') R2 - SCORE :  0.22480010219718738\n",
            "('Cavalier', 'STS-V8') R2 - SCORE :  0.08378101666981386\n",
            "('Cavalier', 'STS-V6') R2 - SCORE :  0.0824387533559886\n",
            "('Cavalier', 'CTS') R2 - SCORE :  0.0444474336361671\n",
            "('Cavalier', 'CST-V') R2 - SCORE :  0.1457723062550944\n",
            "('Cavalier', 'L Series') R2 - SCORE :  0.03902343501450545\n",
            "('Cavalier', '9-2X AWD') R2 - SCORE :  0.03695231222271356\n",
            "('Ion', 'Cobalt') R2 - SCORE :  0.10741544017694915\n",
            "('Ion', '9_3 HO') R2 - SCORE :  0.08279177312297803\n",
            "('Ion', 'Vibe') R2 - SCORE :  0.06846974723113763\n",
            "('Ion', 'Bonneville') R2 - SCORE :  0.05442904084346012\n",
            "('Ion', 'Monte Carlo') R2 - SCORE :  0.056444082966600084\n",
            "('Ion', 'Lacrosse') R2 - SCORE :  0.05424550354657809\n",
            "('Ion', 'Impala') R2 - SCORE :  0.05630743028314833\n",
            "('Ion', 'Grand Prix') R2 - SCORE :  0.06045019829447951\n",
            "('Ion', '9_5') R2 - SCORE :  0.06960120521188362\n",
            "('Ion', 'Deville') R2 - SCORE :  0.1348372776433303\n",
            "('Ion', 'Lesabre') R2 - SCORE :  0.05589751398756615\n",
            "('Ion', 'Corvette') R2 - SCORE :  0.13522741328974086\n",
            "('Ion', '9_3') R2 - SCORE :  0.06580291248743542\n",
            "('Ion', '9_5 HO') R2 - SCORE :  0.05829287607229949\n",
            "('Ion', 'G6') R2 - SCORE :  0.05549234742194564\n",
            "('Ion', 'Grand Am') R2 - SCORE :  0.06159625835768101\n",
            "('Ion', 'Park Avenue') R2 - SCORE :  0.055124102705011\n",
            "('Ion', 'Sunfire') R2 - SCORE :  0.06979481711052993\n",
            "('Ion', 'Century') R2 - SCORE :  0.05765181199223901\n",
            "('Ion', 'GTO') R2 - SCORE :  0.055679506622086095\n",
            "('Ion', 'Classic') R2 - SCORE :  0.06571222486285244\n",
            "('Ion', 'XLR-V8') R2 - SCORE :  0.23945557372130677\n",
            "('Ion', 'STS-V8') R2 - SCORE :  0.09969328300081692\n",
            "('Ion', 'STS-V6') R2 - SCORE :  0.1004386990632894\n",
            "('Ion', 'CTS') R2 - SCORE :  0.061286745826737654\n",
            "('Ion', 'CST-V') R2 - SCORE :  0.1642526424192423\n",
            "('Ion', 'L Series') R2 - SCORE :  0.057050644469030076\n",
            "('Ion', '9-2X AWD') R2 - SCORE :  0.05436627619875689\n",
            "('Cobalt', '9_3 HO') R2 - SCORE :  0.06827071802907592\n",
            "('Cobalt', 'Vibe') R2 - SCORE :  0.05230432734291657\n",
            "('Cobalt', 'Bonneville') R2 - SCORE :  0.03875381785352261\n",
            "('Cobalt', 'Monte Carlo') R2 - SCORE :  0.04074366031415233\n",
            "('Cobalt', 'Lacrosse') R2 - SCORE :  0.03860098688280045\n",
            "('Cobalt', 'Impala') R2 - SCORE :  0.040646561716639384\n",
            "('Cobalt', 'Grand Prix') R2 - SCORE :  0.044506755523493036\n",
            "('Cobalt', '9_5') R2 - SCORE :  0.054862352898783606\n",
            "('Cobalt', 'Deville') R2 - SCORE :  0.12040039607488251\n",
            "('Cobalt', 'Lesabre') R2 - SCORE :  0.04021854553444992\n",
            "('Cobalt', 'Corvette') R2 - SCORE :  0.12058339637901472\n",
            "('Cobalt', '9_3') R2 - SCORE :  0.0506487894469847\n",
            "('Cobalt', '9_5 HO') R2 - SCORE :  0.043161784285986604\n",
            "('Cobalt', 'G6') R2 - SCORE :  0.03979416625042409\n",
            "('Cobalt', 'Grand Am') R2 - SCORE :  0.04555150251285156\n",
            "('Cobalt', 'Park Avenue') R2 - SCORE :  0.039645479333615063\n",
            "('Cobalt', 'Sunfire') R2 - SCORE :  0.054035413734729865\n",
            "('Cobalt', 'Century') R2 - SCORE :  0.041857970796508215\n",
            "('Cobalt', 'GTO') R2 - SCORE :  0.04037009918801704\n",
            "('Cobalt', 'Classic') R2 - SCORE :  0.049937945157858765\n",
            "('Cobalt', 'XLR-V8') R2 - SCORE :  0.225111675918086\n",
            "('Cobalt', 'STS-V8') R2 - SCORE :  0.0847566752736939\n",
            "('Cobalt', 'STS-V6') R2 - SCORE :  0.08512620586958541\n",
            "('Cobalt', 'CTS') R2 - SCORE :  0.04596197671684321\n",
            "('Cobalt', 'CST-V') R2 - SCORE :  0.1490500297994325\n",
            "('Cobalt', 'L Series') R2 - SCORE :  0.04127732446972521\n",
            "('Cobalt', '9-2X AWD') R2 - SCORE :  0.03880735640809807\n",
            "('9_3 HO', 'Vibe') R2 - SCORE :  0.038240833987817635\n",
            "('9_3 HO', 'Bonneville') R2 - SCORE :  0.02857766656866112\n",
            "('9_3 HO', 'Monte Carlo') R2 - SCORE :  0.02929456074906034\n",
            "('9_3 HO', 'Lacrosse') R2 - SCORE :  0.028549407824746798\n",
            "('9_3 HO', 'Impala') R2 - SCORE :  0.028987019189389507\n",
            "('9_3 HO', 'Grand Prix') R2 - SCORE :  0.03191669345234038\n",
            "('9_3 HO', '9_5') R2 - SCORE :  0.05155024366926142\n",
            "('9_3 HO', 'Deville') R2 - SCORE :  0.12476251697812879\n",
            "('9_3 HO', 'Lesabre') R2 - SCORE :  0.029266647109397526\n",
            "('9_3 HO', 'Corvette') R2 - SCORE :  0.1216139920501248\n",
            "('9_3 HO', '9_3') R2 - SCORE :  0.045254722474898035\n",
            "('9_3 HO', '9_5 HO') R2 - SCORE :  0.036585359292493846\n",
            "('9_3 HO', 'G6') R2 - SCORE :  0.02907592833766215\n",
            "('9_3 HO', 'Grand Am') R2 - SCORE :  0.033307646104549726\n",
            "('9_3 HO', 'Park Avenue') R2 - SCORE :  0.03176194711772817\n",
            "('9_3 HO', 'Sunfire') R2 - SCORE :  0.041171325327224895\n",
            "('9_3 HO', 'Century') R2 - SCORE :  0.030966668999048097\n",
            "('9_3 HO', 'GTO') R2 - SCORE :  0.03223997084050656\n",
            "('9_3 HO', 'Classic') R2 - SCORE :  0.03769486704931668\n",
            "('9_3 HO', 'XLR-V8') R2 - SCORE :  0.22644139359494864\n",
            "('9_3 HO', 'STS-V8') R2 - SCORE :  0.08075744106551053\n",
            "('9_3 HO', 'STS-V6') R2 - SCORE :  0.08153979304364178\n",
            "('9_3 HO', 'CTS') R2 - SCORE :  0.038718702753721246\n",
            "('9_3 HO', 'CST-V') R2 - SCORE :  0.148565005350633\n",
            "('9_3 HO', 'L Series') R2 - SCORE :  0.030506552975414047\n",
            "('9_3 HO', '9-2X AWD') R2 - SCORE :  0.02958528947975614\n",
            "('Vibe', 'Bonneville') R2 - SCORE :  0.004568172360042921\n",
            "('Vibe', 'Monte Carlo') R2 - SCORE :  0.006193993939393461\n",
            "('Vibe', 'Lacrosse') R2 - SCORE :  0.004481050906988915\n",
            "('Vibe', 'Impala') R2 - SCORE :  0.006107753902851787\n",
            "('Vibe', 'Grand Prix') R2 - SCORE :  0.009318478651752948\n",
            "('Vibe', '9_5') R2 - SCORE :  0.02364677404752147\n",
            "('Vibe', 'Deville') R2 - SCORE :  0.0913370012120911\n",
            "('Vibe', 'Lesabre') R2 - SCORE :  0.0058442279043826595\n",
            "('Vibe', 'Corvette') R2 - SCORE :  0.09050374889363588\n",
            "('Vibe', '9_3') R2 - SCORE :  0.018361039692184278\n",
            "('Vibe', '9_5 HO') R2 - SCORE :  0.01063917271083592\n",
            "('Vibe', 'G6') R2 - SCORE :  0.005440798767392008\n",
            "('Vibe', 'Grand Am') R2 - SCORE :  0.010319702977807377\n",
            "('Vibe', 'Park Avenue') R2 - SCORE :  0.006285508064428735\n",
            "('Vibe', 'Sunfire') R2 - SCORE :  0.01909648635051231\n",
            "('Vibe', 'Century') R2 - SCORE :  0.007347134865720029\n",
            "('Vibe', 'GTO') R2 - SCORE :  0.007240188536584591\n",
            "('Vibe', 'Classic') R2 - SCORE :  0.015127803510771254\n",
            "('Vibe', 'XLR-V8') R2 - SCORE :  0.1955485933309763\n",
            "('Vibe', 'STS-V8') R2 - SCORE :  0.05312975072802695\n",
            "('Vibe', 'STS-V6') R2 - SCORE :  0.05303428199686111\n",
            "('Vibe', 'CTS') R2 - SCORE :  0.013010963437470324\n",
            "('Vibe', 'CST-V') R2 - SCORE :  0.11783625869962733\n",
            "('Vibe', 'L Series') R2 - SCORE :  0.006826316468724003\n",
            "('Vibe', '9-2X AWD') R2 - SCORE :  0.0050544598780862815\n",
            "('Bonneville', 'Monte Carlo') R2 - SCORE :  -0.005387015766538994\n",
            "('Bonneville', 'Lacrosse') R2 - SCORE :  -0.006821243657181286\n",
            "('Bonneville', 'Impala') R2 - SCORE :  -0.005544729093328371\n",
            "('Bonneville', 'Grand Prix') R2 - SCORE :  -0.002360355328372865\n",
            "('Bonneville', '9_5') R2 - SCORE :  0.013252085685768078\n",
            "('Bonneville', 'Deville') R2 - SCORE :  0.08245163668795175\n",
            "('Bonneville', 'Lesabre') R2 - SCORE :  -0.005630717909556049\n",
            "('Bonneville', 'Corvette') R2 - SCORE :  0.08102245088546456\n",
            "('Bonneville', '9_3') R2 - SCORE :  0.0077825170666792065\n",
            "('Bonneville', '9_5 HO') R2 - SCORE :  -0.00021541402836278145\n",
            "('Bonneville', 'G6') R2 - SCORE :  -0.0059721319625334335\n",
            "('Bonneville', 'Grand Am') R2 - SCORE :  -0.0012091243028105048\n",
            "('Bonneville', 'Park Avenue') R2 - SCORE :  -0.004640750798683202\n",
            "('Bonneville', 'Sunfire') R2 - SCORE :  0.007254469662618002\n",
            "('Bonneville', 'Century') R2 - SCORE :  -0.00403298092916371\n",
            "('Bonneville', 'GTO') R2 - SCORE :  -0.0038357076643789068\n",
            "('Bonneville', 'Classic') R2 - SCORE :  0.0034337902182178803\n",
            "('Bonneville', 'XLR-V8') R2 - SCORE :  0.18594432657192084\n",
            "('Bonneville', 'STS-V8') R2 - SCORE :  0.042728618858815515\n",
            "('Bonneville', 'STS-V6') R2 - SCORE :  0.04296413549602873\n",
            "('Bonneville', 'CTS') R2 - SCORE :  0.0021400208063315773\n",
            "('Bonneville', 'CST-V') R2 - SCORE :  0.10838607751273022\n",
            "('Bonneville', 'L Series') R2 - SCORE :  -0.004539992135890625\n",
            "('Bonneville', '9-2X AWD') R2 - SCORE :  -0.006100881393875435\n",
            "('Monte Carlo', 'Lacrosse') R2 - SCORE :  -0.0054808704364806005\n",
            "('Monte Carlo', 'Impala') R2 - SCORE :  -0.004148815174088716\n",
            "('Monte Carlo', 'Grand Prix') R2 - SCORE :  -0.0008496445267385244\n",
            "('Monte Carlo', '9_5') R2 - SCORE :  0.014147098699977989\n",
            "('Monte Carlo', 'Deville') R2 - SCORE :  0.08302946517809273\n",
            "('Monte Carlo', 'Lesabre') R2 - SCORE :  -0.004248118886607921\n",
            "('Monte Carlo', 'Corvette') R2 - SCORE :  0.0817570590132074\n",
            "('Monte Carlo', '9_3') R2 - SCORE :  0.008846813505890005\n",
            "('Monte Carlo', '9_5 HO') R2 - SCORE :  0.0008794693072794457\n",
            "('Monte Carlo', 'G6') R2 - SCORE :  -0.004589856067448661\n",
            "('Monte Carlo', 'Grand Am') R2 - SCORE :  0.0003268678089369814\n",
            "('Monte Carlo', 'Park Avenue') R2 - SCORE :  -0.0034086168488278723\n",
            "('Monte Carlo', 'Sunfire') R2 - SCORE :  0.008723191061103197\n",
            "('Monte Carlo', 'Century') R2 - SCORE :  -0.0026142477498418693\n",
            "('Monte Carlo', 'GTO') R2 - SCORE :  -0.002642799239023663\n",
            "('Monte Carlo', 'Classic') R2 - SCORE :  0.0048880033021012625\n",
            "('Monte Carlo', 'XLR-V8') R2 - SCORE :  0.18660897981412716\n",
            "('Monte Carlo', 'STS-V8') R2 - SCORE :  0.04369657708115693\n",
            "('Monte Carlo', 'STS-V6') R2 - SCORE :  0.04401865504438418\n",
            "('Monte Carlo', 'CTS') R2 - SCORE :  0.0033104245884392203\n",
            "('Monte Carlo', 'CST-V') R2 - SCORE :  0.10931182881943524\n",
            "('Monte Carlo', 'L Series') R2 - SCORE :  -0.003131294174596233\n",
            "('Monte Carlo', '9-2X AWD') R2 - SCORE :  -0.004801489285574112\n",
            "('Lacrosse', 'Impala') R2 - SCORE :  -0.005643414582901185\n",
            "('Lacrosse', 'Grand Prix') R2 - SCORE :  -0.002449065417489127\n",
            "('Lacrosse', '9_5') R2 - SCORE :  0.013192801350575323\n",
            "('Lacrosse', 'Deville') R2 - SCORE :  0.08245487093830572\n",
            "('Lacrosse', 'Lesabre') R2 - SCORE :  -0.005720237552771179\n",
            "('Lacrosse', 'Corvette') R2 - SCORE :  0.08100120776012343\n",
            "('Lacrosse', '9_3') R2 - SCORE :  0.007719706431238982\n",
            "('Lacrosse', '9_5 HO') R2 - SCORE :  -0.00029107814330142645\n",
            "('Lacrosse', 'G6') R2 - SCORE :  -0.006057813252372313\n",
            "('Lacrosse', 'Grand Am') R2 - SCORE :  -0.0012855887312794856\n",
            "('Lacrosse', 'Park Avenue') R2 - SCORE :  -0.004710950217298615\n",
            "('Lacrosse', 'Sunfire') R2 - SCORE :  0.007150894345791414\n",
            "('Lacrosse', 'Century') R2 - SCORE :  -0.004113356562808201\n",
            "('Lacrosse', 'GTO') R2 - SCORE :  -0.003917717778185503\n",
            "('Lacrosse', 'Classic') R2 - SCORE :  0.0033378021561751847\n",
            "('Lacrosse', 'XLR-V8') R2 - SCORE :  0.1859189015999746\n",
            "('Lacrosse', 'STS-V8') R2 - SCORE :  0.04267031378833752\n",
            "('Lacrosse', 'STS-V6') R2 - SCORE :  0.04292817675535787\n",
            "('Lacrosse', 'CTS') R2 - SCORE :  0.0020678817314407905\n",
            "('Lacrosse', 'CST-V') R2 - SCORE :  0.10837458461082472\n",
            "('Lacrosse', 'L Series') R2 - SCORE :  -0.004620558462298696\n",
            "('Lacrosse', '9-2X AWD') R2 - SCORE :  -0.00617921256772247\n",
            "('Impala', 'Grand Prix') R2 - SCORE :  -0.0009699566792660264\n",
            "('Impala', '9_5') R2 - SCORE :  0.01384824382775407\n",
            "('Impala', 'Deville') R2 - SCORE :  0.0827454893362991\n",
            "('Impala', 'Lesabre') R2 - SCORE :  -0.00440901310568953\n",
            "('Impala', 'Corvette') R2 - SCORE :  0.08148666806670923\n",
            "('Impala', '9_3') R2 - SCORE :  0.008624706851002362\n",
            "('Impala', '9_5 HO') R2 - SCORE :  0.0006388741020287858\n",
            "('Impala', 'G6') R2 - SCORE :  -0.00474342735571609\n",
            "('Impala', 'Grand Am') R2 - SCORE :  0.00023497705306974037\n",
            "('Impala', 'Park Avenue') R2 - SCORE :  -0.0035818488899928003\n",
            "('Impala', 'Sunfire') R2 - SCORE :  0.008563587427954378\n",
            "('Impala', 'Century') R2 - SCORE :  -0.002746162907309113\n",
            "('Impala', 'GTO') R2 - SCORE :  -0.002856469855602617\n",
            "('Impala', 'Classic') R2 - SCORE :  0.004738019539793359\n",
            "('Impala', 'XLR-V8') R2 - SCORE :  0.18627382426137107\n",
            "('Impala', 'STS-V8') R2 - SCORE :  0.04344160350353965\n",
            "('Impala', 'STS-V6') R2 - SCORE :  0.043855809668949974\n",
            "('Impala', 'CTS') R2 - SCORE :  0.0031102382296754882\n",
            "('Impala', 'CST-V') R2 - SCORE :  0.10915715428242323\n",
            "('Impala', 'L Series') R2 - SCORE :  -0.003266620224858352\n",
            "('Impala', '9-2X AWD') R2 - SCORE :  -0.00496766848128849\n",
            "('Grand Prix', '9_5') R2 - SCORE :  0.01703117548247124\n",
            "('Grand Prix', 'Deville') R2 - SCORE :  0.0853318729889484\n",
            "('Grand Prix', 'Lesabre') R2 - SCORE :  -0.0011547031511838224\n",
            "('Grand Prix', 'Corvette') R2 - SCORE :  0.08426365107534983\n",
            "('Grand Prix', '9_3') R2 - SCORE :  0.011695389899739173\n",
            "('Grand Prix', '9_5 HO') R2 - SCORE :  0.0038563410902274775\n",
            "('Grand Prix', 'G6') R2 - SCORE :  -0.0015302512945580826\n",
            "('Grand Prix', 'Grand Am') R2 - SCORE :  0.0033372301162289952\n",
            "('Grand Prix', 'Park Avenue') R2 - SCORE :  -0.0005006165879830604\n",
            "('Grand Prix', 'Sunfire') R2 - SCORE :  0.011950754993636958\n",
            "('Grand Prix', 'Century') R2 - SCORE :  0.00040172150500361603\n",
            "('Grand Prix', 'GTO') R2 - SCORE :  0.00037901146130048247\n",
            "('Grand Prix', 'Classic') R2 - SCORE :  0.00804665931616233\n",
            "('Grand Prix', 'XLR-V8') R2 - SCORE :  0.18924595892779605\n",
            "('Grand Prix', 'STS-V8') R2 - SCORE :  0.04652483419437958\n",
            "('Grand Prix', 'STS-V6') R2 - SCORE :  0.046595418155525814\n",
            "('Grand Prix', 'CTS') R2 - SCORE :  0.006237016167607745\n",
            "('Grand Prix', 'CST-V') R2 - SCORE :  0.11164800615449144\n",
            "('Grand Prix', 'L Series') R2 - SCORE :  -0.00011535727172828913\n",
            "('Grand Prix', '9-2X AWD') R2 - SCORE :  -0.0018181500329594869\n",
            "('9_5', 'Deville') R2 - SCORE :  0.10684622317916814\n",
            "('9_5', 'Lesabre') R2 - SCORE :  0.014072546941403141\n",
            "('9_5', 'Corvette') R2 - SCORE :  0.10429686607937949\n",
            "('9_5', '9_3') R2 - SCORE :  0.029070160550110913\n",
            "('9_5', '9_5 HO') R2 - SCORE :  0.02054616195845327\n",
            "('9_5', 'G6') R2 - SCORE :  0.013860550052610554\n",
            "('9_5', 'Grand Am') R2 - SCORE :  0.01845237611216366\n",
            "('9_5', 'Park Avenue') R2 - SCORE :  0.01606935583902136\n",
            "('9_5', 'Sunfire') R2 - SCORE :  0.026291358654765062\n",
            "('9_5', 'Century') R2 - SCORE :  0.01584671463164511\n",
            "('9_5', 'GTO') R2 - SCORE :  0.016524128429637464\n",
            "('9_5', 'Classic') R2 - SCORE :  0.02274124613108519\n",
            "('9_5', 'XLR-V8') R2 - SCORE :  0.20894650517608537\n",
            "('9_5', 'STS-V8') R2 - SCORE :  0.06430317722700318\n",
            "('9_5', 'STS-V6') R2 - SCORE :  0.06522501656768365\n",
            "('9_5', 'CTS') R2 - SCORE :  0.02289349241619698\n",
            "('9_5', 'CST-V') R2 - SCORE :  0.1317811566350553\n",
            "('9_5', 'L Series') R2 - SCORE :  0.015361237774024428\n",
            "('9_5', '9-2X AWD') R2 - SCORE :  0.014151646803473916\n",
            "('Deville', 'Lesabre') R2 - SCORE :  0.08302407896934261\n",
            "('Deville', 'Corvette') R2 - SCORE :  0.17725082176817153\n",
            "('Deville', '9_3') R2 - SCORE :  0.09993787668404153\n",
            "('Deville', '9_5 HO') R2 - SCORE :  0.09121276476850004\n",
            "('Deville', 'G6') R2 - SCORE :  0.08282793371469721\n",
            "('Deville', 'Grand Am') R2 - SCORE :  0.08661946588872771\n",
            "('Deville', 'Park Avenue') R2 - SCORE :  0.08593494758338471\n",
            "('Deville', 'Sunfire') R2 - SCORE :  0.09466026868839761\n",
            "('Deville', 'Century') R2 - SCORE :  0.08458121704169863\n",
            "('Deville', 'GTO') R2 - SCORE :  0.0865376575360417\n",
            "('Deville', 'Classic') R2 - SCORE :  0.09121962106410231\n",
            "('Deville', 'XLR-V8') R2 - SCORE :  0.2823768150522429\n",
            "('Deville', 'STS-V8') R2 - SCORE :  0.13572085313870252\n",
            "('Deville', 'STS-V6') R2 - SCORE :  0.1361472949733571\n",
            "('Deville', 'CTS') R2 - SCORE :  0.09306075191835084\n",
            "('Deville', 'CST-V') R2 - SCORE :  0.20349819948045067\n",
            "('Deville', 'L Series') R2 - SCORE :  0.08415015255173397\n",
            "('Deville', '9-2X AWD') R2 - SCORE :  0.08352886897197176\n",
            "('Lesabre', 'Corvette') R2 - SCORE :  0.0817157601395353\n",
            "('Lesabre', '9_3') R2 - SCORE :  0.008707229901700808\n",
            "('Lesabre', '9_5 HO') R2 - SCORE :  0.0007330983075872766\n",
            "('Lesabre', 'G6') R2 - SCORE :  -0.004845085929901849\n",
            "('Lesabre', 'Grand Am') R2 - SCORE :  1.4047545645268222e-05\n",
            "('Lesabre', 'Park Avenue') R2 - SCORE :  -0.0036084488255698766\n",
            "('Lesabre', 'Sunfire') R2 - SCORE :  0.008433997259252535\n",
            "('Lesabre', 'Century') R2 - SCORE :  -0.002883159127119672\n",
            "('Lesabre', 'GTO') R2 - SCORE :  -0.0028254756660113234\n",
            "('Lesabre', 'Classic') R2 - SCORE :  0.004604734702753244\n",
            "('Lesabre', 'XLR-V8') R2 - SCORE :  0.18660090938243257\n",
            "('Lesabre', 'STS-V8') R2 - SCORE :  0.04359163480010242\n",
            "('Lesabre', 'STS-V6') R2 - SCORE :  0.04387575887067563\n",
            "('Lesabre', 'CTS') R2 - SCORE :  0.003133905774479917\n",
            "('Lesabre', 'CST-V') R2 - SCORE :  0.10920493130954334\n",
            "('Lesabre', 'L Series') R2 - SCORE :  -0.003396423556823569\n",
            "('Lesabre', '9-2X AWD') R2 - SCORE :  -0.005025438178072772\n",
            "('Corvette', '9_3') R2 - SCORE :  0.09780471991762996\n",
            "('Corvette', '9_5 HO') R2 - SCORE :  0.089216268614833\n",
            "('Corvette', 'G6') R2 - SCORE :  0.08149720965937701\n",
            "('Corvette', 'Grand Am') R2 - SCORE :  0.08556873367427253\n",
            "('Corvette', 'Park Avenue') R2 - SCORE :  0.08420124633113191\n",
            "('Corvette', 'Sunfire') R2 - SCORE :  0.0936284885571591\n",
            "('Corvette', 'Century') R2 - SCORE :  0.08332738961106312\n",
            "('Corvette', 'GTO') R2 - SCORE :  0.08481181198207677\n",
            "('Corvette', 'Classic') R2 - SCORE :  0.09011910702458592\n",
            "('Corvette', 'XLR-V8') R2 - SCORE :  0.27917767491490086\n",
            "('Corvette', 'STS-V8') R2 - SCORE :  0.13337793233186035\n",
            "('Corvette', 'STS-V6') R2 - SCORE :  0.13387351425941818\n",
            "('Corvette', 'CTS') R2 - SCORE :  0.09123252596414477\n",
            "('Corvette', 'CST-V') R2 - SCORE :  0.20081220782785758\n",
            "('Corvette', 'L Series') R2 - SCORE :  0.08287615212973165\n",
            "('Corvette', '9-2X AWD') R2 - SCORE :  0.08202470762609004\n",
            "('9_3', '9_5 HO') R2 - SCORE :  0.014959715105424043\n",
            "('9_3', 'G6') R2 - SCORE :  0.008429143187711152\n",
            "('9_3', 'Grand Am') R2 - SCORE :  0.012964082249905085\n",
            "('9_3', 'Park Avenue') R2 - SCORE :  0.010348814604235312\n",
            "('9_3', 'Sunfire') R2 - SCORE :  0.021165845938986738\n",
            "('9_3', 'Century') R2 - SCORE :  0.01035774222402086\n",
            "('9_3', 'GTO') R2 - SCORE :  0.01103032571408935\n",
            "('9_3', 'Classic') R2 - SCORE :  0.017497596714485475\n",
            "('9_3', 'XLR-V8') R2 - SCORE :  0.20270953411491832\n",
            "('9_3', 'STS-V8') R2 - SCORE :  0.05843718985345714\n",
            "('9_3', 'STS-V6') R2 - SCORE :  0.058895200323509145\n",
            "('9_3', 'CTS') R2 - SCORE :  0.017219598889482324\n",
            "('9_3', 'CST-V') R2 - SCORE :  0.12499847995910185\n",
            "('9_3', 'L Series') R2 - SCORE :  0.009871360981273503\n",
            "('9_3', '9-2X AWD') R2 - SCORE :  0.008594040086367105\n",
            "('9_5 HO', 'G6') R2 - SCORE :  0.00046473661302592895\n",
            "('9_5 HO', 'Grand Am') R2 - SCORE :  0.005178598505905629\n",
            "('9_5 HO', 'Park Avenue') R2 - SCORE :  0.002254902115608415\n",
            "('9_5 HO', 'Sunfire') R2 - SCORE :  0.013258383697088982\n",
            "('9_5 HO', 'Century') R2 - SCORE :  0.0024483732116210577\n",
            "('9_5 HO', 'GTO') R2 - SCORE :  0.0028554469508824676\n",
            "('9_5 HO', 'Classic') R2 - SCORE :  0.009591473990572474\n",
            "('9_5 HO', 'XLR-V8') R2 - SCORE :  0.1939655566564471\n",
            "('9_5 HO', 'STS-V8') R2 - SCORE :  0.05004257946309987\n",
            "('9_5 HO', 'STS-V6') R2 - SCORE :  0.050696193076067986\n",
            "('9_5 HO', 'CTS') R2 - SCORE :  0.00904825495257\n",
            "('9_5 HO', 'CST-V') R2 - SCORE :  0.11672259498910686\n",
            "('9_5 HO', 'L Series') R2 - SCORE :  0.0019508381744837155\n",
            "('9_5 HO', '9-2X AWD') R2 - SCORE :  0.0005610183044868489\n",
            "('G6', 'Grand Am') R2 - SCORE :  -0.0003796657678938331\n",
            "('G6', 'Park Avenue') R2 - SCORE :  -0.003930974445367941\n",
            "('G6', 'Sunfire') R2 - SCORE :  0.008085036520311117\n",
            "('G6', 'Century') R2 - SCORE :  -0.0032448970154592693\n",
            "('G6', 'GTO') R2 - SCORE :  -0.003119223199209653\n",
            "('G6', 'Classic') R2 - SCORE :  0.004251120716802892\n",
            "('G6', 'XLR-V8') R2 - SCORE :  0.1864352978569418\n",
            "('G6', 'STS-V8') R2 - SCORE :  0.04334344314464411\n",
            "('G6', 'STS-V6') R2 - SCORE :  0.043560152457606804\n",
            "('G6', 'CTS') R2 - SCORE :  0.0028333009524660335\n",
            "('G6', 'CST-V') R2 - SCORE :  0.10889350716736446\n",
            "('G6', 'L Series') R2 - SCORE :  -0.0037553836987476164\n",
            "('G6', '9-2X AWD') R2 - SCORE :  -0.005357362128279641\n",
            "('Grand Am', 'Park Avenue') R2 - SCORE :  0.0006773803750930174\n",
            "('Grand Am', 'Sunfire') R2 - SCORE :  0.013130714110732078\n",
            "('Grand Am', 'Century') R2 - SCORE :  0.001502098157588061\n",
            "('Grand Am', 'GTO') R2 - SCORE :  0.0016535502628000076\n",
            "('Grand Am', 'Classic') R2 - SCORE :  0.00919936621535511\n",
            "('Grand Am', 'XLR-V8') R2 - SCORE :  0.1906923471934553\n",
            "('Grand Am', 'STS-V8') R2 - SCORE :  0.04785681817122078\n",
            "('Grand Am', 'STS-V6') R2 - SCORE :  0.04771341226435766\n",
            "('Grand Am', 'CTS') R2 - SCORE :  0.007473171415638302\n",
            "('Grand Am', 'CST-V') R2 - SCORE :  0.11271535659100551\n",
            "('Grand Am', 'L Series') R2 - SCORE :  0.0009924299986584506\n",
            "('Grand Am', '9-2X AWD') R2 - SCORE :  -0.0006456378742347724\n",
            "('Park Avenue', 'Sunfire') R2 - SCORE :  0.009092920758506096\n",
            "('Park Avenue', 'Century') R2 - SCORE :  -0.0020157115384638047\n",
            "('Park Avenue', 'GTO') R2 - SCORE :  -0.00152783983394289\n",
            "('Park Avenue', 'Classic') R2 - SCORE :  0.005328314907584009\n",
            "('Park Avenue', 'XLR-V8') R2 - SCORE :  0.18921098356718613\n",
            "('Park Avenue', 'STS-V8') R2 - SCORE :  0.045442651130366274\n",
            "('Park Avenue', 'STS-V6') R2 - SCORE :  0.04566037255360922\n",
            "('Park Avenue', 'CTS') R2 - SCORE :  0.004522015946941571\n",
            "('Park Avenue', 'CST-V') R2 - SCORE :  0.11135516945145796\n",
            "('Park Avenue', 'L Series') R2 - SCORE :  -0.002510576557798405\n",
            "('Park Avenue', '9-2X AWD') R2 - SCORE :  -0.0039187683384793726\n",
            "('Sunfire', 'Century') R2 - SCORE :  0.010084758177745012\n",
            "('Sunfire', 'GTO') R2 - SCORE :  0.009843591229881099\n",
            "('Sunfire', 'Classic') R2 - SCORE :  0.01764672131318734\n",
            "('Sunfire', 'XLR-V8') R2 - SCORE :  0.1984199898811594\n",
            "('Sunfire', 'STS-V8') R2 - SCORE :  0.055906976575284095\n",
            "('Sunfire', 'STS-V6') R2 - SCORE :  0.05626962664064061\n",
            "('Sunfire', 'CTS') R2 - SCORE :  0.0157539471761331\n",
            "('Sunfire', 'CST-V') R2 - SCORE :  0.12137286857511365\n",
            "('Sunfire', 'L Series') R2 - SCORE :  0.0095585441705629\n",
            "('Sunfire', '9-2X AWD') R2 - SCORE :  0.007779271551697442\n",
            "('Century', 'GTO') R2 - SCORE :  -0.0011387783412895036\n",
            "('Century', 'Classic') R2 - SCORE :  0.006223380184795291\n",
            "('Century', 'XLR-V8') R2 - SCORE :  0.18834560125612831\n",
            "('Century', 'STS-V8') R2 - SCORE :  0.045285554561200536\n",
            "('Century', 'STS-V6') R2 - SCORE :  0.045361240314341966\n",
            "('Century', 'CTS') R2 - SCORE :  0.004773807488636428\n",
            "('Century', 'CST-V') R2 - SCORE :  0.1106063812374034\n",
            "('Century', 'L Series') R2 - SCORE :  -0.001835747814701305\n",
            "('Century', '9-2X AWD') R2 - SCORE :  -0.0034231580734969125\n",
            "('GTO', 'Classic') R2 - SCORE :  0.006121601696012724\n",
            "('GTO', 'XLR-V8') R2 - SCORE :  0.18960200903530655\n",
            "('GTO', 'STS-V8') R2 - SCORE :  0.046036659221395104\n",
            "('GTO', 'STS-V6') R2 - SCORE :  0.046570065194551646\n",
            "('GTO', 'CTS') R2 - SCORE :  0.0052455964701546565\n",
            "('GTO', 'CST-V') R2 - SCORE :  0.11234079799531105\n",
            "('GTO', 'L Series') R2 - SCORE :  -0.0016422092585874903\n",
            "('GTO', '9-2X AWD') R2 - SCORE :  -0.0031195549364886332\n",
            "('Classic', 'XLR-V8') R2 - SCORE :  0.1949859739206259\n",
            "('Classic', 'STS-V8') R2 - SCORE :  0.05229885062687323\n",
            "('Classic', 'STS-V6') R2 - SCORE :  0.05256478492603989\n",
            "('Classic', 'CTS') R2 - SCORE :  0.012031225129030876\n",
            "('Classic', 'CST-V') R2 - SCORE :  0.11771028314905607\n",
            "('Classic', 'L Series') R2 - SCORE :  0.005703136743087978\n",
            "('Classic', '9-2X AWD') R2 - SCORE :  0.003985474671708844\n",
            "('XLR-V8', 'STS-V8') R2 - SCORE :  0.238202676530622\n",
            "('XLR-V8', 'STS-V6') R2 - SCORE :  0.23916558397898702\n",
            "('XLR-V8', 'CTS') R2 - SCORE :  0.1961397808588552\n",
            "('XLR-V8', 'CST-V') R2 - SCORE :  0.3063073219963598\n",
            "('XLR-V8', 'L Series') R2 - SCORE :  0.18788523159203108\n",
            "('XLR-V8', '9-2X AWD') R2 - SCORE :  0.18698047974383747\n",
            "('STS-V8', 'STS-V6') R2 - SCORE :  0.09431047385522462\n",
            "('STS-V8', 'CTS') R2 - SCORE :  0.05231188734783798\n",
            "('STS-V8', 'CST-V') R2 - SCORE :  0.1606454040729277\n",
            "('STS-V8', 'L Series') R2 - SCORE :  0.04480284216796582\n",
            "('STS-V8', '9-2X AWD') R2 - SCORE :  0.0435908610932616\n",
            "('STS-V6', 'CTS') R2 - SCORE :  0.05270094674793868\n",
            "('STS-V6', 'CST-V') R2 - SCORE :  0.16036634082135637\n",
            "('STS-V6', 'L Series') R2 - SCORE :  0.04489723432481951\n",
            "('STS-V6', '9-2X AWD') R2 - SCORE :  0.04383057568799131\n",
            "('CTS', 'CST-V') R2 - SCORE :  0.11853013850650496\n",
            "('CTS', 'L Series') R2 - SCORE :  0.004278656823925586\n",
            "('CTS', '9-2X AWD') R2 - SCORE :  0.002885827016144815\n",
            "('CST-V', 'L Series') R2 - SCORE :  0.11016484583440411\n",
            "('CST-V', '9-2X AWD') R2 - SCORE :  0.10934355288303221\n",
            "('L Series', '9-2X AWD') R2 - SCORE :  -0.003925777127737673\n"
          ]
        }
      ]
    },
    {
      "cell_type": "markdown",
      "source": [
        "Type"
      ],
      "metadata": {
        "id": "R587j0rCgzqM"
      }
    },
    {
      "cell_type": "code",
      "source": [
        "df['Type'].value_counts()"
      ],
      "metadata": {
        "colab": {
          "base_uri": "https://localhost:8080/"
        },
        "id": "AxZMBw1hgscD",
        "outputId": "90e96b14-f9f7-428c-d7f1-4e53567281cd"
      },
      "execution_count": 85,
      "outputs": [
        {
          "output_type": "execute_result",
          "data": {
            "text/plain": [
              "Sedan          490\n",
              "Coupe          140\n",
              "Wagon           64\n",
              "Hatchback       60\n",
              "Convertible     50\n",
              "Name: Type, dtype: int64"
            ]
          },
          "metadata": {},
          "execution_count": 85
        }
      ]
    },
    {
      "cell_type": "code",
      "source": [
        "df3 = pd.get_dummies(df['Type'])"
      ],
      "metadata": {
        "id": "Li-w0MstgsYZ"
      },
      "execution_count": 86,
      "outputs": []
    },
    {
      "cell_type": "code",
      "source": [
        "df3.head()"
      ],
      "metadata": {
        "colab": {
          "base_uri": "https://localhost:8080/",
          "height": 206
        },
        "id": "N3X1OqA8gsWF",
        "outputId": "ada78681-0e87-4bbe-c53a-bd0625f19627"
      },
      "execution_count": 87,
      "outputs": [
        {
          "output_type": "execute_result",
          "data": {
            "text/plain": [
              "   Convertible  Coupe  Hatchback  Sedan  Wagon\n",
              "0            0      0          0      1      0\n",
              "1            0      0          0      1      0\n",
              "2            0      0          0      1      0\n",
              "3            0      0          0      1      0\n",
              "4            0      0          0      1      0"
            ],
            "text/html": [
              "\n",
              "  <div id=\"df-c4d3459c-6c96-4406-bebe-1496d0ee7674\">\n",
              "    <div class=\"colab-df-container\">\n",
              "      <div>\n",
              "<style scoped>\n",
              "    .dataframe tbody tr th:only-of-type {\n",
              "        vertical-align: middle;\n",
              "    }\n",
              "\n",
              "    .dataframe tbody tr th {\n",
              "        vertical-align: top;\n",
              "    }\n",
              "\n",
              "    .dataframe thead th {\n",
              "        text-align: right;\n",
              "    }\n",
              "</style>\n",
              "<table border=\"1\" class=\"dataframe\">\n",
              "  <thead>\n",
              "    <tr style=\"text-align: right;\">\n",
              "      <th></th>\n",
              "      <th>Convertible</th>\n",
              "      <th>Coupe</th>\n",
              "      <th>Hatchback</th>\n",
              "      <th>Sedan</th>\n",
              "      <th>Wagon</th>\n",
              "    </tr>\n",
              "  </thead>\n",
              "  <tbody>\n",
              "    <tr>\n",
              "      <th>0</th>\n",
              "      <td>0</td>\n",
              "      <td>0</td>\n",
              "      <td>0</td>\n",
              "      <td>1</td>\n",
              "      <td>0</td>\n",
              "    </tr>\n",
              "    <tr>\n",
              "      <th>1</th>\n",
              "      <td>0</td>\n",
              "      <td>0</td>\n",
              "      <td>0</td>\n",
              "      <td>1</td>\n",
              "      <td>0</td>\n",
              "    </tr>\n",
              "    <tr>\n",
              "      <th>2</th>\n",
              "      <td>0</td>\n",
              "      <td>0</td>\n",
              "      <td>0</td>\n",
              "      <td>1</td>\n",
              "      <td>0</td>\n",
              "    </tr>\n",
              "    <tr>\n",
              "      <th>3</th>\n",
              "      <td>0</td>\n",
              "      <td>0</td>\n",
              "      <td>0</td>\n",
              "      <td>1</td>\n",
              "      <td>0</td>\n",
              "    </tr>\n",
              "    <tr>\n",
              "      <th>4</th>\n",
              "      <td>0</td>\n",
              "      <td>0</td>\n",
              "      <td>0</td>\n",
              "      <td>1</td>\n",
              "      <td>0</td>\n",
              "    </tr>\n",
              "  </tbody>\n",
              "</table>\n",
              "</div>\n",
              "      <button class=\"colab-df-convert\" onclick=\"convertToInteractive('df-c4d3459c-6c96-4406-bebe-1496d0ee7674')\"\n",
              "              title=\"Convert this dataframe to an interactive table.\"\n",
              "              style=\"display:none;\">\n",
              "        \n",
              "  <svg xmlns=\"http://www.w3.org/2000/svg\" height=\"24px\"viewBox=\"0 0 24 24\"\n",
              "       width=\"24px\">\n",
              "    <path d=\"M0 0h24v24H0V0z\" fill=\"none\"/>\n",
              "    <path d=\"M18.56 5.44l.94 2.06.94-2.06 2.06-.94-2.06-.94-.94-2.06-.94 2.06-2.06.94zm-11 1L8.5 8.5l.94-2.06 2.06-.94-2.06-.94L8.5 2.5l-.94 2.06-2.06.94zm10 10l.94 2.06.94-2.06 2.06-.94-2.06-.94-.94-2.06-.94 2.06-2.06.94z\"/><path d=\"M17.41 7.96l-1.37-1.37c-.4-.4-.92-.59-1.43-.59-.52 0-1.04.2-1.43.59L10.3 9.45l-7.72 7.72c-.78.78-.78 2.05 0 2.83L4 21.41c.39.39.9.59 1.41.59.51 0 1.02-.2 1.41-.59l7.78-7.78 2.81-2.81c.8-.78.8-2.07 0-2.86zM5.41 20L4 18.59l7.72-7.72 1.47 1.35L5.41 20z\"/>\n",
              "  </svg>\n",
              "      </button>\n",
              "      \n",
              "  <style>\n",
              "    .colab-df-container {\n",
              "      display:flex;\n",
              "      flex-wrap:wrap;\n",
              "      gap: 12px;\n",
              "    }\n",
              "\n",
              "    .colab-df-convert {\n",
              "      background-color: #E8F0FE;\n",
              "      border: none;\n",
              "      border-radius: 50%;\n",
              "      cursor: pointer;\n",
              "      display: none;\n",
              "      fill: #1967D2;\n",
              "      height: 32px;\n",
              "      padding: 0 0 0 0;\n",
              "      width: 32px;\n",
              "    }\n",
              "\n",
              "    .colab-df-convert:hover {\n",
              "      background-color: #E2EBFA;\n",
              "      box-shadow: 0px 1px 2px rgba(60, 64, 67, 0.3), 0px 1px 3px 1px rgba(60, 64, 67, 0.15);\n",
              "      fill: #174EA6;\n",
              "    }\n",
              "\n",
              "    [theme=dark] .colab-df-convert {\n",
              "      background-color: #3B4455;\n",
              "      fill: #D2E3FC;\n",
              "    }\n",
              "\n",
              "    [theme=dark] .colab-df-convert:hover {\n",
              "      background-color: #434B5C;\n",
              "      box-shadow: 0px 1px 3px 1px rgba(0, 0, 0, 0.15);\n",
              "      filter: drop-shadow(0px 1px 2px rgba(0, 0, 0, 0.3));\n",
              "      fill: #FFFFFF;\n",
              "    }\n",
              "  </style>\n",
              "\n",
              "      <script>\n",
              "        const buttonEl =\n",
              "          document.querySelector('#df-c4d3459c-6c96-4406-bebe-1496d0ee7674 button.colab-df-convert');\n",
              "        buttonEl.style.display =\n",
              "          google.colab.kernel.accessAllowed ? 'block' : 'none';\n",
              "\n",
              "        async function convertToInteractive(key) {\n",
              "          const element = document.querySelector('#df-c4d3459c-6c96-4406-bebe-1496d0ee7674');\n",
              "          const dataTable =\n",
              "            await google.colab.kernel.invokeFunction('convertToInteractive',\n",
              "                                                     [key], {});\n",
              "          if (!dataTable) return;\n",
              "\n",
              "          const docLinkHtml = 'Like what you see? Visit the ' +\n",
              "            '<a target=\"_blank\" href=https://colab.research.google.com/notebooks/data_table.ipynb>data table notebook</a>'\n",
              "            + ' to learn more about interactive tables.';\n",
              "          element.innerHTML = '';\n",
              "          dataTable['output_type'] = 'display_data';\n",
              "          await google.colab.output.renderOutput(dataTable, element);\n",
              "          const docLink = document.createElement('div');\n",
              "          docLink.innerHTML = docLinkHtml;\n",
              "          element.appendChild(docLink);\n",
              "        }\n",
              "      </script>\n",
              "    </div>\n",
              "  </div>\n",
              "  "
            ]
          },
          "metadata": {},
          "execution_count": 87
        }
      ]
    },
    {
      "cell_type": "code",
      "source": [
        "for i in list(combinations(['Sedan', 'Coupe', 'Wagon', 'Hatchback', 'Convertible'],2)):\n",
        "  # feature and target\n",
        "  X = df3[list(i)].values\n",
        "  y = df['Price'].values\n",
        "  # split\n",
        "  X_train, X_test, y_train, y_test = train_test_split(X, y, test_size=0.3, random_state = 555)\n",
        "  # scale\n",
        "  scaler = StandardScaler()\n",
        "  scaler.fit(X_train)\n",
        "  X_train_scaled = scaler.transform(X_train)\n",
        "  X_test_scaled = scaler.transform(X_test)\n",
        "  # model\n",
        "  regressor = LinearRegression() \n",
        "  regressor.fit(X_train_scaled, y_train)\n",
        "  # print('Co-efficient :', regressor.coef_ , 'Intercept :', regressor.intercept_)\n",
        "  # Predict\n",
        "  y_pred = regressor.predict(X_test_scaled)\n",
        "  # Evaluation\n",
        "  print(i, 'R2 - SCORE : ', regressor.score(X_test_scaled,y_test))"
      ],
      "metadata": {
        "colab": {
          "base_uri": "https://localhost:8080/"
        },
        "id": "Nt_kT8SAg_ak",
        "outputId": "6def40a1-b5fd-474f-c47b-999159abea22"
      },
      "execution_count": 88,
      "outputs": [
        {
          "output_type": "stream",
          "name": "stdout",
          "text": [
            "('Sedan', 'Coupe') R2 - SCORE :  0.06801663300363014\n",
            "('Sedan', 'Wagon') R2 - SCORE :  -0.003338554443318875\n",
            "('Sedan', 'Hatchback') R2 - SCORE :  0.04268910454048502\n",
            "('Sedan', 'Convertible') R2 - SCORE :  0.2504292849140525\n",
            "('Coupe', 'Wagon') R2 - SCORE :  0.03155610080950699\n",
            "('Coupe', 'Hatchback') R2 - SCORE :  0.07782946678336133\n",
            "('Coupe', 'Convertible') R2 - SCORE :  0.24957854198437235\n",
            "('Wagon', 'Hatchback') R2 - SCORE :  0.030480973517909682\n",
            "('Wagon', 'Convertible') R2 - SCORE :  0.2423586953554948\n",
            "('Hatchback', 'Convertible') R2 - SCORE :  0.25674451929200304\n"
          ]
        }
      ]
    },
    {
      "cell_type": "code",
      "source": [
        "for i in list(combinations(['Sedan', 'Coupe', 'Wagon', 'Hatchback', 'Convertible'],3)):\n",
        "  # feature and target\n",
        "  X = df3[list(i)].values\n",
        "  y = df['Price'].values\n",
        "  # split\n",
        "  X_train, X_test, y_train, y_test = train_test_split(X, y, test_size=0.3, random_state = 555)\n",
        "  # scale\n",
        "  scaler = StandardScaler()\n",
        "  scaler.fit(X_train)\n",
        "  X_train_scaled = scaler.transform(X_train)\n",
        "  X_test_scaled = scaler.transform(X_test)\n",
        "  # model\n",
        "  regressor = LinearRegression() \n",
        "  regressor.fit(X_train_scaled, y_train)\n",
        "  # print('Co-efficient :', regressor.coef_ , 'Intercept :', regressor.intercept_)\n",
        "  # Predict\n",
        "  y_pred = regressor.predict(X_test_scaled)\n",
        "  # Evaluation\n",
        "  print(i, 'R2 - SCORE : ', regressor.score(X_test_scaled,y_test))"
      ],
      "metadata": {
        "colab": {
          "base_uri": "https://localhost:8080/"
        },
        "id": "O_grSde-haA1",
        "outputId": "97ff7a89-5037-4518-e02d-cfc7311f7a29"
      },
      "execution_count": 89,
      "outputs": [
        {
          "output_type": "stream",
          "name": "stdout",
          "text": [
            "('Sedan', 'Coupe', 'Wagon') R2 - SCORE :  0.07651270806306065\n",
            "('Sedan', 'Coupe', 'Hatchback') R2 - SCORE :  0.20065422955834433\n",
            "('Sedan', 'Coupe', 'Convertible') R2 - SCORE :  0.2512068712536061\n",
            "('Sedan', 'Wagon', 'Hatchback') R2 - SCORE :  0.04134989298249059\n",
            "('Sedan', 'Wagon', 'Convertible') R2 - SCORE :  0.27969172609069615\n",
            "('Sedan', 'Hatchback', 'Convertible') R2 - SCORE :  0.26342137041601954\n",
            "('Coupe', 'Wagon', 'Hatchback') R2 - SCORE :  0.07746768917318148\n",
            "('Coupe', 'Wagon', 'Convertible') R2 - SCORE :  0.25588724776601435\n",
            "('Coupe', 'Hatchback', 'Convertible') R2 - SCORE :  0.28024137760184054\n",
            "('Wagon', 'Hatchback', 'Convertible') R2 - SCORE :  0.2637076687961011\n"
          ]
        }
      ]
    },
    {
      "cell_type": "code",
      "source": [
        "for i in list(combinations(['Sedan', 'Coupe', 'Wagon', 'Hatchback', 'Convertible'],4)):\n",
        "  # feature and target\n",
        "  X = df3[list(i)].values\n",
        "  y = df['Price'].values\n",
        "  # split\n",
        "  X_train, X_test, y_train, y_test = train_test_split(X, y, test_size=0.3, random_state = 555)\n",
        "  # scale\n",
        "  scaler = StandardScaler()\n",
        "  scaler.fit(X_train)\n",
        "  X_train_scaled = scaler.transform(X_train)\n",
        "  X_test_scaled = scaler.transform(X_test)\n",
        "  # model\n",
        "  regressor = LinearRegression() \n",
        "  regressor.fit(X_train_scaled, y_train)\n",
        "  # print('Co-efficient :', regressor.coef_ , 'Intercept :', regressor.intercept_)\n",
        "  # Predict\n",
        "  y_pred = regressor.predict(X_test_scaled)\n",
        "  # Evaluation\n",
        "  print(i, 'R2 - SCORE : ', regressor.score(X_test_scaled,y_test))"
      ],
      "metadata": {
        "colab": {
          "base_uri": "https://localhost:8080/"
        },
        "id": "AYBiIDKQhfYr",
        "outputId": "ea85d682-ff0c-4d1b-96ed-184c5e2dee7a"
      },
      "execution_count": 90,
      "outputs": [
        {
          "output_type": "stream",
          "name": "stdout",
          "text": [
            "('Sedan', 'Coupe', 'Wagon', 'Hatchback') R2 - SCORE :  0.2837553496242623\n",
            "('Sedan', 'Coupe', 'Wagon', 'Convertible') R2 - SCORE :  0.28375534962426197\n",
            "('Sedan', 'Coupe', 'Hatchback', 'Convertible') R2 - SCORE :  0.28375534962426197\n",
            "('Sedan', 'Wagon', 'Hatchback', 'Convertible') R2 - SCORE :  0.28375534962426197\n",
            "('Coupe', 'Wagon', 'Hatchback', 'Convertible') R2 - SCORE :  0.28375534962426197\n"
          ]
        }
      ]
    },
    {
      "cell_type": "markdown",
      "source": [
        "As we can see from the above R2 scores calculated for Make, Model and Type after performing One Hot Encoder on those features, only Make shows some reasonable R2 scores to be considered for model training."
      ],
      "metadata": {
        "id": "kbT5-3O1rvg5"
      }
    }
  ]
}